{
  "nbformat": 4,
  "nbformat_minor": 0,
  "metadata": {
    "colab": {
      "provenance": [],
      "authorship_tag": "ABX9TyNihqZdf5DnCfEWAsVwYtqJ",
      "include_colab_link": true
    },
    "kernelspec": {
      "name": "python3",
      "display_name": "Python 3"
    },
    "language_info": {
      "name": "python"
    }
  },
  "cells": [
    {
      "cell_type": "markdown",
      "metadata": {
        "id": "view-in-github",
        "colab_type": "text"
      },
      "source": [
        "<a href=\"https://colab.research.google.com/github/andrewwells991/mds_thesis/blob/main/10_data_splitting.ipynb\" target=\"_parent\"><img src=\"https://colab.research.google.com/assets/colab-badge.svg\" alt=\"Open In Colab\"/></a>"
      ]
    },
    {
      "cell_type": "code",
      "source": [
        "from google.colab import drive\n",
        "drive.mount('/content/gdrive')"
      ],
      "metadata": {
        "colab": {
          "base_uri": "https://localhost:8080/"
        },
        "id": "owT6ENAnO2Dj",
        "outputId": "2bf1aec2-0602-4200-de8e-5c82f145250c"
      },
      "execution_count": null,
      "outputs": [
        {
          "output_type": "stream",
          "name": "stdout",
          "text": [
            "Mounted at /content/gdrive\n"
          ]
        }
      ]
    },
    {
      "cell_type": "markdown",
      "source": [
        "##Load packages and data"
      ],
      "metadata": {
        "id": "v2Dnb-RDUEVj"
      }
    },
    {
      "cell_type": "code",
      "source": [
        "import pandas as pd\n",
        "import numpy as np\n",
        "from sklearn.model_selection import train_test_split"
      ],
      "metadata": {
        "id": "fwZI_axDNGeM"
      },
      "execution_count": null,
      "outputs": []
    },
    {
      "cell_type": "code",
      "source": [
        "#Labeled dataset\n",
        "data = '/content/gdrive/MyDrive/mds_thesis/5_labelled_data/proj_all.csv'\n",
        "df = pd.read_csv(data)"
      ],
      "metadata": {
        "colab": {
          "base_uri": "https://localhost:8080/"
        },
        "id": "BJvdMCnRNQbr",
        "outputId": "a4da75fa-9f8b-4ddc-cb33-71bda76ef96c"
      },
      "execution_count": null,
      "outputs": [
        {
          "output_type": "stream",
          "name": "stderr",
          "text": [
            "<ipython-input-4-be426ea02bee>:3: DtypeWarning: Columns (8,14) have mixed types. Specify dtype option on import or set low_memory=False.\n",
            "  df = pd.read_csv(data)\n"
          ]
        }
      ]
    },
    {
      "cell_type": "markdown",
      "source": [
        "##Split and process data"
      ],
      "metadata": {
        "id": "vJ4UHGn-VGnx"
      }
    },
    {
      "cell_type": "code",
      "source": [
        "#Setting variables\n",
        "feature_names = ['B2', 'B3', 'B4', 'B8', 'B11', 'B12', 'longitude', 'latitude']\n",
        "label = \"building\"\n",
        "\n",
        "X = df[feature_names]\n",
        "y = df[label]"
      ],
      "metadata": {
        "id": "BOogBqovNuZL"
      },
      "execution_count": null,
      "outputs": []
    },
    {
      "cell_type": "code",
      "source": [
        "# Split the data into training and test sets\n",
        "X_train, X_test, y_train, y_test = train_test_split(X, y, test_size = 0.2, random_state = 42)"
      ],
      "metadata": {
        "id": "UWmWFzwmLyQc"
      },
      "execution_count": null,
      "outputs": []
    },
    {
      "cell_type": "code",
      "source": [
        "#Combine training data\n",
        "df_train = pd.concat([X_train, y_train], axis=1)\n",
        "\n",
        "#Combine test data\n",
        "df_test = pd.concat([X_test, y_test], axis=1)"
      ],
      "metadata": {
        "id": "5xc8TxKROsMK"
      },
      "execution_count": null,
      "outputs": []
    },
    {
      "cell_type": "markdown",
      "source": [
        "##Saving unbalanced training, test data to Drive"
      ],
      "metadata": {
        "id": "gDklGWT0MSQD"
      }
    },
    {
      "cell_type": "code",
      "source": [
        "#Saving training data to Drive\n",
        "\n",
        "path = '/content/gdrive/My Drive/mds_thesis/6_split_data/df_train.csv'\n",
        "\n",
        "with open(path, 'w', encoding = 'utf-8-sig') as f:  \n",
        "  df_train.to_csv(f)"
      ],
      "metadata": {
        "id": "qoHO_IKCL9nF"
      },
      "execution_count": null,
      "outputs": []
    },
    {
      "cell_type": "code",
      "source": [
        "#Saving test data to Drive\n",
        "\n",
        "path = '/content/gdrive/My Drive/mds_thesis/6_split_data/df_test.csv'\n",
        "\n",
        "with open(path, 'w', encoding = 'utf-8-sig') as f:  \n",
        "  df_test.to_csv(f)"
      ],
      "metadata": {
        "id": "Xdx-aIOKPHOr"
      },
      "execution_count": null,
      "outputs": []
    },
    {
      "cell_type": "markdown",
      "source": [
        "##Over-sampling data"
      ],
      "metadata": {
        "id": "8T0KLJb5VW_x"
      }
    },
    {
      "cell_type": "code",
      "source": [
        "# class count\n",
        "class_count_0, class_count_1 = df['building'].value_counts()\n",
        "\n",
        "# Separate class\n",
        "class_0 = df[df['building'] == 0]\n",
        "class_1 = df[df['building'] == 1]# print the shape of the class\n",
        "\n",
        "#Random Over Sampling\n",
        "class_1_over = class_1.sample(class_count_0, replace=True)\n",
        "\n",
        "df_over = pd.concat([class_1_over, class_0], axis=0)\n",
        "\n",
        "print(\"total class of 1 and 0:\",df_over['building'].value_counts())# plot the count after under-sampeling\n",
        "ax = df_over['building'].value_counts().plot(kind='bar', title='Count pixels (building = 0 / 1)', color=['mediumturquoise'])\n",
        "\n",
        "ax.ticklabel_format(style='plain', axis='y')\n",
        "ax.set_xticklabels(ax.get_xticklabels(), rotation=45)"
      ],
      "metadata": {
        "colab": {
          "base_uri": "https://localhost:8080/",
          "height": 528
        },
        "id": "nQJEH_KiVVCo",
        "outputId": "dea6e6c2-745f-4adf-a8dd-92d60f81b67f"
      },
      "execution_count": null,
      "outputs": [
        {
          "output_type": "stream",
          "name": "stdout",
          "text": [
            "total class of 1 and 0: 1    1604276\n",
            "0    1604276\n",
            "Name: building, dtype: int64\n"
          ]
        },
        {
          "output_type": "execute_result",
          "data": {
            "text/plain": [
              "[Text(0, 0, '1'), Text(1, 0, '0')]"
            ]
          },
          "metadata": {},
          "execution_count": 11
        },
        {
          "output_type": "display_data",
          "data": {
            "text/plain": [
              "<Figure size 640x480 with 1 Axes>"
            ],
            "image/png": "[encoded data removed]"
          },
          "metadata": {}
        }
      ]
    },
    {
      "cell_type": "markdown",
      "source": [
        "##Splitting over-sampled data"
      ],
      "metadata": {
        "id": "IsssuowlVgKX"
      }
    },
    {
      "cell_type": "code",
      "source": [
        "X_over = df_over[feature_names]\n",
        "y_over = df_over[label]\n",
        "\n",
        "# Split the data into training and test sets\n",
        "X_train_over, X_test_over, y_train_over, y_test_over = train_test_split(X_over, y_over, test_size = 0.2, random_state = 42)"
      ],
      "metadata": {
        "id": "Bux0VdrKVewz"
      },
      "execution_count": null,
      "outputs": []
    },
    {
      "cell_type": "code",
      "source": [
        "#Combine training data\n",
        "df_train_over = pd.concat([X_train_over, y_train_over], axis=1)\n",
        "\n",
        "#Combine test data\n",
        "df_test_over = pd.concat([X_test_over, y_test_over], axis=1)"
      ],
      "metadata": {
        "id": "Cex7-SeKV3jF"
      },
      "execution_count": null,
      "outputs": []
    },
    {
      "cell_type": "markdown",
      "source": [
        "##Saving over-sampled training, test data to Drive"
      ],
      "metadata": {
        "id": "SD_mous_WCfv"
      }
    },
    {
      "cell_type": "code",
      "source": [
        "#Saving training data to Drive\n",
        "\n",
        "path = '/content/gdrive/My Drive/mds_thesis/6_split_data/df_train_over.csv'\n",
        "\n",
        "with open(path, 'w', encoding = 'utf-8-sig') as f:  \n",
        "  df_train_over.to_csv(f)"
      ],
      "metadata": {
        "id": "56WSo-fmWGEW"
      },
      "execution_count": null,
      "outputs": []
    },
    {
      "cell_type": "code",
      "source": [
        "#Saving test data to Drive\n",
        "\n",
        "path = '/content/gdrive/My Drive/mds_thesis/6_split_data/df_test_over.csv'\n",
        "\n",
        "with open(path, 'w', encoding = 'utf-8-sig') as f:  \n",
        "  df_test_over.to_csv(f)"
      ],
      "metadata": {
        "id": "-Qo0yJupWLSI"
      },
      "execution_count": null,
      "outputs": []
    },
    {
      "cell_type": "markdown",
      "source": [
        "##Splitting urban data (oversampled)"
      ],
      "metadata": {
        "id": "TAscqXQMRBrc"
      }
    },
    {
      "cell_type": "code",
      "source": [
        "df_urban = df[df['urban_rural'] == 'urban']"
      ],
      "metadata": {
        "id": "u5WcgYwMRAza"
      },
      "execution_count": null,
      "outputs": []
    },
    {
      "cell_type": "code",
      "source": [
        "print(df_urban.shape)\n",
        "print(sum(df_urban['building']))"
      ],
      "metadata": {
        "colab": {
          "base_uri": "https://localhost:8080/"
        },
        "id": "JpAKy7GdSkdH",
        "outputId": "a43caaeb-f5bf-4048-e705-833ea6c28b8e"
      },
      "execution_count": null,
      "outputs": [
        {
          "output_type": "stream",
          "name": "stdout",
          "text": [
            "(677204, 27)\n",
            "56337\n"
          ]
        }
      ]
    },
    {
      "cell_type": "code",
      "source": [
        "# class count\n",
        "class_count_0, class_count_1 = df_urban['building'].value_counts()\n",
        "\n",
        "# Separate class\n",
        "class_0 = df_urban[df_urban['building'] == 0]\n",
        "class_1 = df_urban[df_urban['building'] == 1]# print the shape of the class\n",
        "\n",
        "#Random Over Sampling\n",
        "class_1_over = class_1.sample(class_count_0, replace=True)\n",
        "\n",
        "df_urban_over = pd.concat([class_1_over, class_0], axis=0)\n",
        "\n",
        "print(\"total class of 1 and 0:\",df_urban_over['building'].value_counts())\n",
        "\n",
        "ax = df_urban_over['building'].value_counts().plot(kind='bar', title='Urban over-sampled count pixels (building = 0 / 1)', color=['mediumturquoise'])\n",
        "\n",
        "ax.ticklabel_format(style='plain', axis='y')\n",
        "ax.set_xticklabels(ax.get_xticklabels(), rotation=45)"
      ],
      "metadata": {
        "id": "HZn0gzhJRprO",
        "colab": {
          "base_uri": "https://localhost:8080/",
          "height": 528
        },
        "outputId": "13c04b4f-e08c-4ab2-c135-a564a1783c7f"
      },
      "execution_count": null,
      "outputs": [
        {
          "output_type": "stream",
          "name": "stdout",
          "text": [
            "total class of 1 and 0: 1    620867\n",
            "0    620867\n",
            "Name: building, dtype: int64\n"
          ]
        },
        {
          "output_type": "execute_result",
          "data": {
            "text/plain": [
              "[Text(0, 0, '1'), Text(1, 0, '0')]"
            ]
          },
          "metadata": {},
          "execution_count": 18
        },
        {
          "output_type": "display_data",
          "data": {
            "text/plain": [
              "<Figure size 640x480 with 1 Axes>"
            ],
            "image/png": "[encoded data removed]"
          },
          "metadata": {}
        }
      ]
    },
    {
      "cell_type": "markdown",
      "source": [
        "##Splitting over-sampled urban data"
      ],
      "metadata": {
        "id": "-KZ5aufzTzy5"
      }
    },
    {
      "cell_type": "code",
      "source": [
        "X_over = df_urban_over[feature_names]\n",
        "y_over = df_urban_over[label]\n",
        "\n",
        "# Split the data into training and test sets\n",
        "X_train_over, X_test_over, y_train_over, y_test_over = train_test_split(X_over, y_over, test_size = 0.2, random_state = 42)"
      ],
      "metadata": {
        "id": "nsgILDTBS9Lt"
      },
      "execution_count": null,
      "outputs": []
    },
    {
      "cell_type": "code",
      "source": [
        "#Combine training data\n",
        "df_urban_train_over = pd.concat([X_train_over, y_train_over], axis=1)\n",
        "\n",
        "#Combine test data\n",
        "df_urban_test_over = pd.concat([X_test_over, y_test_over], axis=1)"
      ],
      "metadata": {
        "id": "BxFpeYncTIhl"
      },
      "execution_count": null,
      "outputs": []
    },
    {
      "cell_type": "code",
      "source": [
        "print(df_urban_train_over.shape)\n",
        "print(df_urban_test_over.shape)"
      ],
      "metadata": {
        "colab": {
          "base_uri": "https://localhost:8080/"
        },
        "id": "29Kf3p7CTRRb",
        "outputId": "182e06b3-c1ec-4523-f475-75bee698c0ae"
      },
      "execution_count": null,
      "outputs": [
        {
          "output_type": "stream",
          "name": "stdout",
          "text": [
            "(993387, 9)\n",
            "(248347, 9)\n"
          ]
        }
      ]
    },
    {
      "cell_type": "markdown",
      "source": [
        "##Saving urban over-sampled training, test data to Drive"
      ],
      "metadata": {
        "id": "MwHcOHFBUBJh"
      }
    },
    {
      "cell_type": "code",
      "source": [
        "#Saving training data to Drive\n",
        "\n",
        "path = '/content/gdrive/My Drive/mds_thesis/6_split_data/df_urban_train_over.csv'\n",
        "\n",
        "with open(path, 'w', encoding = 'utf-8-sig') as f:  \n",
        "  df_urban_train_over.to_csv(f)"
      ],
      "metadata": {
        "id": "WrSogZ5XUA3v"
      },
      "execution_count": null,
      "outputs": []
    },
    {
      "cell_type": "code",
      "source": [
        "#Saving test data to Drive\n",
        "\n",
        "path = '/content/gdrive/My Drive/mds_thesis/6_split_data/df_urban_test_over.csv'\n",
        "\n",
        "with open(path, 'w', encoding = 'utf-8-sig') as f:  \n",
        "  df_urban_test_over.to_csv(f)"
      ],
      "metadata": {
        "id": "LeFma7ikUC33"
      },
      "execution_count": null,
      "outputs": []
    },
    {
      "cell_type": "markdown",
      "source": [
        "##Splitting semi-urban data (oversampled)\n",
        "\n"
      ],
      "metadata": {
        "id": "GkVXcKoTbb4H"
      }
    },
    {
      "cell_type": "code",
      "source": [
        "df_semi_urban = df[df['urban_rural'] == 'semi_urban']"
      ],
      "metadata": {
        "id": "tgS8vFgDbbML"
      },
      "execution_count": null,
      "outputs": []
    },
    {
      "cell_type": "code",
      "source": [
        "print(df_semi_urban.shape)\n",
        "print(sum(df_semi_urban['building']))"
      ],
      "metadata": {
        "colab": {
          "base_uri": "https://localhost:8080/"
        },
        "id": "W8QXojPhblhZ",
        "outputId": "42b3f1d7-3303-4ba6-ce4c-103580da1f65"
      },
      "execution_count": null,
      "outputs": [
        {
          "output_type": "stream",
          "name": "stdout",
          "text": [
            "(637560, 27)\n",
            "11630\n"
          ]
        }
      ]
    },
    {
      "cell_type": "code",
      "source": [
        "# class count\n",
        "class_count_0, class_count_1 = df_semi_urban['building'].value_counts()\n",
        "\n",
        "# Separate class\n",
        "class_0 = df_semi_urban[df_semi_urban['building'] == 0]\n",
        "class_1 = df_semi_urban[df_semi_urban['building'] == 1]\n",
        "\n",
        "#Random Over Sampling\n",
        "class_1_over = class_1.sample(class_count_0, replace=True)\n",
        "\n",
        "df_semi_urban_over = pd.concat([class_1_over, class_0], axis=0)\n",
        "\n",
        "print(\"total class of 1 and 0:\",df_semi_urban_over['building'].value_counts())\n",
        "\n",
        "ax = df_semi_urban_over['building'].value_counts().plot(kind='bar', title='Semi-urban over-sampled count pixels (building = 0 / 1)', color=['mediumturquoise'])\n",
        "\n",
        "ax.ticklabel_format(style='plain', axis='y')\n",
        "ax.set_xticklabels(ax.get_xticklabels(), rotation=45)"
      ],
      "metadata": {
        "colab": {
          "base_uri": "https://localhost:8080/",
          "height": 528
        },
        "id": "nkPsGk6qbmBT",
        "outputId": "8b27dc41-1b3c-48cd-bb6a-db2363eefbe6"
      },
      "execution_count": null,
      "outputs": [
        {
          "output_type": "stream",
          "name": "stdout",
          "text": [
            "total class of 1 and 0: 1    625930\n",
            "0    625930\n",
            "Name: building, dtype: int64\n"
          ]
        },
        {
          "output_type": "execute_result",
          "data": {
            "text/plain": [
              "[Text(0, 0, '1'), Text(1, 0, '0')]"
            ]
          },
          "metadata": {},
          "execution_count": 26
        },
        {
          "output_type": "display_data",
          "data": {
            "text/plain": [
              "<Figure size 640x480 with 1 Axes>"
            ],
            "image/png": "[encoded data removed]"
          },
          "metadata": {}
        }
      ]
    },
    {
      "cell_type": "markdown",
      "source": [
        "##Splitting over-sampled semi-urban data"
      ],
      "metadata": {
        "id": "BmJnN3DOcKiN"
      }
    },
    {
      "cell_type": "code",
      "source": [
        "X_over = df_semi_urban_over[feature_names]\n",
        "y_over = df_semi_urban_over[label]\n",
        "\n",
        "# Split the data into training and test sets\n",
        "X_train_over, X_test_over, y_train_over, y_test_over = train_test_split(X_over, y_over, test_size = 0.2, random_state = 42)"
      ],
      "metadata": {
        "id": "8vw8PPJBcMzn"
      },
      "execution_count": null,
      "outputs": []
    },
    {
      "cell_type": "code",
      "source": [
        "#Combine training data\n",
        "df_semi_urban_train_over = pd.concat([X_train_over, y_train_over], axis=1)\n",
        "\n",
        "#Combine test data\n",
        "df_semi_urban_test_over = pd.concat([X_test_over, y_test_over], axis=1)"
      ],
      "metadata": {
        "id": "3yaIhg5QcYtu"
      },
      "execution_count": null,
      "outputs": []
    },
    {
      "cell_type": "code",
      "source": [
        "print(df_semi_urban_train_over.shape)\n",
        "print(df_semi_urban_test_over.shape)"
      ],
      "metadata": {
        "colab": {
          "base_uri": "https://localhost:8080/"
        },
        "id": "V-YMCUpgciiS",
        "outputId": "4de828df-8df2-4376-a01d-e6c8c1ef97a0"
      },
      "execution_count": null,
      "outputs": [
        {
          "output_type": "stream",
          "name": "stdout",
          "text": [
            "(1001488, 9)\n",
            "(250372, 9)\n"
          ]
        }
      ]
    },
    {
      "cell_type": "markdown",
      "source": [
        "##Saving semi-urban over-sampled training, test data to Drive"
      ],
      "metadata": {
        "id": "2qsYShT0cyCZ"
      }
    },
    {
      "cell_type": "code",
      "source": [
        "#Saving training data to Drive\n",
        "\n",
        "path = '/content/gdrive/My Drive/mds_thesis/6_split_data/df_semi_urban_train_over.csv'\n",
        "\n",
        "with open(path, 'w', encoding = 'utf-8-sig') as f:  \n",
        "  df_semi_urban_train_over.to_csv(f)"
      ],
      "metadata": {
        "id": "tXAQl0o-csIf"
      },
      "execution_count": null,
      "outputs": []
    },
    {
      "cell_type": "code",
      "source": [
        "#Saving test data to Drive\n",
        "\n",
        "path = '/content/gdrive/My Drive/mds_thesis/6_split_data/df_semi_urban_test_over.csv'\n",
        "\n",
        "with open(path, 'w', encoding = 'utf-8-sig') as f:  \n",
        "  df_semi_urban_test_over.to_csv(f)"
      ],
      "metadata": {
        "id": "ucCTJIXmcvQ8"
      },
      "execution_count": null,
      "outputs": []
    },
    {
      "cell_type": "markdown",
      "source": [
        "##Splitting rural data (oversampled)"
      ],
      "metadata": {
        "id": "tbzxTDw3g8zm"
      }
    },
    {
      "cell_type": "code",
      "source": [
        "df_rural = df[df['urban_rural'] == 'rural']"
      ],
      "metadata": {
        "id": "6kwkPXOXhIk_"
      },
      "execution_count": null,
      "outputs": []
    },
    {
      "cell_type": "code",
      "source": [
        "print(df_rural.shape)\n",
        "print(sum(df_rural['building']))"
      ],
      "metadata": {
        "colab": {
          "base_uri": "https://localhost:8080/"
        },
        "id": "xz4F2RZHhROr",
        "outputId": "5313836b-e854-473f-d23b-29a68ef999c4"
      },
      "execution_count": null,
      "outputs": [
        {
          "output_type": "stream",
          "name": "stdout",
          "text": [
            "(358770, 27)\n",
            "1291\n"
          ]
        }
      ]
    },
    {
      "cell_type": "code",
      "source": [
        "# class count\n",
        "class_count_0, class_count_1 = df_rural['building'].value_counts()\n",
        "\n",
        "# Separate class\n",
        "class_0 = df_rural[df_rural['building'] == 0]\n",
        "class_1 = df_rural[df_rural['building'] == 1]\n",
        "\n",
        "#Random Over Sampling\n",
        "class_1_over = class_1.sample(class_count_0, replace=True)\n",
        "\n",
        "df_rural_over = pd.concat([class_1_over, class_0], axis=0)\n",
        "\n",
        "print(\"total class of 1 and 0:\", df_rural_over['building'].value_counts())\n",
        "\n",
        "ax = df_rural_over['building'].value_counts().plot(kind='bar', title='Rural over-sampled count pixels (building = 0 / 1)', color=['mediumturquoise'])\n",
        "\n",
        "ax.ticklabel_format(style='plain', axis='y')\n",
        "ax.set_xticklabels(ax.get_xticklabels(), rotation=45)"
      ],
      "metadata": {
        "colab": {
          "base_uri": "https://localhost:8080/",
          "height": 528
        },
        "id": "9iEHOap3hZxu",
        "outputId": "d29a58f5-9ba3-4513-fb1f-efe0e2650f89"
      },
      "execution_count": null,
      "outputs": [
        {
          "output_type": "stream",
          "name": "stdout",
          "text": [
            "total class of 1 and 0: 1    357479\n",
            "0    357479\n",
            "Name: building, dtype: int64\n"
          ]
        },
        {
          "output_type": "execute_result",
          "data": {
            "text/plain": [
              "[Text(0, 0, '1'), Text(1, 0, '0')]"
            ]
          },
          "metadata": {},
          "execution_count": 34
        },
        {
          "output_type": "display_data",
          "data": {
            "text/plain": [
              "<Figure size 640x480 with 1 Axes>"
            ],
            "image/png": "[encoded data removed]"
          },
          "metadata": {}
        }
      ]
    },
    {
      "cell_type": "markdown",
      "source": [
        "##Splitting rural data (oversampled)"
      ],
      "metadata": {
        "id": "6-vtW2xyh__U"
      }
    },
    {
      "cell_type": "code",
      "source": [
        "X_over = df_rural_over[feature_names]\n",
        "y_over = df_rural_over[label]\n",
        "\n",
        "# Split the data into training and test sets\n",
        "X_train_over, X_test_over, y_train_over, y_test_over = train_test_split(X_over, y_over, test_size = 0.2, random_state = 42)"
      ],
      "metadata": {
        "id": "f5jmdE7YiChv"
      },
      "execution_count": null,
      "outputs": []
    },
    {
      "cell_type": "code",
      "source": [
        "#Combine training data\n",
        "df_rural_train_over = pd.concat([X_train_over, y_train_over], axis=1)\n",
        "\n",
        "#Combine test data\n",
        "df_rural_test_over = pd.concat([X_test_over, y_test_over], axis=1)"
      ],
      "metadata": {
        "id": "0sA8XMAhiH7H"
      },
      "execution_count": null,
      "outputs": []
    },
    {
      "cell_type": "code",
      "source": [
        "print(df_rural_train_over.shape)\n",
        "print(df_rural_test_over.shape)"
      ],
      "metadata": {
        "colab": {
          "base_uri": "https://localhost:8080/"
        },
        "id": "DwTJzHqbiJlE",
        "outputId": "a3ba8fb8-7134-4c90-bb69-c88f258d963b"
      },
      "execution_count": null,
      "outputs": [
        {
          "output_type": "stream",
          "name": "stdout",
          "text": [
            "(571966, 9)\n",
            "(142992, 9)\n"
          ]
        }
      ]
    },
    {
      "cell_type": "markdown",
      "source": [
        "##Saving rural over-sampled training, test data to Drive"
      ],
      "metadata": {
        "id": "qYc0Ql08kFvY"
      }
    },
    {
      "cell_type": "code",
      "source": [
        "#Saving training data to Drive\n",
        "\n",
        "path = '/content/gdrive/My Drive/mds_thesis/6_split_data/df_rural_train_over.csv'\n",
        "\n",
        "with open(path, 'w', encoding = 'utf-8-sig') as f:  \n",
        "  df_rural_train_over.to_csv(f)"
      ],
      "metadata": {
        "id": "Yl7LtaiJj_Zc"
      },
      "execution_count": null,
      "outputs": []
    },
    {
      "cell_type": "code",
      "source": [
        "#Saving test data to Drive\n",
        "\n",
        "path = '/content/gdrive/My Drive/mds_thesis/6_split_data/df_rural_test_over.csv'\n",
        "\n",
        "with open(path, 'w', encoding = 'utf-8-sig') as f:  \n",
        "  df_rural_test_over.to_csv(f)"
      ],
      "metadata": {
        "id": "xUKU6_OvkBzA"
      },
      "execution_count": null,
      "outputs": []
    },
    {
      "cell_type": "markdown",
      "source": [
        "##ADASYN"
      ],
      "metadata": {
        "id": "79B2hFvzNTuT"
      }
    },
    {
      "cell_type": "code",
      "source": [
        "from sklearn.preprocessing import StandardScaler\n",
        "from imblearn.over_sampling import ADASYN"
      ],
      "metadata": {
        "id": "H9saDXXQNWT7"
      },
      "execution_count": null,
      "outputs": []
    },
    {
      "cell_type": "code",
      "source": [
        "# Split the dataset\n",
        "X = df[['B2', 'B3', 'B4', 'B8', 'B11', 'B12']]\n",
        "y = df['building']\n",
        "\n",
        "X_train, X_test, y_train, y_test = train_test_split(X, y, test_size = 0.2, random_state = 42)"
      ],
      "metadata": {
        "id": "snAJWMLnNdKO"
      },
      "execution_count": null,
      "outputs": []
    },
    {
      "cell_type": "code",
      "source": [
        "# Rescale the data\n",
        "scaler = StandardScaler()\n",
        "X_train_scaled = scaler.fit_transform(X_train)\n",
        "X_test_scaled = scaler.transform(X_test)"
      ],
      "metadata": {
        "id": "27EP90lVNvTT"
      },
      "execution_count": null,
      "outputs": []
    },
    {
      "cell_type": "code",
      "source": [
        "# Apply ADASYN\n",
        "adasyn = ADASYN(random_state=42)\n",
        "X_train_balanced, y_train_balanced = adasyn.fit_resample(X_train_scaled, y_train)\n",
        "\n",
        "# Combine the original and synthetic data\n",
        "X_train_ada = np.concatenate((X_train_scaled, X_train_balanced))\n",
        "y_train_ada = np.concatenate((y_train, y_train_balanced))"
      ],
      "metadata": {
        "id": "ewGSmyMKN1yz"
      },
      "execution_count": null,
      "outputs": []
    },
    {
      "cell_type": "code",
      "source": [
        "from sklearn.ensemble import RandomForestClassifier\n",
        "\n",
        "rf_ada = RandomForestClassifier(random_state = 42)\n",
        "rf_ada.fit(X_train_ada, y_train_ada)"
      ],
      "metadata": {
        "colab": {
          "base_uri": "https://localhost:8080/",
          "height": 76
        },
        "id": "BX-5lBd0PH2W",
        "outputId": "dff487e8-3855-43ea-a47c-7eacbdf72e9b"
      },
      "execution_count": null,
      "outputs": [
        {
          "output_type": "execute_result",
          "data": {
            "text/plain": [
              "RandomForestClassifier(random_state=42)"
            ],
            "text/html": [
              "<style>#sk-container-id-1 {color: black;background-color: white;}#sk-container-id-1 pre{padding: 0;}#sk-container-id-1 div.sk-toggleable {background-color: white;}#sk-container-id-1 label.sk-toggleable__label {cursor: pointer;display: block;width: 100%;margin-bottom: 0;padding: 0.3em;box-sizing: border-box;text-align: center;}#sk-container-id-1 label.sk-toggleable__label-arrow:before {content: \"▸\";float: left;margin-right: 0.25em;color: #696969;}#sk-container-id-1 label.sk-toggleable__label-arrow:hover:before {color: black;}#sk-container-id-1 div.sk-estimator:hover label.sk-toggleable__label-arrow:before {color: black;}#sk-container-id-1 div.sk-toggleable__content {max-height: 0;max-width: 0;overflow: hidden;text-align: left;background-color: #f0f8ff;}#sk-container-id-1 div.sk-toggleable__content pre {margin: 0.2em;color: black;border-radius: 0.25em;background-color: #f0f8ff;}#sk-container-id-1 input.sk-toggleable__control:checked~div.sk-toggleable__content {max-height: 200px;max-width: 100%;overflow: auto;}#sk-container-id-1 input.sk-toggleable__control:checked~label.sk-toggleable__label-arrow:before {content: \"▾\";}#sk-container-id-1 div.sk-estimator input.sk-toggleable__control:checked~label.sk-toggleable__label {background-color: #d4ebff;}#sk-container-id-1 div.sk-label input.sk-toggleable__control:checked~label.sk-toggleable__label {background-color: #d4ebff;}#sk-container-id-1 input.sk-hidden--visually {border: 0;clip: rect(1px 1px 1px 1px);clip: rect(1px, 1px, 1px, 1px);height: 1px;margin: -1px;overflow: hidden;padding: 0;position: absolute;width: 1px;}#sk-container-id-1 div.sk-estimator {font-family: monospace;background-color: #f0f8ff;border: 1px dotted black;border-radius: 0.25em;box-sizing: border-box;margin-bottom: 0.5em;}#sk-container-id-1 div.sk-estimator:hover {background-color: #d4ebff;}#sk-container-id-1 div.sk-parallel-item::after {content: \"\";width: 100%;border-bottom: 1px solid gray;flex-grow: 1;}#sk-container-id-1 div.sk-label:hover label.sk-toggleable__label {background-color: #d4ebff;}#sk-container-id-1 div.sk-serial::before {content: \"\";position: absolute;border-left: 1px solid gray;box-sizing: border-box;top: 0;bottom: 0;left: 50%;z-index: 0;}#sk-container-id-1 div.sk-serial {display: flex;flex-direction: column;align-items: center;background-color: white;padding-right: 0.2em;padding-left: 0.2em;position: relative;}#sk-container-id-1 div.sk-item {position: relative;z-index: 1;}#sk-container-id-1 div.sk-parallel {display: flex;align-items: stretch;justify-content: center;background-color: white;position: relative;}#sk-container-id-1 div.sk-item::before, #sk-container-id-1 div.sk-parallel-item::before {content: \"\";position: absolute;border-left: 1px solid gray;box-sizing: border-box;top: 0;bottom: 0;left: 50%;z-index: -1;}#sk-container-id-1 div.sk-parallel-item {display: flex;flex-direction: column;z-index: 1;position: relative;background-color: white;}#sk-container-id-1 div.sk-parallel-item:first-child::after {align-self: flex-end;width: 50%;}#sk-container-id-1 div.sk-parallel-item:last-child::after {align-self: flex-start;width: 50%;}#sk-container-id-1 div.sk-parallel-item:only-child::after {width: 0;}#sk-container-id-1 div.sk-dashed-wrapped {border: 1px dashed gray;margin: 0 0.4em 0.5em 0.4em;box-sizing: border-box;padding-bottom: 0.4em;background-color: white;}#sk-container-id-1 div.sk-label label {font-family: monospace;font-weight: bold;display: inline-block;line-height: 1.2em;}#sk-container-id-1 div.sk-label-container {text-align: center;}#sk-container-id-1 div.sk-container {/* jupyter's `normalize.less` sets `[hidden] { display: none; }` but bootstrap.min.css set `[hidden] { display: none !important; }` so we also need the `!important` here to be able to override the default hidden behavior on the sphinx rendered scikit-learn.org. See: https://github.com/scikit-learn/scikit-learn/issues/21755 */display: inline-block !important;position: relative;}#sk-container-id-1 div.sk-text-repr-fallback {display: none;}</style><div id=\"sk-container-id-1\" class=\"sk-top-container\"><div class=\"sk-text-repr-fallback\"><pre>RandomForestClassifier(random_state=42)</pre><b>In a Jupyter environment, please rerun this cell to show the HTML representation or trust the notebook. <br />On GitHub, the HTML representation is unable to render, please try loading this page with nbviewer.org.</b></div><div class=\"sk-container\" hidden><div class=\"sk-item\"><div class=\"sk-estimator sk-toggleable\"><input class=\"sk-toggleable__control sk-hidden--visually\" id=\"sk-estimator-id-1\" type=\"checkbox\" checked><label for=\"sk-estimator-id-1\" class=\"sk-toggleable__label sk-toggleable__label-arrow\">RandomForestClassifier</label><div class=\"sk-toggleable__content\"><pre>RandomForestClassifier(random_state=42)</pre></div></div></div></div></div>"
            ]
          },
          "metadata": {},
          "execution_count": 10
        }
      ]
    }
  ]
}