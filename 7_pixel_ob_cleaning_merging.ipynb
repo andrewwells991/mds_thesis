{
  "nbformat": 4,
  "nbformat_minor": 0,
  "metadata": {
    "colab": {
      "provenance": [],
      "authorship_tag": "ABX9TyPLCWOAfeSRhRJtdn+mFJ0e",
      "include_colab_link": true
    },
    "kernelspec": {
      "name": "python3",
      "display_name": "Python 3"
    },
    "language_info": {
      "name": "python"
    }
  },
  "cells": [
    {
      "cell_type": "markdown",
      "metadata": {
        "id": "view-in-github",
        "colab_type": "text"
      },
      "source": [
        "<a href=\"https://colab.research.google.com/github/andrewwells991/mds_thesis/blob/main/7_pixel_ob_cleaning_merging.ipynb\" target=\"_parent\"><img src=\"https://colab.research.google.com/assets/colab-badge.svg\" alt=\"Open In Colab\"/></a>"
      ]
    },
    {
      "cell_type": "markdown",
      "source": [
        "Main script for cleaning and joining pixel data (from Earth Engine) and buildings data (from Open Buildings). Change project and site numbers for every run of script\n",
        "- Pixel data is downloaded from Google Earth Engine and stored in 2_ee_pixel_data in Google Drive\n",
        "- Open buildings data is downloaded from awells@ptfund.org Colab onto computer and uploaded into Drive folder: 3_raw_open_buildings_data\n",
        "\n",
        "Once files are cleaned and joined, save to folder: 4_combined_pixel_ob.\n",
        "\n",
        "This data can then be run through ML scripts.\n",
        "\n",
        "Notes:\n",
        "- For proj_2_18, use Septmber (August too cloudy)\n",
        "- For proj_2_24, use Septmber (August too cloudy)"
      ],
      "metadata": {
        "id": "ldZr_vUZU9KS"
      }
    },
    {
      "cell_type": "code",
      "source": [
        "from google.colab import drive\n",
        "drive.mount('/content/gdrive')"
      ],
      "metadata": {
        "colab": {
          "base_uri": "https://localhost:8080/"
        },
        "id": "6zTRMD9KlFIv",
        "outputId": "4fc822a0-f4f8-4580-9698-0e4ffc1ad266"
      },
      "execution_count": null,
      "outputs": [
        {
          "output_type": "stream",
          "name": "stdout",
          "text": [
            "Mounted at /content/gdrive\n"
          ]
        }
      ]
    },
    {
      "cell_type": "code",
      "source": [
        "#load cleaning packages\n",
        "import pandas as pd\n",
        "import re\n",
        "\n",
        "#Load geo packages\n",
        "import geopandas as gpd\n",
        "from shapely.geometry import Point, Polygon\n",
        "from geopandas import GeoDataFrame"
      ],
      "metadata": {
        "id": "NaWzE6KHk_oH"
      },
      "execution_count": null,
      "outputs": []
    },
    {
      "cell_type": "code",
      "source": [
        "#Install geopandas\n",
        "!pip install geopandas"
      ],
      "metadata": {
        "id": "YO7rhf1vQ_yU"
      },
      "execution_count": null,
      "outputs": []
    },
    {
      "cell_type": "markdown",
      "source": [
        "Import pixel and open_buildings data"
      ],
      "metadata": {
        "id": "lRXvZP1rmPsn"
      }
    },
    {
      "cell_type": "code",
      "source": [
        "#Pixel data, data imported into pixel_data folder from Google Earth Engine\n",
        "proj_2_11_aug_21_pixel = pd.read_csv('/content/gdrive/MyDrive/mds_thesis/2_ee_pixel_data/proj_2_11_aug_21_pixel.csv')\n",
        "\n",
        "#Open Buildings data for that ROI, data downloaded onto computer and uploaded in Drive 3_raw_site_data folder\n",
        "proj_2_11_open_buildings = pd.read_csv('/content/gdrive/MyDrive/mds_thesis/3_raw_open_buildings_data/proj_2_11_open_buildings.csv')"
      ],
      "metadata": {
        "id": "Lo7cWRA1lRmy"
      },
      "execution_count": null,
      "outputs": []
    },
    {
      "cell_type": "markdown",
      "source": [
        "Cleaning data"
      ],
      "metadata": {
        "id": "EafiT3nymcAt"
      }
    },
    {
      "cell_type": "code",
      "source": [
        "# Adding index to pixel data (to remove duplicates later, when merged)\n",
        "proj_2_11_aug_21_pixel = proj_2_11_aug_21_pixel.assign(row=range(1, len(proj_2_11_aug_21_pixel)+1))"
      ],
      "metadata": {
        "id": "YyWu5hYfmWFe"
      },
      "execution_count": null,
      "outputs": []
    },
    {
      "cell_type": "code",
      "source": [
        "#Viewing number of pixels within ROI\n",
        "#proj_2_11_aug_21_pixel"
      ],
      "metadata": {
        "id": "JOnNYSrSORb2"
      },
      "execution_count": null,
      "outputs": []
    },
    {
      "cell_type": "code",
      "source": [
        "# Cleaning open buildings data\n",
        "# Removing word POLYGON\n",
        "proj_2_11_open_buildings['geometry'] = proj_2_11_open_buildings['geometry'].str.replace('POLYGON', '')\n",
        "\n",
        "# Removing first two parentheses\n",
        "proj_2_11_open_buildings['geometry'] = proj_2_11_open_buildings['geometry'].astype(str).apply(lambda x: re.sub('\\(', '', x))\n",
        "proj_2_11_open_buildings['geometry'] = proj_2_11_open_buildings['geometry'].astype(str).apply(lambda x: re.sub('\\(', '', x))\n",
        "\n",
        "# Removing last two parentheses\n",
        "proj_2_11_open_buildings['geometry'] = proj_2_11_open_buildings['geometry'].astype(str).str[:-2]\n",
        "\n",
        "# Removing commas\n",
        "proj_2_11_open_buildings['geometry'] = proj_2_11_open_buildings['geometry'].astype(str).str.replace(',', '')"
      ],
      "metadata": {
        "id": "Q0qh242qLePK"
      },
      "execution_count": null,
      "outputs": []
    },
    {
      "cell_type": "markdown",
      "source": [
        "Points in Polygons"
      ],
      "metadata": {
        "id": "sjSKtFJBpZyh"
      }
    },
    {
      "cell_type": "code",
      "source": [
        "#Converting pixel df (with POINTS) to GeoDataFrame\n",
        "geometry = [Point(xy) for xy in zip(proj_2_11_aug_21_pixel.longitude, proj_2_11_aug_21_pixel.latitude)]\n",
        "\n",
        "proj_2_11_aug_21_pixel_geo = proj_2_11_aug_21_pixel.drop(['longitude', 'latitude'], axis=1)\n",
        "proj_2_11_aug_21_geo = GeoDataFrame(proj_2_11_aug_21_pixel_geo, crs=\"EPSG:4326\", geometry=geometry)"
      ],
      "metadata": {
        "id": "af8bl7XPo5Y0"
      },
      "execution_count": null,
      "outputs": []
    },
    {
      "cell_type": "code",
      "source": [
        "#Function to convert buildings df to POLYGONS\n",
        "def polygons_from_custom_xy_string(df_column):\n",
        "    def chunks(lst, n):\n",
        "        for i in range(0, len(lst), n):\n",
        "            yield lst[i:i + n]\n",
        "    def xy_list_from_string(s):\n",
        "        return list(chunks([float(i) for i in s.split()], 2))\n",
        "    def poly(s):\n",
        "        ps = xy_list_from_string(s)\n",
        "        return Polygon([[p[0], p[1]] for p in ps])\n",
        "    polygons = [poly(r) for r in df_column]\n",
        "    return polygons"
      ],
      "metadata": {
        "id": "fM03e-sYpSjp"
      },
      "execution_count": null,
      "outputs": []
    },
    {
      "cell_type": "code",
      "source": [
        "#Converting buildings df (with POLYGONS) to GeoDataFrame\n",
        "proj_2_11_open_buildings_geo = gpd.GeoDataFrame(proj_2_11_open_buildings, geometry=polygons_from_custom_xy_string(proj_2_11_open_buildings[\"geometry\"]))"
      ],
      "metadata": {
        "id": "d_fUa5uKpT7i"
      },
      "execution_count": null,
      "outputs": []
    },
    {
      "cell_type": "code",
      "source": [
        "#Joining dataframes based on points (proj_2_11_aug_21_geo) into polygons (proj_2_11_open_buildings_geo)\n",
        "proj_2_11_aug_21_building_pixels = gpd.sjoin(proj_2_11_aug_21_geo, proj_2_11_open_buildings_geo, op='intersects', how='inner')"
      ],
      "metadata": {
        "colab": {
          "base_uri": "https://localhost:8080/"
        },
        "id": "C8yW6aUkpiB4",
        "outputId": "8efdc981-63ca-486c-d78b-1b431b19de91"
      },
      "execution_count": null,
      "outputs": [
        {
          "output_type": "stream",
          "name": "stderr",
          "text": [
            "/usr/local/lib/python3.9/dist-packages/IPython/core/interactiveshell.py:3249: FutureWarning: The `op` parameter is deprecated and will be removed in a future release. Please use the `predicate` parameter instead.\n",
            "  if (await self.run_code(code, result,  async_=asy)):\n",
            "<ipython-input-147-19a2acaa38ec>:3: UserWarning: CRS mismatch between the CRS of left geometries and the CRS of right geometries.\n",
            "Use `to_crs()` to reproject one of the input geometries to match the CRS of the other.\n",
            "\n",
            "Left CRS: EPSG:4326\n",
            "Right CRS: None\n",
            "\n",
            "  proj_2_11_aug_21_building_pixels = gpd.sjoin(proj_2_11_aug_21_geo, proj_2_11_open_buildings_geo, op='intersects', how='inner')\n"
          ]
        }
      ]
    },
    {
      "cell_type": "code",
      "source": [
        "#Viewing number of pixels that are part of a building\n",
        "#proj_2_11_aug_21_building_pixels"
      ],
      "metadata": {
        "id": "9lVqp4QZLtxi"
      },
      "execution_count": null,
      "outputs": []
    },
    {
      "cell_type": "markdown",
      "source": [
        "Joining builing and non-building pixels"
      ],
      "metadata": {
        "id": "MT7ArzIZttWO"
      }
    },
    {
      "cell_type": "code",
      "source": [
        "proj_2_11_aug_21_pixel.columns"
      ],
      "metadata": {
        "colab": {
          "base_uri": "https://localhost:8080/"
        },
        "id": "TiWkC9pIqzuF",
        "outputId": "e6529239-84b1-4d4a-f555-06fef703628c"
      },
      "execution_count": null,
      "outputs": [
        {
          "output_type": "execute_result",
          "data": {
            "text/plain": [
              "Index(['B2', 'B3', 'B4', 'B8', 'B11', 'B12', 'latitude', 'longitude', 'row'], dtype='object')"
            ]
          },
          "metadata": {},
          "execution_count": 149
        }
      ]
    },
    {
      "cell_type": "code",
      "source": [
        "proj_2_11_aug_21_building_pixels.columns"
      ],
      "metadata": {
        "colab": {
          "base_uri": "https://localhost:8080/"
        },
        "id": "qfSwKy56rIiX",
        "outputId": "42b3470d-294a-4bc9-c80a-0771f5d56c11"
      },
      "execution_count": null,
      "outputs": [
        {
          "output_type": "execute_result",
          "data": {
            "text/plain": [
              "Index(['B2', 'B3', 'B4', 'B8', 'B11', 'B12', 'row', 'geometry', 'index_right',\n",
              "       'Unnamed: 0', 'latitude', 'longitude', 'area_in_meters', 'confidence',\n",
              "       'full_plus_code'],\n",
              "      dtype='object')"
            ]
          },
          "metadata": {},
          "execution_count": 150
        }
      ]
    },
    {
      "cell_type": "code",
      "source": [
        "#Dropping Unnamed column from proj_2_11_aug_21_building_pixel df\n",
        "proj_2_11_aug_21_building_pixels = proj_2_11_aug_21_building_pixels.drop(columns=['Unnamed: 0'])"
      ],
      "metadata": {
        "id": "Njksur-YrtL3"
      },
      "execution_count": null,
      "outputs": []
    },
    {
      "cell_type": "code",
      "source": [
        "#Adding building column with value 1 to proj_2_11_aug_21_building_pixel DataFrame\n",
        "proj_2_11_aug_21_building_pixel = proj_2_11_aug_21_building_pixels.assign(building = 1)\n",
        "\n",
        "#Adding building column with value 0 and other new columns to proj_2_11_aug_21_pixel DataFrame\n",
        "proj_2_11_aug_21_pixel = proj_2_11_aug_21_pixel.assign(geometry = None, index_right = None, area_in_meters = None,\n",
        "                                                                 confidence = None, full_plus_code = None, building = 0)\n"
      ],
      "metadata": {
        "id": "AsOBGO5mr1Xa"
      },
      "execution_count": null,
      "outputs": []
    },
    {
      "cell_type": "code",
      "source": [
        "#Combined dataframes\n",
        "proj_2_11_aug_21_pixel_buildings_full = pd.concat([proj_2_11_aug_21_building_pixel, proj_2_11_aug_21_pixel], axis=0, ignore_index=True)"
      ],
      "metadata": {
        "colab": {
          "base_uri": "https://localhost:8080/"
        },
        "id": "txL1kujzsKZs",
        "outputId": "7d03dac5-86d0-45c0-fc92-7303d0a0f0b0"
      },
      "execution_count": null,
      "outputs": [
        {
          "output_type": "stream",
          "name": "stderr",
          "text": [
            "/usr/local/lib/python3.9/dist-packages/geopandas/array.py:1406: UserWarning: CRS not set for some of the concatenation inputs. Setting output's CRS as WGS 84 (the single non-null crs provided).\n",
            "  warnings.warn(\n"
          ]
        }
      ]
    },
    {
      "cell_type": "code",
      "source": [
        "# Removing duplicate rows from the combined data frame\n",
        "proj_2_11_aug_21_pixel_buildings_cleaned = proj_2_11_aug_21_pixel_buildings_full.drop_duplicates(subset=['row'])"
      ],
      "metadata": {
        "id": "t4b_BbJ4sZCZ"
      },
      "execution_count": null,
      "outputs": []
    },
    {
      "cell_type": "code",
      "source": [
        "#Setting longitude and latitude to numeric values\n",
        "proj_2_11_aug_21_pixel_buildings_cleaned['longitude'] = pd.to_numeric(proj_2_11_aug_21_pixel_buildings_cleaned['longitude'])\n",
        "proj_2_11_aug_21_pixel_buildings_cleaned['latitude'] = pd.to_numeric(proj_2_11_aug_21_pixel_buildings_cleaned['latitude'])"
      ],
      "metadata": {
        "colab": {
          "base_uri": "https://localhost:8080/"
        },
        "id": "KaoMFUVtJHiR",
        "outputId": "44e4688b-6b21-4ee0-9261-d11ecffbb16f"
      },
      "execution_count": null,
      "outputs": [
        {
          "output_type": "stream",
          "name": "stderr",
          "text": [
            "/usr/local/lib/python3.9/dist-packages/geopandas/geodataframe.py:1443: SettingWithCopyWarning: \n",
            "A value is trying to be set on a copy of a slice from a DataFrame.\n",
            "Try using .loc[row_indexer,col_indexer] = value instead\n",
            "\n",
            "See the caveats in the documentation: https://pandas.pydata.org/pandas-docs/stable/user_guide/indexing.html#returning-a-view-versus-a-copy\n",
            "  super().__setitem__(key, value)\n"
          ]
        }
      ]
    },
    {
      "cell_type": "code",
      "source": [
        "df = proj_2_11_aug_21_pixel_buildings_cleaned"
      ],
      "metadata": {
        "id": "5Om3QIBJF6fC"
      },
      "execution_count": null,
      "outputs": []
    },
    {
      "cell_type": "code",
      "source": [
        "#Viewing number of rows in dataframe (should match number of pixels within ROI)\n",
        "df.shape"
      ],
      "metadata": {
        "colab": {
          "base_uri": "https://localhost:8080/"
        },
        "id": "41RWodU1QzZi",
        "outputId": "21f84ae9-5c4b-4f16-bd2b-fdccb489c312"
      },
      "execution_count": null,
      "outputs": [
        {
          "output_type": "execute_result",
          "data": {
            "text/plain": [
              "(19945, 15)"
            ]
          },
          "metadata": {},
          "execution_count": 161
        }
      ]
    },
    {
      "cell_type": "markdown",
      "source": [
        "Save to Google Drive for ML processing"
      ],
      "metadata": {
        "id": "ichCs6YZum3R"
      }
    },
    {
      "cell_type": "code",
      "source": [
        "path = '/content/gdrive/My Drive/mds_thesis/4_combined_pixel_ob/proj_2_11_aug_21_combined_pixel_ob.csv'\n",
        "\n",
        "with open(path, 'w', encoding = 'utf-8-sig') as f:  \n",
        "  df.to_csv(f)"
      ],
      "metadata": {
        "id": "Cpy1wbjDumf3"
      },
      "execution_count": null,
      "outputs": []
    }
  ]
}
