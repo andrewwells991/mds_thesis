{
  "nbformat": 4,
  "nbformat_minor": 0,
  "metadata": {
    "colab": {
      "provenance": [],
      "include_colab_link": true
    },
    "kernelspec": {
      "name": "python3",
      "display_name": "Python 3"
    },
    "language_info": {
      "name": "python"
    }
  },
  "cells": [
    {
      "cell_type": "markdown",
      "metadata": {
        "id": "view-in-github",
        "colab_type": "text"
      },
      "source": [
        "<a href=\"https://colab.research.google.com/github/andrewwells991/mds_thesis/blob/main/7_pixel_ob_cleaning_merging.ipynb\" target=\"_parent\"><img src=\"https://colab.research.google.com/assets/colab-badge.svg\" alt=\"Open In Colab\"/></a>"
      ]
    },
    {
      "cell_type": "markdown",
      "source": [
        "Main script for cleaning and joining pixel data (from Earth Engine) and buildings data (from Open Buildings). Change project and site numbers for every run of script\n",
        "- Pixel data is downloaded from Google Earth Engine and stored in 2_ee_pixel_data in Google Drive\n",
        "- Open buildings data is downloaded from awells@ptfund.org Colab onto computer and uploaded into Drive folder: 3_raw_open_buildings_data\n",
        "\n",
        "Once files are cleaned and joined, save to folder: 4_combined_pixel_ob.\n",
        "\n",
        "This data can then be run through ML scripts."
      ],
      "metadata": {
        "id": "ldZr_vUZU9KS"
      }
    },
    {
      "cell_type": "code",
      "source": [
        "'''\n",
        "from google.colab import drive\n",
        "drive.mount('/content/gdrive')\n",
        "'''"
      ],
      "metadata": {
        "colab": {
          "base_uri": "https://localhost:8080/",
          "height": 36
        },
        "id": "6zTRMD9KlFIv",
        "outputId": "22f9d251-6f74-4bd4-87ce-9e2835f829cf"
      },
      "execution_count": 955,
      "outputs": [
        {
          "output_type": "execute_result",
          "data": {
            "text/plain": [
              "\"\\nfrom google.colab import drive\\ndrive.mount('/content/gdrive')\\n\""
            ],
            "application/vnd.google.colaboratory.intrinsic+json": {
              "type": "string"
            }
          },
          "metadata": {},
          "execution_count": 955
        }
      ]
    },
    {
      "cell_type": "code",
      "source": [
        "'''\n",
        "#Install geopandas\n",
        "!pip install geopandas\n",
        "'''"
      ],
      "metadata": {
        "id": "YO7rhf1vQ_yU",
        "outputId": "1077be92-4e2c-4a70-b937-1f2c4dbd5cb3",
        "colab": {
          "base_uri": "https://localhost:8080/",
          "height": 36
        }
      },
      "execution_count": 956,
      "outputs": [
        {
          "output_type": "execute_result",
          "data": {
            "text/plain": [
              "'\\n#Install geopandas\\n!pip install geopandas\\n'"
            ],
            "application/vnd.google.colaboratory.intrinsic+json": {
              "type": "string"
            }
          },
          "metadata": {},
          "execution_count": 956
        }
      ]
    },
    {
      "cell_type": "code",
      "source": [
        "'''\n",
        "#load cleaning packages\n",
        "import pandas as pd\n",
        "import re\n",
        "\n",
        "#Load geo packages\n",
        "import geopandas as gpd\n",
        "from shapely.geometry import Point, Polygon\n",
        "from geopandas import GeoDataFrame\n",
        "'''"
      ],
      "metadata": {
        "colab": {
          "base_uri": "https://localhost:8080/",
          "height": 36
        },
        "id": "F9mY078qRZNT",
        "outputId": "ebfcf7cd-010a-4df2-e850-4428830c9b33"
      },
      "execution_count": 957,
      "outputs": [
        {
          "output_type": "execute_result",
          "data": {
            "text/plain": [
              "'\\n#load cleaning packages\\nimport pandas as pd\\nimport re\\n\\n#Load geo packages\\nimport geopandas as gpd\\nfrom shapely.geometry import Point, Polygon\\nfrom geopandas import GeoDataFrame\\n'"
            ],
            "application/vnd.google.colaboratory.intrinsic+json": {
              "type": "string"
            }
          },
          "metadata": {},
          "execution_count": 957
        }
      ]
    },
    {
      "cell_type": "markdown",
      "source": [
        "Import pixel and open_buildings data"
      ],
      "metadata": {
        "id": "lRXvZP1rmPsn"
      }
    },
    {
      "cell_type": "code",
      "source": [
        "data_ob = 'https://raw.githubusercontent.com/andrewwells991/mds_thesis/main/data/1_open_buildings/proj_7_12_open_buildings.csv'\n",
        "df_ob = pd.read_csv(data_ob)\n",
        "\n",
        "data_pix = 'https://raw.githubusercontent.com/andrewwells991/mds_thesis/main/data/2_ee_pixel_data/malawi_proj_7_12_yr_21_pixel.csv'\n",
        "df_pix = pd.read_csv(data_pix)"
      ],
      "metadata": {
        "id": "GZSVrgGuV3Ka"
      },
      "execution_count": 958,
      "outputs": []
    },
    {
      "cell_type": "markdown",
      "source": [
        "Cleaning data"
      ],
      "metadata": {
        "id": "EafiT3nymcAt"
      }
    },
    {
      "cell_type": "code",
      "source": [
        "# Adding index to pixel data (to remove duplicates later, when merged)\n",
        "df_pix = df_pix.assign(row=range(1, len(df_pix)+1))"
      ],
      "metadata": {
        "id": "YyWu5hYfmWFe"
      },
      "execution_count": 959,
      "outputs": []
    },
    {
      "cell_type": "code",
      "source": [
        "#Viewing number of pixels within ROI\n",
        "#df_pix"
      ],
      "metadata": {
        "id": "JOnNYSrSORb2"
      },
      "execution_count": 960,
      "outputs": []
    },
    {
      "cell_type": "code",
      "source": [
        "#df_ob"
      ],
      "metadata": {
        "id": "ewueLTOLRgRg"
      },
      "execution_count": 961,
      "outputs": []
    },
    {
      "cell_type": "code",
      "source": [
        "# Cleaning open buildings data\n",
        "# Removing word POLYGON\n",
        "df_ob['geometry'] = df_ob['geometry'].str.replace('POLYGON', '')\n",
        "\n",
        "# Removing first two parentheses\n",
        "df_ob['geometry'] = df_ob['geometry'].astype(str).apply(lambda x: re.sub('\\(', '', x))\n",
        "df_ob['geometry'] = df_ob['geometry'].astype(str).apply(lambda x: re.sub('\\(', '', x))\n",
        "\n",
        "# Removing last two parentheses\n",
        "df_ob['geometry'] = df_ob['geometry'].astype(str).str[:-2]\n",
        "\n",
        "# Removing commas\n",
        "df_ob['geometry'] = df_ob['geometry'].astype(str).str.replace(',', '')"
      ],
      "metadata": {
        "id": "Q0qh242qLePK"
      },
      "execution_count": 962,
      "outputs": []
    },
    {
      "cell_type": "markdown",
      "source": [
        "Points in Polygons"
      ],
      "metadata": {
        "id": "sjSKtFJBpZyh"
      }
    },
    {
      "cell_type": "code",
      "source": [
        "#Converting pixel df (with POINTS) to GeoDataFrame\n",
        "geometry = [Point(xy) for xy in zip(df_pix.longitude, df_pix.latitude)]\n",
        "\n",
        "df_pix_geo = df_pix.drop(['longitude', 'latitude'], axis=1)\n",
        "df_pix_geo = GeoDataFrame(df_pix_geo, crs=\"EPSG:4326\", geometry=geometry)"
      ],
      "metadata": {
        "id": "af8bl7XPo5Y0"
      },
      "execution_count": 963,
      "outputs": []
    },
    {
      "cell_type": "code",
      "source": [
        "#Function to convert buildings df to POLYGONS\n",
        "def polygons_from_custom_xy_string(df_column):\n",
        "    def chunks(lst, n):\n",
        "        for i in range(0, len(lst), n):\n",
        "            yield lst[i:i + n]\n",
        "    def xy_list_from_string(s):\n",
        "        return list(chunks([float(i) for i in s.split()], 2))\n",
        "    def poly(s):\n",
        "        ps = xy_list_from_string(s)\n",
        "        return Polygon([[p[0], p[1]] for p in ps])\n",
        "    polygons = [poly(r) for r in df_column]\n",
        "    return polygons"
      ],
      "metadata": {
        "id": "fM03e-sYpSjp"
      },
      "execution_count": 964,
      "outputs": []
    },
    {
      "cell_type": "code",
      "source": [
        "#Certain Open Buildings dataframes need to have special charaters removed (try these if getting an error in next line)\n",
        "  #df_ob['geometry'] = df_ob['geometry'].str.replace(')', '', regex=True)\n",
        "  #df_ob['geometry'] = df_ob['geometry'].str.replace('MULTI', '', regex=True)"
      ],
      "metadata": {
        "id": "eaXThsWhSzUR"
      },
      "execution_count": 965,
      "outputs": []
    },
    {
      "cell_type": "code",
      "source": [
        "#Converting buildings df (with POLYGONS) to GeoDataFrame\n",
        "df_ob_geo = gpd.GeoDataFrame(df_ob, geometry = polygons_from_custom_xy_string(df_ob[\"geometry\"]))"
      ],
      "metadata": {
        "id": "d_fUa5uKpT7i"
      },
      "execution_count": 966,
      "outputs": []
    },
    {
      "cell_type": "code",
      "source": [
        "#Joining dataframes based on points (df_ob_geo) into polygons (df_pix_geo)\n",
        "df_ob_pix = gpd.sjoin(df_pix_geo, df_ob_geo, op='intersects', how='inner')"
      ],
      "metadata": {
        "colab": {
          "base_uri": "https://localhost:8080/"
        },
        "id": "C8yW6aUkpiB4",
        "outputId": "67fee63d-eafb-4a43-bc57-ee4132410664"
      },
      "execution_count": 967,
      "outputs": [
        {
          "output_type": "stream",
          "name": "stderr",
          "text": [
            "/usr/local/lib/python3.9/dist-packages/IPython/core/interactiveshell.py:3249: FutureWarning: The `op` parameter is deprecated and will be removed in a future release. Please use the `predicate` parameter instead.\n",
            "  if (await self.run_code(code, result,  async_=asy)):\n",
            "<ipython-input-967-a8571d418535>:2: UserWarning: CRS mismatch between the CRS of left geometries and the CRS of right geometries.\n",
            "Use `to_crs()` to reproject one of the input geometries to match the CRS of the other.\n",
            "\n",
            "Left CRS: EPSG:4326\n",
            "Right CRS: None\n",
            "\n",
            "  df_ob_pix = gpd.sjoin(df_pix_geo, df_ob_geo, op='intersects', how='inner')\n"
          ]
        }
      ]
    },
    {
      "cell_type": "code",
      "source": [
        "#Viewing number of pixels that are part of a building\n",
        "#df_ob_pix"
      ],
      "metadata": {
        "id": "9lVqp4QZLtxi"
      },
      "execution_count": 968,
      "outputs": []
    },
    {
      "cell_type": "markdown",
      "source": [
        "Joining builing and non-building pixels"
      ],
      "metadata": {
        "id": "MT7ArzIZttWO"
      }
    },
    {
      "cell_type": "code",
      "source": [
        "#Dropping Unnamed column from df_ob_pix\n",
        "df_ob_pix = df_ob_pix.drop(columns=['Unnamed: 0'])"
      ],
      "metadata": {
        "id": "Njksur-YrtL3"
      },
      "execution_count": 969,
      "outputs": []
    },
    {
      "cell_type": "code",
      "source": [
        "#Adding building column with value 1 to df_ob_pix DataFrame\n",
        "df_ob_pix = df_ob_pix.assign(building = 1)\n",
        "\n",
        "#Adding building column with value 0 and other new columns to df_pix DataFrame\n",
        "df_pix = df_pix.assign(geometry = None, index_right = None, area_in_meters = None,\n",
        "                                                                 confidence = None, full_plus_code = None, building = 0)\n"
      ],
      "metadata": {
        "id": "AsOBGO5mr1Xa"
      },
      "execution_count": 970,
      "outputs": []
    },
    {
      "cell_type": "code",
      "source": [
        "#Combined dataframes\n",
        "df_ob_pix_full = pd.concat([df_ob_pix, df_pix], axis=0, ignore_index=True)"
      ],
      "metadata": {
        "colab": {
          "base_uri": "https://localhost:8080/"
        },
        "id": "txL1kujzsKZs",
        "outputId": "5aa7dfc5-4e57-4f1a-a1b9-d0148d8f58e7"
      },
      "execution_count": 971,
      "outputs": [
        {
          "output_type": "stream",
          "name": "stderr",
          "text": [
            "/usr/local/lib/python3.9/dist-packages/geopandas/array.py:1406: UserWarning: CRS not set for some of the concatenation inputs. Setting output's CRS as WGS 84 (the single non-null crs provided).\n",
            "  warnings.warn(\n"
          ]
        }
      ]
    },
    {
      "cell_type": "code",
      "source": [
        "# Removing duplicate rows from the combined data frame\n",
        "df_ob_pix_full_cleaned = df_ob_pix_full.drop_duplicates(subset=['row'])"
      ],
      "metadata": {
        "id": "t4b_BbJ4sZCZ"
      },
      "execution_count": 972,
      "outputs": []
    },
    {
      "cell_type": "code",
      "source": [
        "#Add project variable for reference\n",
        "df_ob_pix_full_cleaned['project'] = 'proj_7_12'"
      ],
      "metadata": {
        "colab": {
          "base_uri": "https://localhost:8080/"
        },
        "id": "1mi2cXEtXsdL",
        "outputId": "3e7f0b6b-37c4-48a2-e0fe-afce3d398097"
      },
      "execution_count": 973,
      "outputs": [
        {
          "output_type": "stream",
          "name": "stderr",
          "text": [
            "/usr/local/lib/python3.9/dist-packages/geopandas/geodataframe.py:1443: SettingWithCopyWarning: \n",
            "A value is trying to be set on a copy of a slice from a DataFrame.\n",
            "Try using .loc[row_indexer,col_indexer] = value instead\n",
            "\n",
            "See the caveats in the documentation: https://pandas.pydata.org/pandas-docs/stable/user_guide/indexing.html#returning-a-view-versus-a-copy\n",
            "  super().__setitem__(key, value)\n"
          ]
        }
      ]
    },
    {
      "cell_type": "code",
      "source": [
        "#Setting longitude and latitude to numeric values\n",
        "df_ob_pix_full_cleaned['longitude'] = pd.to_numeric(df_ob_pix_full_cleaned['longitude'])\n",
        "df_ob_pix_full_cleaned['latitude'] = pd.to_numeric(df_ob_pix_full_cleaned['latitude'])"
      ],
      "metadata": {
        "id": "KaoMFUVtJHiR"
      },
      "execution_count": 974,
      "outputs": []
    },
    {
      "cell_type": "code",
      "source": [
        "#Viewing number of rows in dataframe (should match number of pixels within ROI)\n",
        "df_ob_pix_full_cleaned.shape"
      ],
      "metadata": {
        "id": "5Om3QIBJF6fC",
        "outputId": "e991c281-d08d-4184-94fd-1858ff33b121",
        "colab": {
          "base_uri": "https://localhost:8080/"
        }
      },
      "execution_count": 975,
      "outputs": [
        {
          "output_type": "execute_result",
          "data": {
            "text/plain": [
              "(39870, 16)"
            ]
          },
          "metadata": {},
          "execution_count": 975
        }
      ]
    },
    {
      "cell_type": "code",
      "source": [
        "df_ob_pix_full_cleaned.columns"
      ],
      "metadata": {
        "colab": {
          "base_uri": "https://localhost:8080/"
        },
        "id": "L3ZlsCDXTU1D",
        "outputId": "d1e7b647-0b19-4725-98d6-6b9246f84668"
      },
      "execution_count": 976,
      "outputs": [
        {
          "output_type": "execute_result",
          "data": {
            "text/plain": [
              "Index(['B2', 'B3', 'B4', 'B8', 'B11', 'B12', 'row', 'geometry', 'index_right',\n",
              "       'latitude', 'longitude', 'area_in_meters', 'confidence',\n",
              "       'full_plus_code', 'building', 'project'],\n",
              "      dtype='object')"
            ]
          },
          "metadata": {},
          "execution_count": 976
        }
      ]
    },
    {
      "cell_type": "markdown",
      "source": [
        "Save to Google Drive for ML processing"
      ],
      "metadata": {
        "id": "ichCs6YZum3R"
      }
    },
    {
      "cell_type": "code",
      "source": [
        "path = '/content/gdrive/My Drive/mds_thesis/4_combined_pixel_ob/proj_7_12_yr_21_combined_pixel_ob.csv'\n",
        "\n",
        "with open(path, 'w', encoding = 'utf-8-sig') as f:  \n",
        "  df_ob_pix_full_cleaned.to_csv(f)"
      ],
      "metadata": {
        "id": "Cpy1wbjDumf3"
      },
      "execution_count": 977,
      "outputs": []
    },
    {
      "cell_type": "code",
      "source": [
        "df_ob_pix_full_cleaned"
      ],
      "metadata": {
        "colab": {
          "base_uri": "https://localhost:8080/",
          "height": 424
        },
        "id": "P0lIAx5Ycsgr",
        "outputId": "81653a55-10db-4196-fdb4-c0de47ad2285"
      },
      "execution_count": 978,
      "outputs": [
        {
          "output_type": "execute_result",
          "data": {
            "text/plain": [
              "           B2      B3      B4      B8     B11     B12    row  \\\n",
              "0      1052.0   939.0   867.0  2234.0  2728.0  1926.0     13   \n",
              "1      1314.0  1273.0  1519.0  2215.0  2703.0  2161.0     82   \n",
              "2      1150.0  1172.0  1337.0  2278.0  2759.0  1824.0    130   \n",
              "3      1233.0  1148.0  1300.0  1997.0  2521.0  1768.0    144   \n",
              "4      1137.0  1122.0  1178.0  2285.0  2660.0  2044.0    199   \n",
              "...       ...     ...     ...     ...     ...     ...    ...   \n",
              "41490  1098.0  1072.0   858.0  2204.0  1866.0  1023.0  39866   \n",
              "41491  1120.0  1061.0   916.0  2078.0  2055.0  1194.0  39867   \n",
              "41492  1126.0  1103.0   896.0  2364.0  2055.0  1194.0  39868   \n",
              "41493  1072.0  1086.0   792.0  2588.0  1900.0  1006.0  39869   \n",
              "41494  1043.0   998.0   704.0  2475.0  1900.0  1006.0  39870   \n",
              "\n",
              "                         geometry index_right   latitude  longitude  \\\n",
              "0      POINT (35.25379 -16.91101)        2462 -16.911041  35.253793   \n",
              "1      POINT (35.25332 -16.91111)        1388 -16.911113  35.253341   \n",
              "2      POINT (35.25782 -16.91106)        1802 -16.911061  35.257838   \n",
              "3      POINT (35.25914 -16.91105)         127 -16.911054  35.259099   \n",
              "4      POINT (35.26430 -16.91099)         824 -16.910985  35.264305   \n",
              "...                           ...         ...        ...        ...   \n",
              "41490                        None        None -16.928891  35.270986   \n",
              "41491                        None        None -16.928890  35.271080   \n",
              "41492                        None        None -16.928889  35.271173   \n",
              "41493                        None        None -16.928888  35.271267   \n",
              "41494                        None        None -16.928887  35.271361   \n",
              "\n",
              "       area_in_meters  confidence full_plus_code  building    project  \n",
              "0             53.0739      0.8047  5GMQ37Q3+HGM7         1  proj_7_12  \n",
              "1             23.7991      0.7488  5GMQ37Q3+H84H         1  proj_7_12  \n",
              "2             95.5751      0.8212  5GMQ37Q5+H4GH         1  proj_7_12  \n",
              "3             83.1112      0.6754  5GMQ37Q5+HJHR         1  proj_7_12  \n",
              "4             45.5645      0.8195  5GMQ37Q7+JP3Q         1  proj_7_12  \n",
              "...               ...         ...            ...       ...        ...  \n",
              "41490             NaN         NaN           None         0  proj_7_12  \n",
              "41491             NaN         NaN           None         0  proj_7_12  \n",
              "41492             NaN         NaN           None         0  proj_7_12  \n",
              "41493             NaN         NaN           None         0  proj_7_12  \n",
              "41494             NaN         NaN           None         0  proj_7_12  \n",
              "\n",
              "[39870 rows x 16 columns]"
            ],
            "text/html": [
              "\n",
              "  <div id=\"df-cf235f04-9860-477c-b0ea-a03b45bbae50\">\n",
              "    <div class=\"colab-df-container\">\n",
              "      <div>\n",
              "<style scoped>\n",
              "    .dataframe tbody tr th:only-of-type {\n",
              "        vertical-align: middle;\n",
              "    }\n",
              "\n",
              "    .dataframe tbody tr th {\n",
              "        vertical-align: top;\n",
              "    }\n",
              "\n",
              "    .dataframe thead th {\n",
              "        text-align: right;\n",
              "    }\n",
              "</style>\n",
              "<table border=\"1\" class=\"dataframe\">\n",
              "  <thead>\n",
              "    <tr style=\"text-align: right;\">\n",
              "      <th></th>\n",
              "      <th>B2</th>\n",
              "      <th>B3</th>\n",
              "      <th>B4</th>\n",
              "      <th>B8</th>\n",
              "      <th>B11</th>\n",
              "      <th>B12</th>\n",
              "      <th>row</th>\n",
              "      <th>geometry</th>\n",
              "      <th>index_right</th>\n",
              "      <th>latitude</th>\n",
              "      <th>longitude</th>\n",
              "      <th>area_in_meters</th>\n",
              "      <th>confidence</th>\n",
              "      <th>full_plus_code</th>\n",
              "      <th>building</th>\n",
              "      <th>project</th>\n",
              "    </tr>\n",
              "  </thead>\n",
              "  <tbody>\n",
              "    <tr>\n",
              "      <th>0</th>\n",
              "      <td>1052.0</td>\n",
              "      <td>939.0</td>\n",
              "      <td>867.0</td>\n",
              "      <td>2234.0</td>\n",
              "      <td>2728.0</td>\n",
              "      <td>1926.0</td>\n",
              "      <td>13</td>\n",
              "      <td>POINT (35.25379 -16.91101)</td>\n",
              "      <td>2462</td>\n",
              "      <td>-16.911041</td>\n",
              "      <td>35.253793</td>\n",
              "      <td>53.0739</td>\n",
              "      <td>0.8047</td>\n",
              "      <td>5GMQ37Q3+HGM7</td>\n",
              "      <td>1</td>\n",
              "      <td>proj_7_12</td>\n",
              "    </tr>\n",
              "    <tr>\n",
              "      <th>1</th>\n",
              "      <td>1314.0</td>\n",
              "      <td>1273.0</td>\n",
              "      <td>1519.0</td>\n",
              "      <td>2215.0</td>\n",
              "      <td>2703.0</td>\n",
              "      <td>2161.0</td>\n",
              "      <td>82</td>\n",
              "      <td>POINT (35.25332 -16.91111)</td>\n",
              "      <td>1388</td>\n",
              "      <td>-16.911113</td>\n",
              "      <td>35.253341</td>\n",
              "      <td>23.7991</td>\n",
              "      <td>0.7488</td>\n",
              "      <td>5GMQ37Q3+H84H</td>\n",
              "      <td>1</td>\n",
              "      <td>proj_7_12</td>\n",
              "    </tr>\n",
              "    <tr>\n",
              "      <th>2</th>\n",
              "      <td>1150.0</td>\n",
              "      <td>1172.0</td>\n",
              "      <td>1337.0</td>\n",
              "      <td>2278.0</td>\n",
              "      <td>2759.0</td>\n",
              "      <td>1824.0</td>\n",
              "      <td>130</td>\n",
              "      <td>POINT (35.25782 -16.91106)</td>\n",
              "      <td>1802</td>\n",
              "      <td>-16.911061</td>\n",
              "      <td>35.257838</td>\n",
              "      <td>95.5751</td>\n",
              "      <td>0.8212</td>\n",
              "      <td>5GMQ37Q5+H4GH</td>\n",
              "      <td>1</td>\n",
              "      <td>proj_7_12</td>\n",
              "    </tr>\n",
              "    <tr>\n",
              "      <th>3</th>\n",
              "      <td>1233.0</td>\n",
              "      <td>1148.0</td>\n",
              "      <td>1300.0</td>\n",
              "      <td>1997.0</td>\n",
              "      <td>2521.0</td>\n",
              "      <td>1768.0</td>\n",
              "      <td>144</td>\n",
              "      <td>POINT (35.25914 -16.91105)</td>\n",
              "      <td>127</td>\n",
              "      <td>-16.911054</td>\n",
              "      <td>35.259099</td>\n",
              "      <td>83.1112</td>\n",
              "      <td>0.6754</td>\n",
              "      <td>5GMQ37Q5+HJHR</td>\n",
              "      <td>1</td>\n",
              "      <td>proj_7_12</td>\n",
              "    </tr>\n",
              "    <tr>\n",
              "      <th>4</th>\n",
              "      <td>1137.0</td>\n",
              "      <td>1122.0</td>\n",
              "      <td>1178.0</td>\n",
              "      <td>2285.0</td>\n",
              "      <td>2660.0</td>\n",
              "      <td>2044.0</td>\n",
              "      <td>199</td>\n",
              "      <td>POINT (35.26430 -16.91099)</td>\n",
              "      <td>824</td>\n",
              "      <td>-16.910985</td>\n",
              "      <td>35.264305</td>\n",
              "      <td>45.5645</td>\n",
              "      <td>0.8195</td>\n",
              "      <td>5GMQ37Q7+JP3Q</td>\n",
              "      <td>1</td>\n",
              "      <td>proj_7_12</td>\n",
              "    </tr>\n",
              "    <tr>\n",
              "      <th>...</th>\n",
              "      <td>...</td>\n",
              "      <td>...</td>\n",
              "      <td>...</td>\n",
              "      <td>...</td>\n",
              "      <td>...</td>\n",
              "      <td>...</td>\n",
              "      <td>...</td>\n",
              "      <td>...</td>\n",
              "      <td>...</td>\n",
              "      <td>...</td>\n",
              "      <td>...</td>\n",
              "      <td>...</td>\n",
              "      <td>...</td>\n",
              "      <td>...</td>\n",
              "      <td>...</td>\n",
              "      <td>...</td>\n",
              "    </tr>\n",
              "    <tr>\n",
              "      <th>41490</th>\n",
              "      <td>1098.0</td>\n",
              "      <td>1072.0</td>\n",
              "      <td>858.0</td>\n",
              "      <td>2204.0</td>\n",
              "      <td>1866.0</td>\n",
              "      <td>1023.0</td>\n",
              "      <td>39866</td>\n",
              "      <td>None</td>\n",
              "      <td>None</td>\n",
              "      <td>-16.928891</td>\n",
              "      <td>35.270986</td>\n",
              "      <td>NaN</td>\n",
              "      <td>NaN</td>\n",
              "      <td>None</td>\n",
              "      <td>0</td>\n",
              "      <td>proj_7_12</td>\n",
              "    </tr>\n",
              "    <tr>\n",
              "      <th>41491</th>\n",
              "      <td>1120.0</td>\n",
              "      <td>1061.0</td>\n",
              "      <td>916.0</td>\n",
              "      <td>2078.0</td>\n",
              "      <td>2055.0</td>\n",
              "      <td>1194.0</td>\n",
              "      <td>39867</td>\n",
              "      <td>None</td>\n",
              "      <td>None</td>\n",
              "      <td>-16.928890</td>\n",
              "      <td>35.271080</td>\n",
              "      <td>NaN</td>\n",
              "      <td>NaN</td>\n",
              "      <td>None</td>\n",
              "      <td>0</td>\n",
              "      <td>proj_7_12</td>\n",
              "    </tr>\n",
              "    <tr>\n",
              "      <th>41492</th>\n",
              "      <td>1126.0</td>\n",
              "      <td>1103.0</td>\n",
              "      <td>896.0</td>\n",
              "      <td>2364.0</td>\n",
              "      <td>2055.0</td>\n",
              "      <td>1194.0</td>\n",
              "      <td>39868</td>\n",
              "      <td>None</td>\n",
              "      <td>None</td>\n",
              "      <td>-16.928889</td>\n",
              "      <td>35.271173</td>\n",
              "      <td>NaN</td>\n",
              "      <td>NaN</td>\n",
              "      <td>None</td>\n",
              "      <td>0</td>\n",
              "      <td>proj_7_12</td>\n",
              "    </tr>\n",
              "    <tr>\n",
              "      <th>41493</th>\n",
              "      <td>1072.0</td>\n",
              "      <td>1086.0</td>\n",
              "      <td>792.0</td>\n",
              "      <td>2588.0</td>\n",
              "      <td>1900.0</td>\n",
              "      <td>1006.0</td>\n",
              "      <td>39869</td>\n",
              "      <td>None</td>\n",
              "      <td>None</td>\n",
              "      <td>-16.928888</td>\n",
              "      <td>35.271267</td>\n",
              "      <td>NaN</td>\n",
              "      <td>NaN</td>\n",
              "      <td>None</td>\n",
              "      <td>0</td>\n",
              "      <td>proj_7_12</td>\n",
              "    </tr>\n",
              "    <tr>\n",
              "      <th>41494</th>\n",
              "      <td>1043.0</td>\n",
              "      <td>998.0</td>\n",
              "      <td>704.0</td>\n",
              "      <td>2475.0</td>\n",
              "      <td>1900.0</td>\n",
              "      <td>1006.0</td>\n",
              "      <td>39870</td>\n",
              "      <td>None</td>\n",
              "      <td>None</td>\n",
              "      <td>-16.928887</td>\n",
              "      <td>35.271361</td>\n",
              "      <td>NaN</td>\n",
              "      <td>NaN</td>\n",
              "      <td>None</td>\n",
              "      <td>0</td>\n",
              "      <td>proj_7_12</td>\n",
              "    </tr>\n",
              "  </tbody>\n",
              "</table>\n",
              "<p>39870 rows × 16 columns</p>\n",
              "</div>\n",
              "      <button class=\"colab-df-convert\" onclick=\"convertToInteractive('df-cf235f04-9860-477c-b0ea-a03b45bbae50')\"\n",
              "              title=\"Convert this dataframe to an interactive table.\"\n",
              "              style=\"display:none;\">\n",
              "        \n",
              "  <svg xmlns=\"http://www.w3.org/2000/svg\" height=\"24px\"viewBox=\"0 0 24 24\"\n",
              "       width=\"24px\">\n",
              "    <path d=\"M0 0h24v24H0V0z\" fill=\"none\"/>\n",
              "    <path d=\"M18.56 5.44l.94 2.06.94-2.06 2.06-.94-2.06-.94-.94-2.06-.94 2.06-2.06.94zm-11 1L8.5 8.5l.94-2.06 2.06-.94-2.06-.94L8.5 2.5l-.94 2.06-2.06.94zm10 10l.94 2.06.94-2.06 2.06-.94-2.06-.94-.94-2.06-.94 2.06-2.06.94z\"/><path d=\"M17.41 7.96l-1.37-1.37c-.4-.4-.92-.59-1.43-.59-.52 0-1.04.2-1.43.59L10.3 9.45l-7.72 7.72c-.78.78-.78 2.05 0 2.83L4 21.41c.39.39.9.59 1.41.59.51 0 1.02-.2 1.41-.59l7.78-7.78 2.81-2.81c.8-.78.8-2.07 0-2.86zM5.41 20L4 18.59l7.72-7.72 1.47 1.35L5.41 20z\"/>\n",
              "  </svg>\n",
              "      </button>\n",
              "      \n",
              "  <style>\n",
              "    .colab-df-container {\n",
              "      display:flex;\n",
              "      flex-wrap:wrap;\n",
              "      gap: 12px;\n",
              "    }\n",
              "\n",
              "    .colab-df-convert {\n",
              "      background-color: #E8F0FE;\n",
              "      border: none;\n",
              "      border-radius: 50%;\n",
              "      cursor: pointer;\n",
              "      display: none;\n",
              "      fill: #1967D2;\n",
              "      height: 32px;\n",
              "      padding: 0 0 0 0;\n",
              "      width: 32px;\n",
              "    }\n",
              "\n",
              "    .colab-df-convert:hover {\n",
              "      background-color: #E2EBFA;\n",
              "      box-shadow: 0px 1px 2px rgba(60, 64, 67, 0.3), 0px 1px 3px 1px rgba(60, 64, 67, 0.15);\n",
              "      fill: #174EA6;\n",
              "    }\n",
              "\n",
              "    [theme=dark] .colab-df-convert {\n",
              "      background-color: #3B4455;\n",
              "      fill: #D2E3FC;\n",
              "    }\n",
              "\n",
              "    [theme=dark] .colab-df-convert:hover {\n",
              "      background-color: #434B5C;\n",
              "      box-shadow: 0px 1px 3px 1px rgba(0, 0, 0, 0.15);\n",
              "      filter: drop-shadow(0px 1px 2px rgba(0, 0, 0, 0.3));\n",
              "      fill: #FFFFFF;\n",
              "    }\n",
              "  </style>\n",
              "\n",
              "      <script>\n",
              "        const buttonEl =\n",
              "          document.querySelector('#df-cf235f04-9860-477c-b0ea-a03b45bbae50 button.colab-df-convert');\n",
              "        buttonEl.style.display =\n",
              "          google.colab.kernel.accessAllowed ? 'block' : 'none';\n",
              "\n",
              "        async function convertToInteractive(key) {\n",
              "          const element = document.querySelector('#df-cf235f04-9860-477c-b0ea-a03b45bbae50');\n",
              "          const dataTable =\n",
              "            await google.colab.kernel.invokeFunction('convertToInteractive',\n",
              "                                                     [key], {});\n",
              "          if (!dataTable) return;\n",
              "\n",
              "          const docLinkHtml = 'Like what you see? Visit the ' +\n",
              "            '<a target=\"_blank\" href=https://colab.research.google.com/notebooks/data_table.ipynb>data table notebook</a>'\n",
              "            + ' to learn more about interactive tables.';\n",
              "          element.innerHTML = '';\n",
              "          dataTable['output_type'] = 'display_data';\n",
              "          await google.colab.output.renderOutput(dataTable, element);\n",
              "          const docLink = document.createElement('div');\n",
              "          docLink.innerHTML = docLinkHtml;\n",
              "          element.appendChild(docLink);\n",
              "        }\n",
              "      </script>\n",
              "    </div>\n",
              "  </div>\n",
              "  "
            ]
          },
          "metadata": {},
          "execution_count": 978
        }
      ]
    }
  ]
}