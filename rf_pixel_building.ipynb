{
  "cells": [
    {
      "cell_type": "markdown",
      "metadata": {
        "id": "view-in-github",
        "colab_type": "text"
      },
      "source": [
        "<a href=\"https://colab.research.google.com/github/andrewwells991/mds_thesis/blob/main/rf_pixel_building.ipynb\" target=\"_parent\"><img src=\"https://colab.research.google.com/assets/colab-badge.svg\" alt=\"Open In Colab\"/></a>"
      ]
    },
    {
      "cell_type": "code",
      "source": [
        "# Data Processing\n",
        "import pandas as pd\n",
        "import numpy as np\n",
        "\n",
        "# Modelling\n",
        "from sklearn.ensemble import RandomForestClassifier\n",
        "from sklearn.metrics import accuracy_score, classification_report, confusion_matrix, precision_score, recall_score, ConfusionMatrixDisplay\n",
        "from sklearn.model_selection import RandomizedSearchCV, train_test_split\n",
        "from scipy.stats import randint\n",
        "\n",
        "# Tree Visualisation\n",
        "from sklearn.tree import export_graphviz\n",
        "from IPython.display import Image\n",
        "import graphviz"
      ],
      "metadata": {
        "id": "_UJoDkwKprK0"
      },
      "execution_count": 1,
      "outputs": []
    },
    {
      "cell_type": "code",
      "execution_count": 2,
      "metadata": {
        "id": "7FcmW6kEvnXt"
      },
      "outputs": [],
      "source": [
        "#Labeled dataset\n",
        "url = 'https://raw.githubusercontent.com/andrewwells991/mds_thesis/main/combined_pixel_ob/proj_2_5_aug_21_combined_pixel_ob.csv'\n",
        "df = pd.read_csv(url)"
      ]
    },
    {
      "cell_type": "code",
      "source": [
        "df = df.drop(['Unnamed: 0'], axis=1)"
      ],
      "metadata": {
        "id": "vZCxSsM5jlup"
      },
      "execution_count": 5,
      "outputs": []
    },
    {
      "cell_type": "code",
      "execution_count": 6,
      "metadata": {
        "id": "CcYykXpUHldk",
        "colab": {
          "base_uri": "https://localhost:8080/",
          "height": 661
        },
        "outputId": "c4564143-ff91-4490-eebc-5c4da2650af1"
      },
      "outputs": [
        {
          "output_type": "execute_result",
          "data": {
            "text/plain": [
              "           B2      B3      B4      B8     B11     B12    row  \\\n",
              "0      1446.0  1347.0  1404.0  1737.0  2294.0  1928.0     19   \n",
              "1      1455.0  1275.0  1271.0  1852.0  2496.0  1950.0     41   \n",
              "2      1229.0  1113.0  1205.0  1682.0  2676.0  2289.0     60   \n",
              "3      1356.0  1312.0  1290.0  1666.0  2468.0  2102.0     62   \n",
              "4      1175.0  1017.0   963.0  1245.0  2403.0  2161.0     64   \n",
              "...       ...     ...     ...     ...     ...     ...    ...   \n",
              "19932  1052.0   894.0   885.0  1635.0  1965.0  1596.0  19932   \n",
              "19933  1227.0  1006.0  1022.0  1704.0  2367.0  1865.0  19934   \n",
              "19934  1150.0  1043.0  1049.0  1944.0  2367.0  1865.0  19935   \n",
              "19935  1143.0  1030.0  1101.0  1949.0  2591.0  1914.0  19936   \n",
              "19936  1158.0  1027.0  1050.0  1881.0  2591.0  1914.0  19937   \n",
              "\n",
              "                                             geometry  index_right   latitude  \\\n",
              "0      POINT (35.256925115217896 -14.473707235595487)       2676.0 -14.473733   \n",
              "1      POINT (35.258964982764375 -14.473687648132453)       1524.0 -14.473691   \n",
              "2       POINT (35.26072668409148 -14.473670717474617)       2687.0 -14.473665   \n",
              "3        POINT (35.26091212620356 -14.47366893453384)        857.0 -14.473693   \n",
              "4        POINT (35.26109756829033 -14.47366715144711)       1179.0 -14.473709   \n",
              "...                                               ...          ...        ...   \n",
              "19932                                             NaN          NaN -14.482585   \n",
              "19933                                             NaN          NaN -14.482584   \n",
              "19934                                             NaN          NaN -14.482583   \n",
              "19935                                             NaN          NaN -14.482582   \n",
              "19936                                             NaN          NaN -14.482581   \n",
              "\n",
              "       longitude  area_in_meters  confidence full_plus_code  building  \n",
              "0      35.256922        155.0028      0.8333  5GQQG7G4+GQ3P         1  \n",
              "1      35.258979         43.9090      0.8290  5GQQG7G5+GHH7         1  \n",
              "2      35.260744         41.6687      0.6128  5GQQG7G6+G7Q9         1  \n",
              "3      35.260898        104.8771      0.8597  5GQQG7G6+G9C8         1  \n",
              "4      35.261074        141.4433      0.8533  5GQQG7G6+GC8M         1  \n",
              "...          ...             ...         ...            ...       ...  \n",
              "19932  35.273243             NaN         NaN            NaN         0  \n",
              "19933  35.273429             NaN         NaN            NaN         0  \n",
              "19934  35.273521             NaN         NaN            NaN         0  \n",
              "19935  35.273614             NaN         NaN            NaN         0  \n",
              "19936  35.273707             NaN         NaN            NaN         0  \n",
              "\n",
              "[19937 rows x 15 columns]"
            ],
            "text/html": [
              "\n",
              "  <div id=\"df-e8498ad4-5bdb-4b4c-a010-4cf8397b29cf\">\n",
              "    <div class=\"colab-df-container\">\n",
              "      <div>\n",
              "<style scoped>\n",
              "    .dataframe tbody tr th:only-of-type {\n",
              "        vertical-align: middle;\n",
              "    }\n",
              "\n",
              "    .dataframe tbody tr th {\n",
              "        vertical-align: top;\n",
              "    }\n",
              "\n",
              "    .dataframe thead th {\n",
              "        text-align: right;\n",
              "    }\n",
              "</style>\n",
              "<table border=\"1\" class=\"dataframe\">\n",
              "  <thead>\n",
              "    <tr style=\"text-align: right;\">\n",
              "      <th></th>\n",
              "      <th>B2</th>\n",
              "      <th>B3</th>\n",
              "      <th>B4</th>\n",
              "      <th>B8</th>\n",
              "      <th>B11</th>\n",
              "      <th>B12</th>\n",
              "      <th>row</th>\n",
              "      <th>geometry</th>\n",
              "      <th>index_right</th>\n",
              "      <th>latitude</th>\n",
              "      <th>longitude</th>\n",
              "      <th>area_in_meters</th>\n",
              "      <th>confidence</th>\n",
              "      <th>full_plus_code</th>\n",
              "      <th>building</th>\n",
              "    </tr>\n",
              "  </thead>\n",
              "  <tbody>\n",
              "    <tr>\n",
              "      <th>0</th>\n",
              "      <td>1446.0</td>\n",
              "      <td>1347.0</td>\n",
              "      <td>1404.0</td>\n",
              "      <td>1737.0</td>\n",
              "      <td>2294.0</td>\n",
              "      <td>1928.0</td>\n",
              "      <td>19</td>\n",
              "      <td>POINT (35.256925115217896 -14.473707235595487)</td>\n",
              "      <td>2676.0</td>\n",
              "      <td>-14.473733</td>\n",
              "      <td>35.256922</td>\n",
              "      <td>155.0028</td>\n",
              "      <td>0.8333</td>\n",
              "      <td>5GQQG7G4+GQ3P</td>\n",
              "      <td>1</td>\n",
              "    </tr>\n",
              "    <tr>\n",
              "      <th>1</th>\n",
              "      <td>1455.0</td>\n",
              "      <td>1275.0</td>\n",
              "      <td>1271.0</td>\n",
              "      <td>1852.0</td>\n",
              "      <td>2496.0</td>\n",
              "      <td>1950.0</td>\n",
              "      <td>41</td>\n",
              "      <td>POINT (35.258964982764375 -14.473687648132453)</td>\n",
              "      <td>1524.0</td>\n",
              "      <td>-14.473691</td>\n",
              "      <td>35.258979</td>\n",
              "      <td>43.9090</td>\n",
              "      <td>0.8290</td>\n",
              "      <td>5GQQG7G5+GHH7</td>\n",
              "      <td>1</td>\n",
              "    </tr>\n",
              "    <tr>\n",
              "      <th>2</th>\n",
              "      <td>1229.0</td>\n",
              "      <td>1113.0</td>\n",
              "      <td>1205.0</td>\n",
              "      <td>1682.0</td>\n",
              "      <td>2676.0</td>\n",
              "      <td>2289.0</td>\n",
              "      <td>60</td>\n",
              "      <td>POINT (35.26072668409148 -14.473670717474617)</td>\n",
              "      <td>2687.0</td>\n",
              "      <td>-14.473665</td>\n",
              "      <td>35.260744</td>\n",
              "      <td>41.6687</td>\n",
              "      <td>0.6128</td>\n",
              "      <td>5GQQG7G6+G7Q9</td>\n",
              "      <td>1</td>\n",
              "    </tr>\n",
              "    <tr>\n",
              "      <th>3</th>\n",
              "      <td>1356.0</td>\n",
              "      <td>1312.0</td>\n",
              "      <td>1290.0</td>\n",
              "      <td>1666.0</td>\n",
              "      <td>2468.0</td>\n",
              "      <td>2102.0</td>\n",
              "      <td>62</td>\n",
              "      <td>POINT (35.26091212620356 -14.47366893453384)</td>\n",
              "      <td>857.0</td>\n",
              "      <td>-14.473693</td>\n",
              "      <td>35.260898</td>\n",
              "      <td>104.8771</td>\n",
              "      <td>0.8597</td>\n",
              "      <td>5GQQG7G6+G9C8</td>\n",
              "      <td>1</td>\n",
              "    </tr>\n",
              "    <tr>\n",
              "      <th>4</th>\n",
              "      <td>1175.0</td>\n",
              "      <td>1017.0</td>\n",
              "      <td>963.0</td>\n",
              "      <td>1245.0</td>\n",
              "      <td>2403.0</td>\n",
              "      <td>2161.0</td>\n",
              "      <td>64</td>\n",
              "      <td>POINT (35.26109756829033 -14.47366715144711)</td>\n",
              "      <td>1179.0</td>\n",
              "      <td>-14.473709</td>\n",
              "      <td>35.261074</td>\n",
              "      <td>141.4433</td>\n",
              "      <td>0.8533</td>\n",
              "      <td>5GQQG7G6+GC8M</td>\n",
              "      <td>1</td>\n",
              "    </tr>\n",
              "    <tr>\n",
              "      <th>...</th>\n",
              "      <td>...</td>\n",
              "      <td>...</td>\n",
              "      <td>...</td>\n",
              "      <td>...</td>\n",
              "      <td>...</td>\n",
              "      <td>...</td>\n",
              "      <td>...</td>\n",
              "      <td>...</td>\n",
              "      <td>...</td>\n",
              "      <td>...</td>\n",
              "      <td>...</td>\n",
              "      <td>...</td>\n",
              "      <td>...</td>\n",
              "      <td>...</td>\n",
              "      <td>...</td>\n",
              "    </tr>\n",
              "    <tr>\n",
              "      <th>19932</th>\n",
              "      <td>1052.0</td>\n",
              "      <td>894.0</td>\n",
              "      <td>885.0</td>\n",
              "      <td>1635.0</td>\n",
              "      <td>1965.0</td>\n",
              "      <td>1596.0</td>\n",
              "      <td>19932</td>\n",
              "      <td>NaN</td>\n",
              "      <td>NaN</td>\n",
              "      <td>-14.482585</td>\n",
              "      <td>35.273243</td>\n",
              "      <td>NaN</td>\n",
              "      <td>NaN</td>\n",
              "      <td>NaN</td>\n",
              "      <td>0</td>\n",
              "    </tr>\n",
              "    <tr>\n",
              "      <th>19933</th>\n",
              "      <td>1227.0</td>\n",
              "      <td>1006.0</td>\n",
              "      <td>1022.0</td>\n",
              "      <td>1704.0</td>\n",
              "      <td>2367.0</td>\n",
              "      <td>1865.0</td>\n",
              "      <td>19934</td>\n",
              "      <td>NaN</td>\n",
              "      <td>NaN</td>\n",
              "      <td>-14.482584</td>\n",
              "      <td>35.273429</td>\n",
              "      <td>NaN</td>\n",
              "      <td>NaN</td>\n",
              "      <td>NaN</td>\n",
              "      <td>0</td>\n",
              "    </tr>\n",
              "    <tr>\n",
              "      <th>19934</th>\n",
              "      <td>1150.0</td>\n",
              "      <td>1043.0</td>\n",
              "      <td>1049.0</td>\n",
              "      <td>1944.0</td>\n",
              "      <td>2367.0</td>\n",
              "      <td>1865.0</td>\n",
              "      <td>19935</td>\n",
              "      <td>NaN</td>\n",
              "      <td>NaN</td>\n",
              "      <td>-14.482583</td>\n",
              "      <td>35.273521</td>\n",
              "      <td>NaN</td>\n",
              "      <td>NaN</td>\n",
              "      <td>NaN</td>\n",
              "      <td>0</td>\n",
              "    </tr>\n",
              "    <tr>\n",
              "      <th>19935</th>\n",
              "      <td>1143.0</td>\n",
              "      <td>1030.0</td>\n",
              "      <td>1101.0</td>\n",
              "      <td>1949.0</td>\n",
              "      <td>2591.0</td>\n",
              "      <td>1914.0</td>\n",
              "      <td>19936</td>\n",
              "      <td>NaN</td>\n",
              "      <td>NaN</td>\n",
              "      <td>-14.482582</td>\n",
              "      <td>35.273614</td>\n",
              "      <td>NaN</td>\n",
              "      <td>NaN</td>\n",
              "      <td>NaN</td>\n",
              "      <td>0</td>\n",
              "    </tr>\n",
              "    <tr>\n",
              "      <th>19936</th>\n",
              "      <td>1158.0</td>\n",
              "      <td>1027.0</td>\n",
              "      <td>1050.0</td>\n",
              "      <td>1881.0</td>\n",
              "      <td>2591.0</td>\n",
              "      <td>1914.0</td>\n",
              "      <td>19937</td>\n",
              "      <td>NaN</td>\n",
              "      <td>NaN</td>\n",
              "      <td>-14.482581</td>\n",
              "      <td>35.273707</td>\n",
              "      <td>NaN</td>\n",
              "      <td>NaN</td>\n",
              "      <td>NaN</td>\n",
              "      <td>0</td>\n",
              "    </tr>\n",
              "  </tbody>\n",
              "</table>\n",
              "<p>19937 rows × 15 columns</p>\n",
              "</div>\n",
              "      <button class=\"colab-df-convert\" onclick=\"convertToInteractive('df-e8498ad4-5bdb-4b4c-a010-4cf8397b29cf')\"\n",
              "              title=\"Convert this dataframe to an interactive table.\"\n",
              "              style=\"display:none;\">\n",
              "        \n",
              "  <svg xmlns=\"http://www.w3.org/2000/svg\" height=\"24px\"viewBox=\"0 0 24 24\"\n",
              "       width=\"24px\">\n",
              "    <path d=\"M0 0h24v24H0V0z\" fill=\"none\"/>\n",
              "    <path d=\"M18.56 5.44l.94 2.06.94-2.06 2.06-.94-2.06-.94-.94-2.06-.94 2.06-2.06.94zm-11 1L8.5 8.5l.94-2.06 2.06-.94-2.06-.94L8.5 2.5l-.94 2.06-2.06.94zm10 10l.94 2.06.94-2.06 2.06-.94-2.06-.94-.94-2.06-.94 2.06-2.06.94z\"/><path d=\"M17.41 7.96l-1.37-1.37c-.4-.4-.92-.59-1.43-.59-.52 0-1.04.2-1.43.59L10.3 9.45l-7.72 7.72c-.78.78-.78 2.05 0 2.83L4 21.41c.39.39.9.59 1.41.59.51 0 1.02-.2 1.41-.59l7.78-7.78 2.81-2.81c.8-.78.8-2.07 0-2.86zM5.41 20L4 18.59l7.72-7.72 1.47 1.35L5.41 20z\"/>\n",
              "  </svg>\n",
              "      </button>\n",
              "      \n",
              "  <style>\n",
              "    .colab-df-container {\n",
              "      display:flex;\n",
              "      flex-wrap:wrap;\n",
              "      gap: 12px;\n",
              "    }\n",
              "\n",
              "    .colab-df-convert {\n",
              "      background-color: #E8F0FE;\n",
              "      border: none;\n",
              "      border-radius: 50%;\n",
              "      cursor: pointer;\n",
              "      display: none;\n",
              "      fill: #1967D2;\n",
              "      height: 32px;\n",
              "      padding: 0 0 0 0;\n",
              "      width: 32px;\n",
              "    }\n",
              "\n",
              "    .colab-df-convert:hover {\n",
              "      background-color: #E2EBFA;\n",
              "      box-shadow: 0px 1px 2px rgba(60, 64, 67, 0.3), 0px 1px 3px 1px rgba(60, 64, 67, 0.15);\n",
              "      fill: #174EA6;\n",
              "    }\n",
              "\n",
              "    [theme=dark] .colab-df-convert {\n",
              "      background-color: #3B4455;\n",
              "      fill: #D2E3FC;\n",
              "    }\n",
              "\n",
              "    [theme=dark] .colab-df-convert:hover {\n",
              "      background-color: #434B5C;\n",
              "      box-shadow: 0px 1px 3px 1px rgba(0, 0, 0, 0.15);\n",
              "      filter: drop-shadow(0px 1px 2px rgba(0, 0, 0, 0.3));\n",
              "      fill: #FFFFFF;\n",
              "    }\n",
              "  </style>\n",
              "\n",
              "      <script>\n",
              "        const buttonEl =\n",
              "          document.querySelector('#df-e8498ad4-5bdb-4b4c-a010-4cf8397b29cf button.colab-df-convert');\n",
              "        buttonEl.style.display =\n",
              "          google.colab.kernel.accessAllowed ? 'block' : 'none';\n",
              "\n",
              "        async function convertToInteractive(key) {\n",
              "          const element = document.querySelector('#df-e8498ad4-5bdb-4b4c-a010-4cf8397b29cf');\n",
              "          const dataTable =\n",
              "            await google.colab.kernel.invokeFunction('convertToInteractive',\n",
              "                                                     [key], {});\n",
              "          if (!dataTable) return;\n",
              "\n",
              "          const docLinkHtml = 'Like what you see? Visit the ' +\n",
              "            '<a target=\"_blank\" href=https://colab.research.google.com/notebooks/data_table.ipynb>data table notebook</a>'\n",
              "            + ' to learn more about interactive tables.';\n",
              "          element.innerHTML = '';\n",
              "          dataTable['output_type'] = 'display_data';\n",
              "          await google.colab.output.renderOutput(dataTable, element);\n",
              "          const docLink = document.createElement('div');\n",
              "          docLink.innerHTML = docLinkHtml;\n",
              "          element.appendChild(docLink);\n",
              "        }\n",
              "      </script>\n",
              "    </div>\n",
              "  </div>\n",
              "  "
            ]
          },
          "metadata": {},
          "execution_count": 6
        }
      ],
      "source": [
        "df"
      ]
    },
    {
      "cell_type": "code",
      "execution_count": 7,
      "metadata": {
        "id": "fwXb6M73v9xh"
      },
      "outputs": [],
      "source": [
        "feature_names = ['B2', 'B3', 'B4', 'B8', 'B11', 'B12']\n",
        "label = \"building\""
      ]
    },
    {
      "cell_type": "code",
      "execution_count": 8,
      "metadata": {
        "id": "iYJrJP0RwBqH"
      },
      "outputs": [],
      "source": [
        "X = df[feature_names]\n",
        "y = df[label]"
      ]
    },
    {
      "cell_type": "code",
      "source": [
        "sum(y)"
      ],
      "metadata": {
        "id": "zA5JsuzaaJF3",
        "outputId": "c25e23a9-1b57-4504-c699-0523d94c150a",
        "colab": {
          "base_uri": "https://localhost:8080/"
        }
      },
      "execution_count": 9,
      "outputs": [
        {
          "output_type": "execute_result",
          "data": {
            "text/plain": [
              "2896"
            ]
          },
          "metadata": {},
          "execution_count": 9
        }
      ]
    },
    {
      "cell_type": "code",
      "source": [
        "# Split the data into training and test sets\n",
        "X_train, X_test, y_train, y_test = train_test_split(X, y, test_size=0.2)"
      ],
      "metadata": {
        "id": "8xM3vlJxqHeJ"
      },
      "execution_count": 10,
      "outputs": []
    },
    {
      "cell_type": "code",
      "source": [
        "#Train model\n",
        "rf = RandomForestClassifier()\n",
        "rf.fit(X_train, y_train)"
      ],
      "metadata": {
        "colab": {
          "base_uri": "https://localhost:8080/",
          "height": 74
        },
        "id": "Nvm-5esOqOcf",
        "outputId": "c33f63a3-8723-48a4-dd52-0ffe3adcac78"
      },
      "execution_count": 11,
      "outputs": [
        {
          "output_type": "execute_result",
          "data": {
            "text/plain": [
              "RandomForestClassifier()"
            ],
            "text/html": [
              "<style>#sk-container-id-1 {color: black;background-color: white;}#sk-container-id-1 pre{padding: 0;}#sk-container-id-1 div.sk-toggleable {background-color: white;}#sk-container-id-1 label.sk-toggleable__label {cursor: pointer;display: block;width: 100%;margin-bottom: 0;padding: 0.3em;box-sizing: border-box;text-align: center;}#sk-container-id-1 label.sk-toggleable__label-arrow:before {content: \"▸\";float: left;margin-right: 0.25em;color: #696969;}#sk-container-id-1 label.sk-toggleable__label-arrow:hover:before {color: black;}#sk-container-id-1 div.sk-estimator:hover label.sk-toggleable__label-arrow:before {color: black;}#sk-container-id-1 div.sk-toggleable__content {max-height: 0;max-width: 0;overflow: hidden;text-align: left;background-color: #f0f8ff;}#sk-container-id-1 div.sk-toggleable__content pre {margin: 0.2em;color: black;border-radius: 0.25em;background-color: #f0f8ff;}#sk-container-id-1 input.sk-toggleable__control:checked~div.sk-toggleable__content {max-height: 200px;max-width: 100%;overflow: auto;}#sk-container-id-1 input.sk-toggleable__control:checked~label.sk-toggleable__label-arrow:before {content: \"▾\";}#sk-container-id-1 div.sk-estimator input.sk-toggleable__control:checked~label.sk-toggleable__label {background-color: #d4ebff;}#sk-container-id-1 div.sk-label input.sk-toggleable__control:checked~label.sk-toggleable__label {background-color: #d4ebff;}#sk-container-id-1 input.sk-hidden--visually {border: 0;clip: rect(1px 1px 1px 1px);clip: rect(1px, 1px, 1px, 1px);height: 1px;margin: -1px;overflow: hidden;padding: 0;position: absolute;width: 1px;}#sk-container-id-1 div.sk-estimator {font-family: monospace;background-color: #f0f8ff;border: 1px dotted black;border-radius: 0.25em;box-sizing: border-box;margin-bottom: 0.5em;}#sk-container-id-1 div.sk-estimator:hover {background-color: #d4ebff;}#sk-container-id-1 div.sk-parallel-item::after {content: \"\";width: 100%;border-bottom: 1px solid gray;flex-grow: 1;}#sk-container-id-1 div.sk-label:hover label.sk-toggleable__label {background-color: #d4ebff;}#sk-container-id-1 div.sk-serial::before {content: \"\";position: absolute;border-left: 1px solid gray;box-sizing: border-box;top: 0;bottom: 0;left: 50%;z-index: 0;}#sk-container-id-1 div.sk-serial {display: flex;flex-direction: column;align-items: center;background-color: white;padding-right: 0.2em;padding-left: 0.2em;position: relative;}#sk-container-id-1 div.sk-item {position: relative;z-index: 1;}#sk-container-id-1 div.sk-parallel {display: flex;align-items: stretch;justify-content: center;background-color: white;position: relative;}#sk-container-id-1 div.sk-item::before, #sk-container-id-1 div.sk-parallel-item::before {content: \"\";position: absolute;border-left: 1px solid gray;box-sizing: border-box;top: 0;bottom: 0;left: 50%;z-index: -1;}#sk-container-id-1 div.sk-parallel-item {display: flex;flex-direction: column;z-index: 1;position: relative;background-color: white;}#sk-container-id-1 div.sk-parallel-item:first-child::after {align-self: flex-end;width: 50%;}#sk-container-id-1 div.sk-parallel-item:last-child::after {align-self: flex-start;width: 50%;}#sk-container-id-1 div.sk-parallel-item:only-child::after {width: 0;}#sk-container-id-1 div.sk-dashed-wrapped {border: 1px dashed gray;margin: 0 0.4em 0.5em 0.4em;box-sizing: border-box;padding-bottom: 0.4em;background-color: white;}#sk-container-id-1 div.sk-label label {font-family: monospace;font-weight: bold;display: inline-block;line-height: 1.2em;}#sk-container-id-1 div.sk-label-container {text-align: center;}#sk-container-id-1 div.sk-container {/* jupyter's `normalize.less` sets `[hidden] { display: none; }` but bootstrap.min.css set `[hidden] { display: none !important; }` so we also need the `!important` here to be able to override the default hidden behavior on the sphinx rendered scikit-learn.org. See: https://github.com/scikit-learn/scikit-learn/issues/21755 */display: inline-block !important;position: relative;}#sk-container-id-1 div.sk-text-repr-fallback {display: none;}</style><div id=\"sk-container-id-1\" class=\"sk-top-container\"><div class=\"sk-text-repr-fallback\"><pre>RandomForestClassifier()</pre><b>In a Jupyter environment, please rerun this cell to show the HTML representation or trust the notebook. <br />On GitHub, the HTML representation is unable to render, please try loading this page with nbviewer.org.</b></div><div class=\"sk-container\" hidden><div class=\"sk-item\"><div class=\"sk-estimator sk-toggleable\"><input class=\"sk-toggleable__control sk-hidden--visually\" id=\"sk-estimator-id-1\" type=\"checkbox\" checked><label for=\"sk-estimator-id-1\" class=\"sk-toggleable__label sk-toggleable__label-arrow\">RandomForestClassifier</label><div class=\"sk-toggleable__content\"><pre>RandomForestClassifier()</pre></div></div></div></div></div>"
            ]
          },
          "metadata": {},
          "execution_count": 11
        }
      ]
    },
    {
      "cell_type": "code",
      "source": [
        "#Evaliuate\n",
        "y_pred = rf.predict(X_test)\n",
        "print(classification_report(y_test, y_pred))"
      ],
      "metadata": {
        "id": "r8xDqIj7zLPg",
        "colab": {
          "base_uri": "https://localhost:8080/"
        },
        "outputId": "65e76d65-d952-4662-84f5-c87f8c8b1762"
      },
      "execution_count": 12,
      "outputs": [
        {
          "output_type": "stream",
          "name": "stdout",
          "text": [
            "              precision    recall  f1-score   support\n",
            "\n",
            "           0       0.88      0.97      0.92      3407\n",
            "           1       0.53      0.19      0.28       581\n",
            "\n",
            "    accuracy                           0.86      3988\n",
            "   macro avg       0.70      0.58      0.60      3988\n",
            "weighted avg       0.83      0.86      0.83      3988\n",
            "\n"
          ]
        }
      ]
    },
    {
      "cell_type": "code",
      "source": [
        "accuracy = accuracy_score(y_test, y_pred)\n",
        "print(\"Accuracy:\", accuracy)"
      ],
      "metadata": {
        "colab": {
          "base_uri": "https://localhost:8080/"
        },
        "id": "qS7ZYPrwqWPX",
        "outputId": "9524033d-e31d-4b7c-c1c2-397dd2a34814"
      },
      "execution_count": 13,
      "outputs": [
        {
          "output_type": "stream",
          "name": "stdout",
          "text": [
            "Accuracy: 0.8575727181544633\n"
          ]
        }
      ]
    },
    {
      "cell_type": "code",
      "source": [
        "for i in range(3):\n",
        "    tree = rf.estimators_[i]\n",
        "    dot_data = export_graphviz(tree,\n",
        "                               feature_names=X_train.columns,  \n",
        "                               filled=True,  \n",
        "                               max_depth=2, \n",
        "                               impurity=False, \n",
        "                               proportion=True)\n",
        "    graph = graphviz.Source(dot_data)\n",
        "    display(graph)"
      ],
      "metadata": {
        "colab": {
          "base_uri": "https://localhost:8080/",
          "height": 1000
        },
        "id": "XXkrVuWeqhbo",
        "outputId": "292acc1a-73fc-4cb6-a380-613af1d11f86"
      },
      "execution_count": 14,
      "outputs": [
        {
          "output_type": "display_data",
          "data": {
            "text/plain": [
              "<graphviz.files.Source at 0x7ffa2a968d00>"
            ],
            "image/svg+xml": "<?xml version=\"1.0\" encoding=\"UTF-8\" standalone=\"no\"?>\n<!DOCTYPE svg PUBLIC \"-//W3C//DTD SVG 1.1//EN\"\n \"http://www.w3.org/Graphics/SVG/1.1/DTD/svg11.dtd\">\n<!-- Generated by graphviz version 2.43.0 (0)\n -->\n<!-- Title: Tree Pages: 1 -->\n<svg width=\"629pt\" height=\"311pt\"\n viewBox=\"0.00 0.00 629.00 311.00\" xmlns=\"http://www.w3.org/2000/svg\" xmlns:xlink=\"http://www.w3.org/1999/xlink\">\n<g id=\"graph0\" class=\"graph\" transform=\"scale(1 1) rotate(0) translate(4 307)\">\n<title>Tree</title>\n<polygon fill=\"white\" stroke=\"transparent\" points=\"-4,4 -4,-307 625,-307 625,4 -4,4\"/>\n<!-- 0 -->\n<g id=\"node1\" class=\"node\">\n<title>0</title>\n<polygon fill=\"#e99559\" stroke=\"black\" points=\"369.5,-303 222.5,-303 222.5,-250 369.5,-250 369.5,-303\"/>\n<text text-anchor=\"middle\" x=\"296\" y=\"-287.8\" font-family=\"Helvetica,sans-Serif\" font-size=\"14.00\">B3 &lt;= 1262.5</text>\n<text text-anchor=\"middle\" x=\"296\" y=\"-272.8\" font-family=\"Helvetica,sans-Serif\" font-size=\"14.00\">samples = 100.0%</text>\n<text text-anchor=\"middle\" x=\"296\" y=\"-257.8\" font-family=\"Helvetica,sans-Serif\" font-size=\"14.00\">value = [0.861, 0.139]</text>\n</g>\n<!-- 1 -->\n<g id=\"node2\" class=\"node\">\n<title>1</title>\n<polygon fill=\"#e88e4d\" stroke=\"black\" points=\"287.5,-214 140.5,-214 140.5,-161 287.5,-161 287.5,-214\"/>\n<text text-anchor=\"middle\" x=\"214\" y=\"-198.8\" font-family=\"Helvetica,sans-Serif\" font-size=\"14.00\">B2 &lt;= 1169.5</text>\n<text text-anchor=\"middle\" x=\"214\" y=\"-183.8\" font-family=\"Helvetica,sans-Serif\" font-size=\"14.00\">samples = 73.0%</text>\n<text text-anchor=\"middle\" x=\"214\" y=\"-168.8\" font-family=\"Helvetica,sans-Serif\" font-size=\"14.00\">value = [0.907, 0.093]</text>\n</g>\n<!-- 0&#45;&gt;1 -->\n<g id=\"edge1\" class=\"edge\">\n<title>0&#45;&gt;1</title>\n<path fill=\"none\" stroke=\"black\" d=\"M271.84,-249.87C263.49,-241.01 254.01,-230.95 245.18,-221.58\"/>\n<polygon fill=\"black\" stroke=\"black\" points=\"247.68,-219.13 238.27,-214.25 242.58,-223.93 247.68,-219.13\"/>\n<text text-anchor=\"middle\" x=\"237.53\" y=\"-235.54\" font-family=\"Helvetica,sans-Serif\" font-size=\"14.00\">True</text>\n</g>\n<!-- 2028 -->\n<g id=\"node9\" class=\"node\">\n<title>2028</title>\n<polygon fill=\"#eead7f\" stroke=\"black\" points=\"452.5,-214 305.5,-214 305.5,-161 452.5,-161 452.5,-214\"/>\n<text text-anchor=\"middle\" x=\"379\" y=\"-198.8\" font-family=\"Helvetica,sans-Serif\" font-size=\"14.00\">B2 &lt;= 1535.5</text>\n<text text-anchor=\"middle\" x=\"379\" y=\"-183.8\" font-family=\"Helvetica,sans-Serif\" font-size=\"14.00\">samples = 27.0%</text>\n<text text-anchor=\"middle\" x=\"379\" y=\"-168.8\" font-family=\"Helvetica,sans-Serif\" font-size=\"14.00\">value = [0.739, 0.261]</text>\n</g>\n<!-- 0&#45;&gt;2028 -->\n<g id=\"edge8\" class=\"edge\">\n<title>0&#45;&gt;2028</title>\n<path fill=\"none\" stroke=\"black\" d=\"M320.45,-249.87C328.91,-241.01 338.5,-230.95 347.44,-221.58\"/>\n<polygon fill=\"black\" stroke=\"black\" points=\"350.06,-223.9 354.43,-214.25 345,-219.07 350.06,-223.9\"/>\n<text text-anchor=\"middle\" x=\"355.02\" y=\"-235.54\" font-family=\"Helvetica,sans-Serif\" font-size=\"14.00\">False</text>\n</g>\n<!-- 2 -->\n<g id=\"node3\" class=\"node\">\n<title>2</title>\n<polygon fill=\"#e6853f\" stroke=\"black\" points=\"132,-125 0,-125 0,-72 132,-72 132,-125\"/>\n<text text-anchor=\"middle\" x=\"66\" y=\"-109.8\" font-family=\"Helvetica,sans-Serif\" font-size=\"14.00\">B3 &lt;= 981.5</text>\n<text text-anchor=\"middle\" x=\"66\" y=\"-94.8\" font-family=\"Helvetica,sans-Serif\" font-size=\"14.00\">samples = 34.7%</text>\n<text text-anchor=\"middle\" x=\"66\" y=\"-79.8\" font-family=\"Helvetica,sans-Serif\" font-size=\"14.00\">value = [0.97, 0.03]</text>\n</g>\n<!-- 1&#45;&gt;2 -->\n<g id=\"edge2\" class=\"edge\">\n<title>1&#45;&gt;2</title>\n<path fill=\"none\" stroke=\"black\" d=\"M170.4,-160.87C154.06,-151.26 135.33,-140.25 118.29,-130.24\"/>\n<polygon fill=\"black\" stroke=\"black\" points=\"119.94,-127.15 109.55,-125.1 116.4,-133.18 119.94,-127.15\"/>\n</g>\n<!-- 461 -->\n<g id=\"node6\" class=\"node\">\n<title>461</title>\n<polygon fill=\"#ea975c\" stroke=\"black\" points=\"282,-125 150,-125 150,-72 282,-72 282,-125\"/>\n<text text-anchor=\"middle\" x=\"216\" y=\"-109.8\" font-family=\"Helvetica,sans-Serif\" font-size=\"14.00\">B2 &lt;= 1289.5</text>\n<text text-anchor=\"middle\" x=\"216\" y=\"-94.8\" font-family=\"Helvetica,sans-Serif\" font-size=\"14.00\">samples = 38.3%</text>\n<text text-anchor=\"middle\" x=\"216\" y=\"-79.8\" font-family=\"Helvetica,sans-Serif\" font-size=\"14.00\">value = [0.85, 0.15]</text>\n</g>\n<!-- 1&#45;&gt;461 -->\n<g id=\"edge5\" class=\"edge\">\n<title>1&#45;&gt;461</title>\n<path fill=\"none\" stroke=\"black\" d=\"M214.59,-160.87C214.77,-152.89 214.98,-143.93 215.18,-135.38\"/>\n<polygon fill=\"black\" stroke=\"black\" points=\"218.68,-135.33 215.41,-125.25 211.68,-135.17 218.68,-135.33\"/>\n</g>\n<!-- 3 -->\n<g id=\"node4\" class=\"node\">\n<title>3</title>\n<polygon fill=\"#c0c0c0\" stroke=\"black\" points=\"78,-36 24,-36 24,0 78,0 78,-36\"/>\n<text text-anchor=\"middle\" x=\"51\" y=\"-14.3\" font-family=\"Helvetica,sans-Serif\" font-size=\"14.00\">(...)</text>\n</g>\n<!-- 2&#45;&gt;3 -->\n<g id=\"edge3\" class=\"edge\">\n<title>2&#45;&gt;3</title>\n<path fill=\"none\" stroke=\"black\" d=\"M61.09,-71.8C59.53,-63.62 57.79,-54.55 56.21,-46.27\"/>\n<polygon fill=\"black\" stroke=\"black\" points=\"59.63,-45.5 54.31,-36.33 52.75,-46.81 59.63,-45.5\"/>\n</g>\n<!-- 142 -->\n<g id=\"node5\" class=\"node\">\n<title>142</title>\n<polygon fill=\"#c0c0c0\" stroke=\"black\" points=\"150,-36 96,-36 96,0 150,0 150,-36\"/>\n<text text-anchor=\"middle\" x=\"123\" y=\"-14.3\" font-family=\"Helvetica,sans-Serif\" font-size=\"14.00\">(...)</text>\n</g>\n<!-- 2&#45;&gt;142 -->\n<g id=\"edge4\" class=\"edge\">\n<title>2&#45;&gt;142</title>\n<path fill=\"none\" stroke=\"black\" d=\"M84.66,-71.8C91,-63.08 98.06,-53.34 104.39,-44.63\"/>\n<polygon fill=\"black\" stroke=\"black\" points=\"107.37,-46.48 110.42,-36.33 101.71,-42.37 107.37,-46.48\"/>\n</g>\n<!-- 462 -->\n<g id=\"node7\" class=\"node\">\n<title>462</title>\n<polygon fill=\"#c0c0c0\" stroke=\"black\" points=\"232,-36 178,-36 178,0 232,0 232,-36\"/>\n<text text-anchor=\"middle\" x=\"205\" y=\"-14.3\" font-family=\"Helvetica,sans-Serif\" font-size=\"14.00\">(...)</text>\n</g>\n<!-- 461&#45;&gt;462 -->\n<g id=\"edge6\" class=\"edge\">\n<title>461&#45;&gt;462</title>\n<path fill=\"none\" stroke=\"black\" d=\"M212.4,-71.8C211.25,-63.62 209.98,-54.55 208.82,-46.27\"/>\n<polygon fill=\"black\" stroke=\"black\" points=\"212.28,-45.75 207.43,-36.33 205.35,-46.72 212.28,-45.75\"/>\n</g>\n<!-- 1545 -->\n<g id=\"node8\" class=\"node\">\n<title>1545</title>\n<polygon fill=\"#c0c0c0\" stroke=\"black\" points=\"304,-36 250,-36 250,0 304,0 304,-36\"/>\n<text text-anchor=\"middle\" x=\"277\" y=\"-14.3\" font-family=\"Helvetica,sans-Serif\" font-size=\"14.00\">(...)</text>\n</g>\n<!-- 461&#45;&gt;1545 -->\n<g id=\"edge7\" class=\"edge\">\n<title>461&#45;&gt;1545</title>\n<path fill=\"none\" stroke=\"black\" d=\"M235.97,-71.8C242.82,-62.99 250.47,-53.14 257.3,-44.36\"/>\n<polygon fill=\"black\" stroke=\"black\" points=\"260.16,-46.37 263.53,-36.33 254.63,-42.08 260.16,-46.37\"/>\n</g>\n<!-- 2029 -->\n<g id=\"node10\" class=\"node\">\n<title>2029</title>\n<polygon fill=\"#eca470\" stroke=\"black\" points=\"450.5,-125 303.5,-125 303.5,-72 450.5,-72 450.5,-125\"/>\n<text text-anchor=\"middle\" x=\"377\" y=\"-109.8\" font-family=\"Helvetica,sans-Serif\" font-size=\"14.00\">B12 &lt;= 2451.5</text>\n<text text-anchor=\"middle\" x=\"377\" y=\"-94.8\" font-family=\"Helvetica,sans-Serif\" font-size=\"14.00\">samples = 21.4%</text>\n<text text-anchor=\"middle\" x=\"377\" y=\"-79.8\" font-family=\"Helvetica,sans-Serif\" font-size=\"14.00\">value = [0.784, 0.216]</text>\n</g>\n<!-- 2028&#45;&gt;2029 -->\n<g id=\"edge9\" class=\"edge\">\n<title>2028&#45;&gt;2029</title>\n<path fill=\"none\" stroke=\"black\" d=\"M378.41,-160.87C378.23,-152.89 378.02,-143.93 377.82,-135.38\"/>\n<polygon fill=\"black\" stroke=\"black\" points=\"381.32,-135.17 377.59,-125.25 374.32,-135.33 381.32,-135.17\"/>\n</g>\n<!-- 3096 -->\n<g id=\"node13\" class=\"node\">\n<title>3096</title>\n<polygon fill=\"#f9e1d0\" stroke=\"black\" points=\"615.5,-125 468.5,-125 468.5,-72 615.5,-72 615.5,-125\"/>\n<text text-anchor=\"middle\" x=\"542\" y=\"-109.8\" font-family=\"Helvetica,sans-Serif\" font-size=\"14.00\">B8 &lt;= 1931.0</text>\n<text text-anchor=\"middle\" x=\"542\" y=\"-94.8\" font-family=\"Helvetica,sans-Serif\" font-size=\"14.00\">samples = 5.6%</text>\n<text text-anchor=\"middle\" x=\"542\" y=\"-79.8\" font-family=\"Helvetica,sans-Serif\" font-size=\"14.00\">value = [0.567, 0.433]</text>\n</g>\n<!-- 2028&#45;&gt;3096 -->\n<g id=\"edge12\" class=\"edge\">\n<title>2028&#45;&gt;3096</title>\n<path fill=\"none\" stroke=\"black\" d=\"M427.02,-160.87C445.26,-151.13 466.21,-139.95 485.19,-129.82\"/>\n<polygon fill=\"black\" stroke=\"black\" points=\"486.86,-132.9 494.04,-125.1 483.57,-126.72 486.86,-132.9\"/>\n</g>\n<!-- 2030 -->\n<g id=\"node11\" class=\"node\">\n<title>2030</title>\n<polygon fill=\"#c0c0c0\" stroke=\"black\" points=\"388,-36 334,-36 334,0 388,0 388,-36\"/>\n<text text-anchor=\"middle\" x=\"361\" y=\"-14.3\" font-family=\"Helvetica,sans-Serif\" font-size=\"14.00\">(...)</text>\n</g>\n<!-- 2029&#45;&gt;2030 -->\n<g id=\"edge10\" class=\"edge\">\n<title>2029&#45;&gt;2030</title>\n<path fill=\"none\" stroke=\"black\" d=\"M371.76,-71.8C370.09,-63.62 368.25,-54.55 366.56,-46.27\"/>\n<polygon fill=\"black\" stroke=\"black\" points=\"369.96,-45.43 364.53,-36.33 363.1,-46.83 369.96,-45.43\"/>\n</g>\n<!-- 2849 -->\n<g id=\"node12\" class=\"node\">\n<title>2849</title>\n<polygon fill=\"#c0c0c0\" stroke=\"black\" points=\"460,-36 406,-36 406,0 460,0 460,-36\"/>\n<text text-anchor=\"middle\" x=\"433\" y=\"-14.3\" font-family=\"Helvetica,sans-Serif\" font-size=\"14.00\">(...)</text>\n</g>\n<!-- 2029&#45;&gt;2849 -->\n<g id=\"edge11\" class=\"edge\">\n<title>2029&#45;&gt;2849</title>\n<path fill=\"none\" stroke=\"black\" d=\"M395.34,-71.8C401.56,-63.08 408.5,-53.34 414.72,-44.63\"/>\n<polygon fill=\"black\" stroke=\"black\" points=\"417.68,-46.5 420.64,-36.33 411.98,-42.44 417.68,-46.5\"/>\n</g>\n<!-- 3097 -->\n<g id=\"node14\" class=\"node\">\n<title>3097</title>\n<polygon fill=\"#c0c0c0\" stroke=\"black\" points=\"549,-36 495,-36 495,0 549,0 549,-36\"/>\n<text text-anchor=\"middle\" x=\"522\" y=\"-14.3\" font-family=\"Helvetica,sans-Serif\" font-size=\"14.00\">(...)</text>\n</g>\n<!-- 3096&#45;&gt;3097 -->\n<g id=\"edge13\" class=\"edge\">\n<title>3096&#45;&gt;3097</title>\n<path fill=\"none\" stroke=\"black\" d=\"M535.45,-71.8C533.37,-63.62 531.06,-54.55 528.95,-46.27\"/>\n<polygon fill=\"black\" stroke=\"black\" points=\"532.28,-45.16 526.42,-36.33 525.49,-46.88 532.28,-45.16\"/>\n</g>\n<!-- 3228 -->\n<g id=\"node15\" class=\"node\">\n<title>3228</title>\n<polygon fill=\"#c0c0c0\" stroke=\"black\" points=\"621,-36 567,-36 567,0 621,0 621,-36\"/>\n<text text-anchor=\"middle\" x=\"594\" y=\"-14.3\" font-family=\"Helvetica,sans-Serif\" font-size=\"14.00\">(...)</text>\n</g>\n<!-- 3096&#45;&gt;3228 -->\n<g id=\"edge14\" class=\"edge\">\n<title>3096&#45;&gt;3228</title>\n<path fill=\"none\" stroke=\"black\" d=\"M559.03,-71.8C564.74,-63.17 571.12,-53.54 576.84,-44.9\"/>\n<polygon fill=\"black\" stroke=\"black\" points=\"579.92,-46.6 582.52,-36.33 574.08,-42.73 579.92,-46.6\"/>\n</g>\n</g>\n</svg>\n"
          },
          "metadata": {}
        },
        {
          "output_type": "display_data",
          "data": {
            "text/plain": [
              "<graphviz.files.Source at 0x7ff9f64d1100>"
            ],
            "image/svg+xml": "<?xml version=\"1.0\" encoding=\"UTF-8\" standalone=\"no\"?>\n<!DOCTYPE svg PUBLIC \"-//W3C//DTD SVG 1.1//EN\"\n \"http://www.w3.org/Graphics/SVG/1.1/DTD/svg11.dtd\">\n<!-- Generated by graphviz version 2.43.0 (0)\n -->\n<!-- Title: Tree Pages: 1 -->\n<svg width=\"647pt\" height=\"311pt\"\n viewBox=\"0.00 0.00 646.50 311.00\" xmlns=\"http://www.w3.org/2000/svg\" xmlns:xlink=\"http://www.w3.org/1999/xlink\">\n<g id=\"graph0\" class=\"graph\" transform=\"scale(1 1) rotate(0) translate(4 307)\">\n<title>Tree</title>\n<polygon fill=\"white\" stroke=\"transparent\" points=\"-4,4 -4,-307 642.5,-307 642.5,4 -4,4\"/>\n<!-- 0 -->\n<g id=\"node1\" class=\"node\">\n<title>0</title>\n<polygon fill=\"#e9965b\" stroke=\"black\" points=\"392,-303 245,-303 245,-250 392,-250 392,-303\"/>\n<text text-anchor=\"middle\" x=\"318.5\" y=\"-287.8\" font-family=\"Helvetica,sans-Serif\" font-size=\"14.00\">B3 &lt;= 1262.5</text>\n<text text-anchor=\"middle\" x=\"318.5\" y=\"-272.8\" font-family=\"Helvetica,sans-Serif\" font-size=\"14.00\">samples = 100.0%</text>\n<text text-anchor=\"middle\" x=\"318.5\" y=\"-257.8\" font-family=\"Helvetica,sans-Serif\" font-size=\"14.00\">value = [0.855, 0.145]</text>\n</g>\n<!-- 1 -->\n<g id=\"node2\" class=\"node\">\n<title>1</title>\n<polygon fill=\"#e88e4e\" stroke=\"black\" points=\"310,-214 163,-214 163,-161 310,-161 310,-214\"/>\n<text text-anchor=\"middle\" x=\"236.5\" y=\"-198.8\" font-family=\"Helvetica,sans-Serif\" font-size=\"14.00\">B2 &lt;= 1172.5</text>\n<text text-anchor=\"middle\" x=\"236.5\" y=\"-183.8\" font-family=\"Helvetica,sans-Serif\" font-size=\"14.00\">samples = 73.1%</text>\n<text text-anchor=\"middle\" x=\"236.5\" y=\"-168.8\" font-family=\"Helvetica,sans-Serif\" font-size=\"14.00\">value = [0.905, 0.095]</text>\n</g>\n<!-- 0&#45;&gt;1 -->\n<g id=\"edge1\" class=\"edge\">\n<title>0&#45;&gt;1</title>\n<path fill=\"none\" stroke=\"black\" d=\"M294.34,-249.87C285.99,-241.01 276.51,-230.95 267.68,-221.58\"/>\n<polygon fill=\"black\" stroke=\"black\" points=\"270.18,-219.13 260.77,-214.25 265.08,-223.93 270.18,-219.13\"/>\n<text text-anchor=\"middle\" x=\"260.03\" y=\"-235.54\" font-family=\"Helvetica,sans-Serif\" font-size=\"14.00\">True</text>\n</g>\n<!-- 2052 -->\n<g id=\"node9\" class=\"node\">\n<title>2052</title>\n<polygon fill=\"#efb387\" stroke=\"black\" points=\"475,-214 328,-214 328,-161 475,-161 475,-214\"/>\n<text text-anchor=\"middle\" x=\"401.5\" y=\"-198.8\" font-family=\"Helvetica,sans-Serif\" font-size=\"14.00\">B8 &lt;= 2024.5</text>\n<text text-anchor=\"middle\" x=\"401.5\" y=\"-183.8\" font-family=\"Helvetica,sans-Serif\" font-size=\"14.00\">samples = 26.9%</text>\n<text text-anchor=\"middle\" x=\"401.5\" y=\"-168.8\" font-family=\"Helvetica,sans-Serif\" font-size=\"14.00\">value = [0.717, 0.283]</text>\n</g>\n<!-- 0&#45;&gt;2052 -->\n<g id=\"edge8\" class=\"edge\">\n<title>0&#45;&gt;2052</title>\n<path fill=\"none\" stroke=\"black\" d=\"M342.95,-249.87C351.41,-241.01 361,-230.95 369.94,-221.58\"/>\n<polygon fill=\"black\" stroke=\"black\" points=\"372.56,-223.9 376.93,-214.25 367.5,-219.07 372.56,-223.9\"/>\n<text text-anchor=\"middle\" x=\"377.52\" y=\"-235.54\" font-family=\"Helvetica,sans-Serif\" font-size=\"14.00\">False</text>\n</g>\n<!-- 2 -->\n<g id=\"node3\" class=\"node\">\n<title>2</title>\n<polygon fill=\"#e6853f\" stroke=\"black\" points=\"147,-125 0,-125 0,-72 147,-72 147,-125\"/>\n<text text-anchor=\"middle\" x=\"73.5\" y=\"-109.8\" font-family=\"Helvetica,sans-Serif\" font-size=\"14.00\">B2 &lt;= 1077.5</text>\n<text text-anchor=\"middle\" x=\"73.5\" y=\"-94.8\" font-family=\"Helvetica,sans-Serif\" font-size=\"14.00\">samples = 35.3%</text>\n<text text-anchor=\"middle\" x=\"73.5\" y=\"-79.8\" font-family=\"Helvetica,sans-Serif\" font-size=\"14.00\">value = [0.969, 0.031]</text>\n</g>\n<!-- 1&#45;&gt;2 -->\n<g id=\"edge2\" class=\"edge\">\n<title>1&#45;&gt;2</title>\n<path fill=\"none\" stroke=\"black\" d=\"M188.48,-160.87C170.24,-151.13 149.29,-139.95 130.31,-129.82\"/>\n<polygon fill=\"black\" stroke=\"black\" points=\"131.93,-126.72 121.46,-125.1 128.64,-132.9 131.93,-126.72\"/>\n</g>\n<!-- 423 -->\n<g id=\"node6\" class=\"node\">\n<title>423</title>\n<polygon fill=\"#ea985d\" stroke=\"black\" points=\"312,-125 165,-125 165,-72 312,-72 312,-125\"/>\n<text text-anchor=\"middle\" x=\"238.5\" y=\"-109.8\" font-family=\"Helvetica,sans-Serif\" font-size=\"14.00\">B2 &lt;= 1296.5</text>\n<text text-anchor=\"middle\" x=\"238.5\" y=\"-94.8\" font-family=\"Helvetica,sans-Serif\" font-size=\"14.00\">samples = 37.8%</text>\n<text text-anchor=\"middle\" x=\"238.5\" y=\"-79.8\" font-family=\"Helvetica,sans-Serif\" font-size=\"14.00\">value = [0.845, 0.155]</text>\n</g>\n<!-- 1&#45;&gt;423 -->\n<g id=\"edge5\" class=\"edge\">\n<title>1&#45;&gt;423</title>\n<path fill=\"none\" stroke=\"black\" d=\"M237.09,-160.87C237.27,-152.89 237.48,-143.93 237.68,-135.38\"/>\n<polygon fill=\"black\" stroke=\"black\" points=\"241.18,-135.33 237.91,-125.25 234.18,-135.17 241.18,-135.33\"/>\n</g>\n<!-- 3 -->\n<g id=\"node4\" class=\"node\">\n<title>3</title>\n<polygon fill=\"#c0c0c0\" stroke=\"black\" points=\"89.5,-36 35.5,-36 35.5,0 89.5,0 89.5,-36\"/>\n<text text-anchor=\"middle\" x=\"62.5\" y=\"-14.3\" font-family=\"Helvetica,sans-Serif\" font-size=\"14.00\">(...)</text>\n</g>\n<!-- 2&#45;&gt;3 -->\n<g id=\"edge3\" class=\"edge\">\n<title>2&#45;&gt;3</title>\n<path fill=\"none\" stroke=\"black\" d=\"M69.9,-71.8C68.75,-63.62 67.48,-54.55 66.32,-46.27\"/>\n<polygon fill=\"black\" stroke=\"black\" points=\"69.78,-45.75 64.93,-36.33 62.85,-46.72 69.78,-45.75\"/>\n</g>\n<!-- 44 -->\n<g id=\"node5\" class=\"node\">\n<title>44</title>\n<polygon fill=\"#c0c0c0\" stroke=\"black\" points=\"161.5,-36 107.5,-36 107.5,0 161.5,0 161.5,-36\"/>\n<text text-anchor=\"middle\" x=\"134.5\" y=\"-14.3\" font-family=\"Helvetica,sans-Serif\" font-size=\"14.00\">(...)</text>\n</g>\n<!-- 2&#45;&gt;44 -->\n<g id=\"edge4\" class=\"edge\">\n<title>2&#45;&gt;44</title>\n<path fill=\"none\" stroke=\"black\" d=\"M93.47,-71.8C100.32,-62.99 107.97,-53.14 114.8,-44.36\"/>\n<polygon fill=\"black\" stroke=\"black\" points=\"117.66,-46.37 121.03,-36.33 112.13,-42.08 117.66,-46.37\"/>\n</g>\n<!-- 424 -->\n<g id=\"node7\" class=\"node\">\n<title>424</title>\n<polygon fill=\"#c0c0c0\" stroke=\"black\" points=\"249.5,-36 195.5,-36 195.5,0 249.5,0 249.5,-36\"/>\n<text text-anchor=\"middle\" x=\"222.5\" y=\"-14.3\" font-family=\"Helvetica,sans-Serif\" font-size=\"14.00\">(...)</text>\n</g>\n<!-- 423&#45;&gt;424 -->\n<g id=\"edge6\" class=\"edge\">\n<title>423&#45;&gt;424</title>\n<path fill=\"none\" stroke=\"black\" d=\"M233.26,-71.8C231.59,-63.62 229.75,-54.55 228.06,-46.27\"/>\n<polygon fill=\"black\" stroke=\"black\" points=\"231.46,-45.43 226.03,-36.33 224.6,-46.83 231.46,-45.43\"/>\n</g>\n<!-- 1621 -->\n<g id=\"node8\" class=\"node\">\n<title>1621</title>\n<polygon fill=\"#c0c0c0\" stroke=\"black\" points=\"321.5,-36 267.5,-36 267.5,0 321.5,0 321.5,-36\"/>\n<text text-anchor=\"middle\" x=\"294.5\" y=\"-14.3\" font-family=\"Helvetica,sans-Serif\" font-size=\"14.00\">(...)</text>\n</g>\n<!-- 423&#45;&gt;1621 -->\n<g id=\"edge7\" class=\"edge\">\n<title>423&#45;&gt;1621</title>\n<path fill=\"none\" stroke=\"black\" d=\"M256.84,-71.8C263.06,-63.08 270,-53.34 276.22,-44.63\"/>\n<polygon fill=\"black\" stroke=\"black\" points=\"279.18,-46.5 282.14,-36.33 273.48,-42.44 279.18,-46.5\"/>\n</g>\n<!-- 2053 -->\n<g id=\"node10\" class=\"node\">\n<title>2053</title>\n<polygon fill=\"#f6d2b8\" stroke=\"black\" points=\"465.5,-125 333.5,-125 333.5,-72 465.5,-72 465.5,-125\"/>\n<text text-anchor=\"middle\" x=\"399.5\" y=\"-109.8\" font-family=\"Helvetica,sans-Serif\" font-size=\"14.00\">B2 &lt;= 1533.5</text>\n<text text-anchor=\"middle\" x=\"399.5\" y=\"-94.8\" font-family=\"Helvetica,sans-Serif\" font-size=\"14.00\">samples = 14.3%</text>\n<text text-anchor=\"middle\" x=\"399.5\" y=\"-79.8\" font-family=\"Helvetica,sans-Serif\" font-size=\"14.00\">value = [0.61, 0.39]</text>\n</g>\n<!-- 2052&#45;&gt;2053 -->\n<g id=\"edge9\" class=\"edge\">\n<title>2052&#45;&gt;2053</title>\n<path fill=\"none\" stroke=\"black\" d=\"M400.91,-160.87C400.73,-152.89 400.52,-143.93 400.32,-135.38\"/>\n<polygon fill=\"black\" stroke=\"black\" points=\"403.82,-135.17 400.09,-125.25 396.82,-135.33 403.82,-135.17\"/>\n</g>\n<!-- 2946 -->\n<g id=\"node13\" class=\"node\">\n<title>2946</title>\n<polygon fill=\"#ea985e\" stroke=\"black\" points=\"631,-125 484,-125 484,-72 631,-72 631,-125\"/>\n<text text-anchor=\"middle\" x=\"557.5\" y=\"-109.8\" font-family=\"Helvetica,sans-Serif\" font-size=\"14.00\">B3 &lt;= 1615.5</text>\n<text text-anchor=\"middle\" x=\"557.5\" y=\"-94.8\" font-family=\"Helvetica,sans-Serif\" font-size=\"14.00\">samples = 12.6%</text>\n<text text-anchor=\"middle\" x=\"557.5\" y=\"-79.8\" font-family=\"Helvetica,sans-Serif\" font-size=\"14.00\">value = [0.843, 0.157]</text>\n</g>\n<!-- 2052&#45;&gt;2946 -->\n<g id=\"edge12\" class=\"edge\">\n<title>2052&#45;&gt;2946</title>\n<path fill=\"none\" stroke=\"black\" d=\"M447.46,-160.87C464.68,-151.26 484.42,-140.25 502.39,-130.24\"/>\n<polygon fill=\"black\" stroke=\"black\" points=\"504.57,-133.03 511.6,-125.1 501.16,-126.91 504.57,-133.03\"/>\n</g>\n<!-- 2054 -->\n<g id=\"node11\" class=\"node\">\n<title>2054</title>\n<polygon fill=\"#c0c0c0\" stroke=\"black\" points=\"408.5,-36 354.5,-36 354.5,0 408.5,0 408.5,-36\"/>\n<text text-anchor=\"middle\" x=\"381.5\" y=\"-14.3\" font-family=\"Helvetica,sans-Serif\" font-size=\"14.00\">(...)</text>\n</g>\n<!-- 2053&#45;&gt;2054 -->\n<g id=\"edge10\" class=\"edge\">\n<title>2053&#45;&gt;2054</title>\n<path fill=\"none\" stroke=\"black\" d=\"M393.61,-71.8C391.73,-63.62 389.65,-54.55 387.75,-46.27\"/>\n<polygon fill=\"black\" stroke=\"black\" points=\"391.12,-45.3 385.47,-36.33 384.3,-46.86 391.12,-45.3\"/>\n</g>\n<!-- 2775 -->\n<g id=\"node12\" class=\"node\">\n<title>2775</title>\n<polygon fill=\"#c0c0c0\" stroke=\"black\" points=\"480.5,-36 426.5,-36 426.5,0 480.5,0 480.5,-36\"/>\n<text text-anchor=\"middle\" x=\"453.5\" y=\"-14.3\" font-family=\"Helvetica,sans-Serif\" font-size=\"14.00\">(...)</text>\n</g>\n<!-- 2053&#45;&gt;2775 -->\n<g id=\"edge11\" class=\"edge\">\n<title>2053&#45;&gt;2775</title>\n<path fill=\"none\" stroke=\"black\" d=\"M417.18,-71.8C423.18,-63.08 429.88,-53.34 435.87,-44.63\"/>\n<polygon fill=\"black\" stroke=\"black\" points=\"438.79,-46.55 441.58,-36.33 433.03,-42.59 438.79,-46.55\"/>\n</g>\n<!-- 2947 -->\n<g id=\"node14\" class=\"node\">\n<title>2947</title>\n<polygon fill=\"#c0c0c0\" stroke=\"black\" points=\"566.5,-36 512.5,-36 512.5,0 566.5,0 566.5,-36\"/>\n<text text-anchor=\"middle\" x=\"539.5\" y=\"-14.3\" font-family=\"Helvetica,sans-Serif\" font-size=\"14.00\">(...)</text>\n</g>\n<!-- 2946&#45;&gt;2947 -->\n<g id=\"edge13\" class=\"edge\">\n<title>2946&#45;&gt;2947</title>\n<path fill=\"none\" stroke=\"black\" d=\"M551.61,-71.8C549.73,-63.62 547.65,-54.55 545.75,-46.27\"/>\n<polygon fill=\"black\" stroke=\"black\" points=\"549.12,-45.3 543.47,-36.33 542.3,-46.86 549.12,-45.3\"/>\n</g>\n<!-- 3352 -->\n<g id=\"node15\" class=\"node\">\n<title>3352</title>\n<polygon fill=\"#c0c0c0\" stroke=\"black\" points=\"638.5,-36 584.5,-36 584.5,0 638.5,0 638.5,-36\"/>\n<text text-anchor=\"middle\" x=\"611.5\" y=\"-14.3\" font-family=\"Helvetica,sans-Serif\" font-size=\"14.00\">(...)</text>\n</g>\n<!-- 2946&#45;&gt;3352 -->\n<g id=\"edge14\" class=\"edge\">\n<title>2946&#45;&gt;3352</title>\n<path fill=\"none\" stroke=\"black\" d=\"M575.18,-71.8C581.18,-63.08 587.88,-53.34 593.87,-44.63\"/>\n<polygon fill=\"black\" stroke=\"black\" points=\"596.79,-46.55 599.58,-36.33 591.03,-42.59 596.79,-46.55\"/>\n</g>\n</g>\n</svg>\n"
          },
          "metadata": {}
        },
        {
          "output_type": "display_data",
          "data": {
            "text/plain": [
              "<graphviz.files.Source at 0x7ffa2a968d00>"
            ],
            "image/svg+xml": "<?xml version=\"1.0\" encoding=\"UTF-8\" standalone=\"no\"?>\n<!DOCTYPE svg PUBLIC \"-//W3C//DTD SVG 1.1//EN\"\n \"http://www.w3.org/Graphics/SVG/1.1/DTD/svg11.dtd\">\n<!-- Generated by graphviz version 2.43.0 (0)\n -->\n<!-- Title: Tree Pages: 1 -->\n<svg width=\"657pt\" height=\"311pt\"\n viewBox=\"0.00 0.00 656.50 311.00\" xmlns=\"http://www.w3.org/2000/svg\" xmlns:xlink=\"http://www.w3.org/1999/xlink\">\n<g id=\"graph0\" class=\"graph\" transform=\"scale(1 1) rotate(0) translate(4 307)\">\n<title>Tree</title>\n<polygon fill=\"white\" stroke=\"transparent\" points=\"-4,4 -4,-307 652.5,-307 652.5,4 -4,4\"/>\n<!-- 0 -->\n<g id=\"node1\" class=\"node\">\n<title>0</title>\n<polygon fill=\"#ea985d\" stroke=\"black\" points=\"394,-303 247,-303 247,-250 394,-250 394,-303\"/>\n<text text-anchor=\"middle\" x=\"320.5\" y=\"-287.8\" font-family=\"Helvetica,sans-Serif\" font-size=\"14.00\">B2 &lt;= 1316.5</text>\n<text text-anchor=\"middle\" x=\"320.5\" y=\"-272.8\" font-family=\"Helvetica,sans-Serif\" font-size=\"14.00\">samples = 100.0%</text>\n<text text-anchor=\"middle\" x=\"320.5\" y=\"-257.8\" font-family=\"Helvetica,sans-Serif\" font-size=\"14.00\">value = [0.848, 0.152]</text>\n</g>\n<!-- 1 -->\n<g id=\"node2\" class=\"node\">\n<title>1</title>\n<polygon fill=\"#e88d4c\" stroke=\"black\" points=\"312,-214 165,-214 165,-161 312,-161 312,-214\"/>\n<text text-anchor=\"middle\" x=\"238.5\" y=\"-198.8\" font-family=\"Helvetica,sans-Serif\" font-size=\"14.00\">B3 &lt;= 1030.5</text>\n<text text-anchor=\"middle\" x=\"238.5\" y=\"-183.8\" font-family=\"Helvetica,sans-Serif\" font-size=\"14.00\">samples = 69.0%</text>\n<text text-anchor=\"middle\" x=\"238.5\" y=\"-168.8\" font-family=\"Helvetica,sans-Serif\" font-size=\"14.00\">value = [0.912, 0.088]</text>\n</g>\n<!-- 0&#45;&gt;1 -->\n<g id=\"edge1\" class=\"edge\">\n<title>0&#45;&gt;1</title>\n<path fill=\"none\" stroke=\"black\" d=\"M296.34,-249.87C287.99,-241.01 278.51,-230.95 269.68,-221.58\"/>\n<polygon fill=\"black\" stroke=\"black\" points=\"272.18,-219.13 262.77,-214.25 267.08,-223.93 272.18,-219.13\"/>\n<text text-anchor=\"middle\" x=\"262.03\" y=\"-235.54\" font-family=\"Helvetica,sans-Serif\" font-size=\"14.00\">True</text>\n</g>\n<!-- 1798 -->\n<g id=\"node9\" class=\"node\">\n<title>1798</title>\n<polygon fill=\"#f0b58b\" stroke=\"black\" points=\"477,-214 330,-214 330,-161 477,-161 477,-214\"/>\n<text text-anchor=\"middle\" x=\"403.5\" y=\"-198.8\" font-family=\"Helvetica,sans-Serif\" font-size=\"14.00\">B8 &lt;= 1930.5</text>\n<text text-anchor=\"middle\" x=\"403.5\" y=\"-183.8\" font-family=\"Helvetica,sans-Serif\" font-size=\"14.00\">samples = 31.0%</text>\n<text text-anchor=\"middle\" x=\"403.5\" y=\"-168.8\" font-family=\"Helvetica,sans-Serif\" font-size=\"14.00\">value = [0.706, 0.294]</text>\n</g>\n<!-- 0&#45;&gt;1798 -->\n<g id=\"edge8\" class=\"edge\">\n<title>0&#45;&gt;1798</title>\n<path fill=\"none\" stroke=\"black\" d=\"M344.95,-249.87C353.41,-241.01 363,-230.95 371.94,-221.58\"/>\n<polygon fill=\"black\" stroke=\"black\" points=\"374.56,-223.9 378.93,-214.25 369.5,-219.07 374.56,-223.9\"/>\n<text text-anchor=\"middle\" x=\"379.52\" y=\"-235.54\" font-family=\"Helvetica,sans-Serif\" font-size=\"14.00\">False</text>\n</g>\n<!-- 2 -->\n<g id=\"node3\" class=\"node\">\n<title>2</title>\n<polygon fill=\"#e6853f\" stroke=\"black\" points=\"147,-125 0,-125 0,-72 147,-72 147,-125\"/>\n<text text-anchor=\"middle\" x=\"73.5\" y=\"-109.8\" font-family=\"Helvetica,sans-Serif\" font-size=\"14.00\">B4 &lt;= 1160.5</text>\n<text text-anchor=\"middle\" x=\"73.5\" y=\"-94.8\" font-family=\"Helvetica,sans-Serif\" font-size=\"14.00\">samples = 30.4%</text>\n<text text-anchor=\"middle\" x=\"73.5\" y=\"-79.8\" font-family=\"Helvetica,sans-Serif\" font-size=\"14.00\">value = [0.969, 0.031]</text>\n</g>\n<!-- 1&#45;&gt;2 -->\n<g id=\"edge2\" class=\"edge\">\n<title>1&#45;&gt;2</title>\n<path fill=\"none\" stroke=\"black\" d=\"M189.89,-160.87C171.42,-151.13 150.22,-139.95 131.01,-129.82\"/>\n<polygon fill=\"black\" stroke=\"black\" points=\"132.53,-126.67 122.05,-125.1 129.26,-132.86 132.53,-126.67\"/>\n</g>\n<!-- 331 -->\n<g id=\"node6\" class=\"node\">\n<title>331</title>\n<polygon fill=\"#e99457\" stroke=\"black\" points=\"312,-125 165,-125 165,-72 312,-72 312,-125\"/>\n<text text-anchor=\"middle\" x=\"238.5\" y=\"-109.8\" font-family=\"Helvetica,sans-Serif\" font-size=\"14.00\">B2 &lt;= 1172.5</text>\n<text text-anchor=\"middle\" x=\"238.5\" y=\"-94.8\" font-family=\"Helvetica,sans-Serif\" font-size=\"14.00\">samples = 38.6%</text>\n<text text-anchor=\"middle\" x=\"238.5\" y=\"-79.8\" font-family=\"Helvetica,sans-Serif\" font-size=\"14.00\">value = [0.868, 0.132]</text>\n</g>\n<!-- 1&#45;&gt;331 -->\n<g id=\"edge5\" class=\"edge\">\n<title>1&#45;&gt;331</title>\n<path fill=\"none\" stroke=\"black\" d=\"M238.5,-160.87C238.5,-152.89 238.5,-143.93 238.5,-135.38\"/>\n<polygon fill=\"black\" stroke=\"black\" points=\"242,-135.25 238.5,-125.25 235,-135.25 242,-135.25\"/>\n</g>\n<!-- 3 -->\n<g id=\"node4\" class=\"node\">\n<title>3</title>\n<polygon fill=\"#c0c0c0\" stroke=\"black\" points=\"96.5,-36 42.5,-36 42.5,0 96.5,0 96.5,-36\"/>\n<text text-anchor=\"middle\" x=\"69.5\" y=\"-14.3\" font-family=\"Helvetica,sans-Serif\" font-size=\"14.00\">(...)</text>\n</g>\n<!-- 2&#45;&gt;3 -->\n<g id=\"edge3\" class=\"edge\">\n<title>2&#45;&gt;3</title>\n<path fill=\"none\" stroke=\"black\" d=\"M72.19,-71.8C71.78,-63.71 71.32,-54.76 70.9,-46.55\"/>\n<polygon fill=\"black\" stroke=\"black\" points=\"74.39,-46.14 70.38,-36.33 67.4,-46.5 74.39,-46.14\"/>\n</g>\n<!-- 320 -->\n<g id=\"node5\" class=\"node\">\n<title>320</title>\n<polygon fill=\"#c0c0c0\" stroke=\"black\" points=\"168.5,-36 114.5,-36 114.5,0 168.5,0 168.5,-36\"/>\n<text text-anchor=\"middle\" x=\"141.5\" y=\"-14.3\" font-family=\"Helvetica,sans-Serif\" font-size=\"14.00\">(...)</text>\n</g>\n<!-- 2&#45;&gt;320 -->\n<g id=\"edge4\" class=\"edge\">\n<title>2&#45;&gt;320</title>\n<path fill=\"none\" stroke=\"black\" d=\"M95.77,-71.8C103.48,-62.9 112.1,-52.93 119.77,-44.08\"/>\n<polygon fill=\"black\" stroke=\"black\" points=\"122.59,-46.18 126.49,-36.33 117.29,-41.6 122.59,-46.18\"/>\n</g>\n<!-- 332 -->\n<g id=\"node7\" class=\"node\">\n<title>332</title>\n<polygon fill=\"#c0c0c0\" stroke=\"black\" points=\"252.5,-36 198.5,-36 198.5,0 252.5,0 252.5,-36\"/>\n<text text-anchor=\"middle\" x=\"225.5\" y=\"-14.3\" font-family=\"Helvetica,sans-Serif\" font-size=\"14.00\">(...)</text>\n</g>\n<!-- 331&#45;&gt;332 -->\n<g id=\"edge6\" class=\"edge\">\n<title>331&#45;&gt;332</title>\n<path fill=\"none\" stroke=\"black\" d=\"M234.24,-71.8C232.89,-63.62 231.39,-54.55 230.02,-46.27\"/>\n<polygon fill=\"black\" stroke=\"black\" points=\"233.46,-45.62 228.37,-36.33 226.55,-46.77 233.46,-45.62\"/>\n</g>\n<!-- 469 -->\n<g id=\"node8\" class=\"node\">\n<title>469</title>\n<polygon fill=\"#c0c0c0\" stroke=\"black\" points=\"324.5,-36 270.5,-36 270.5,0 324.5,0 324.5,-36\"/>\n<text text-anchor=\"middle\" x=\"297.5\" y=\"-14.3\" font-family=\"Helvetica,sans-Serif\" font-size=\"14.00\">(...)</text>\n</g>\n<!-- 331&#45;&gt;469 -->\n<g id=\"edge7\" class=\"edge\">\n<title>331&#45;&gt;469</title>\n<path fill=\"none\" stroke=\"black\" d=\"M257.82,-71.8C264.44,-62.99 271.84,-53.14 278.44,-44.36\"/>\n<polygon fill=\"black\" stroke=\"black\" points=\"281.26,-46.43 284.47,-36.33 275.67,-42.22 281.26,-46.43\"/>\n</g>\n<!-- 1799 -->\n<g id=\"node10\" class=\"node\">\n<title>1799</title>\n<polygon fill=\"#f6d3ba\" stroke=\"black\" points=\"477,-125 330,-125 330,-72 477,-72 477,-125\"/>\n<text text-anchor=\"middle\" x=\"403.5\" y=\"-109.8\" font-family=\"Helvetica,sans-Serif\" font-size=\"14.00\">B3 &lt;= 1433.5</text>\n<text text-anchor=\"middle\" x=\"403.5\" y=\"-94.8\" font-family=\"Helvetica,sans-Serif\" font-size=\"14.00\">samples = 13.9%</text>\n<text text-anchor=\"middle\" x=\"403.5\" y=\"-79.8\" font-family=\"Helvetica,sans-Serif\" font-size=\"14.00\">value = [0.605, 0.395]</text>\n</g>\n<!-- 1798&#45;&gt;1799 -->\n<g id=\"edge9\" class=\"edge\">\n<title>1798&#45;&gt;1799</title>\n<path fill=\"none\" stroke=\"black\" d=\"M403.5,-160.87C403.5,-152.89 403.5,-143.93 403.5,-135.38\"/>\n<polygon fill=\"black\" stroke=\"black\" points=\"407,-135.25 403.5,-125.25 400,-135.25 407,-135.25\"/>\n</g>\n<!-- 2694 -->\n<g id=\"node13\" class=\"node\">\n<title>2694</title>\n<polygon fill=\"#eca26d\" stroke=\"black\" points=\"642,-125 495,-125 495,-72 642,-72 642,-125\"/>\n<text text-anchor=\"middle\" x=\"568.5\" y=\"-109.8\" font-family=\"Helvetica,sans-Serif\" font-size=\"14.00\">B2 &lt;= 1552.5</text>\n<text text-anchor=\"middle\" x=\"568.5\" y=\"-94.8\" font-family=\"Helvetica,sans-Serif\" font-size=\"14.00\">samples = 17.1%</text>\n<text text-anchor=\"middle\" x=\"568.5\" y=\"-79.8\" font-family=\"Helvetica,sans-Serif\" font-size=\"14.00\">value = [0.791, 0.209]</text>\n</g>\n<!-- 1798&#45;&gt;2694 -->\n<g id=\"edge12\" class=\"edge\">\n<title>1798&#45;&gt;2694</title>\n<path fill=\"none\" stroke=\"black\" d=\"M452.11,-160.87C470.58,-151.13 491.78,-139.95 510.99,-129.82\"/>\n<polygon fill=\"black\" stroke=\"black\" points=\"512.74,-132.86 519.95,-125.1 509.47,-126.67 512.74,-132.86\"/>\n</g>\n<!-- 1800 -->\n<g id=\"node11\" class=\"node\">\n<title>1800</title>\n<polygon fill=\"#c0c0c0\" stroke=\"black\" points=\"413.5,-36 359.5,-36 359.5,0 413.5,0 413.5,-36\"/>\n<text text-anchor=\"middle\" x=\"386.5\" y=\"-14.3\" font-family=\"Helvetica,sans-Serif\" font-size=\"14.00\">(...)</text>\n</g>\n<!-- 1799&#45;&gt;1800 -->\n<g id=\"edge10\" class=\"edge\">\n<title>1799&#45;&gt;1800</title>\n<path fill=\"none\" stroke=\"black\" d=\"M397.93,-71.8C396.16,-63.62 394.2,-54.55 392.41,-46.27\"/>\n<polygon fill=\"black\" stroke=\"black\" points=\"395.79,-45.36 390.25,-36.33 388.95,-46.84 395.79,-45.36\"/>\n</g>\n<!-- 2513 -->\n<g id=\"node12\" class=\"node\">\n<title>2513</title>\n<polygon fill=\"#c0c0c0\" stroke=\"black\" points=\"485.5,-36 431.5,-36 431.5,0 485.5,0 485.5,-36\"/>\n<text text-anchor=\"middle\" x=\"458.5\" y=\"-14.3\" font-family=\"Helvetica,sans-Serif\" font-size=\"14.00\">(...)</text>\n</g>\n<!-- 1799&#45;&gt;2513 -->\n<g id=\"edge11\" class=\"edge\">\n<title>1799&#45;&gt;2513</title>\n<path fill=\"none\" stroke=\"black\" d=\"M421.51,-71.8C427.62,-63.08 434.44,-53.34 440.54,-44.63\"/>\n<polygon fill=\"black\" stroke=\"black\" points=\"443.49,-46.53 446.36,-36.33 437.75,-42.51 443.49,-46.53\"/>\n</g>\n<!-- 2695 -->\n<g id=\"node14\" class=\"node\">\n<title>2695</title>\n<polygon fill=\"#c0c0c0\" stroke=\"black\" points=\"576.5,-36 522.5,-36 522.5,0 576.5,0 576.5,-36\"/>\n<text text-anchor=\"middle\" x=\"549.5\" y=\"-14.3\" font-family=\"Helvetica,sans-Serif\" font-size=\"14.00\">(...)</text>\n</g>\n<!-- 2694&#45;&gt;2695 -->\n<g id=\"edge13\" class=\"edge\">\n<title>2694&#45;&gt;2695</title>\n<path fill=\"none\" stroke=\"black\" d=\"M562.28,-71.8C560.3,-63.62 558.11,-54.55 556.1,-46.27\"/>\n<polygon fill=\"black\" stroke=\"black\" points=\"559.45,-45.23 553.69,-36.33 552.65,-46.87 559.45,-45.23\"/>\n</g>\n<!-- 3296 -->\n<g id=\"node15\" class=\"node\">\n<title>3296</title>\n<polygon fill=\"#c0c0c0\" stroke=\"black\" points=\"648.5,-36 594.5,-36 594.5,0 648.5,0 648.5,-36\"/>\n<text text-anchor=\"middle\" x=\"621.5\" y=\"-14.3\" font-family=\"Helvetica,sans-Serif\" font-size=\"14.00\">(...)</text>\n</g>\n<!-- 2694&#45;&gt;3296 -->\n<g id=\"edge14\" class=\"edge\">\n<title>2694&#45;&gt;3296</title>\n<path fill=\"none\" stroke=\"black\" d=\"M585.85,-71.8C591.74,-63.08 598.31,-53.34 604.2,-44.63\"/>\n<polygon fill=\"black\" stroke=\"black\" points=\"607.1,-46.58 609.8,-36.33 601.3,-42.66 607.1,-46.58\"/>\n</g>\n</g>\n</svg>\n"
          },
          "metadata": {}
        }
      ]
    },
    {
      "cell_type": "markdown",
      "source": [
        "The colors represent the majority class of each node (box, with red indicating majority 0 (no building) and blue indicating majority 1 (building). "
      ],
      "metadata": {
        "id": "uFFZL7n1q73B"
      }
    },
    {
      "cell_type": "code",
      "source": [
        "#Hyperparameter check\n",
        "\n",
        "param_dist = {'n_estimators': randint(50,500),\n",
        "              'max_depth': randint(1,20)}\n",
        "\n",
        "# Create a random forest classifier\n",
        "rf = RandomForestClassifier()\n",
        "\n",
        "# Use random search to find the best hyperparameters\n",
        "rand_search = RandomizedSearchCV(rf, \n",
        "                                 param_distributions = param_dist, \n",
        "                                 n_iter=5, \n",
        "                                 cv=5)\n",
        "\n",
        "# Fit the random search object to the data\n",
        "rand_search.fit(X_train, y_train)"
      ],
      "metadata": {
        "colab": {
          "base_uri": "https://localhost:8080/",
          "height": 116
        },
        "id": "cIMaP_YzrArv",
        "outputId": "c8f71f3f-5a8b-435b-89d0-8543cbe37c00"
      },
      "execution_count": 15,
      "outputs": [
        {
          "output_type": "execute_result",
          "data": {
            "text/plain": [
              "RandomizedSearchCV(cv=5, estimator=RandomForestClassifier(), n_iter=5,\n",
              "                   param_distributions={'max_depth': <scipy.stats._distn_infrastructure.rv_discrete_frozen object at 0x7ff9f64f6370>,\n",
              "                                        'n_estimators': <scipy.stats._distn_infrastructure.rv_discrete_frozen object at 0x7ff9f64d1a60>})"
            ],
            "text/html": [
              "<style>#sk-container-id-2 {color: black;background-color: white;}#sk-container-id-2 pre{padding: 0;}#sk-container-id-2 div.sk-toggleable {background-color: white;}#sk-container-id-2 label.sk-toggleable__label {cursor: pointer;display: block;width: 100%;margin-bottom: 0;padding: 0.3em;box-sizing: border-box;text-align: center;}#sk-container-id-2 label.sk-toggleable__label-arrow:before {content: \"▸\";float: left;margin-right: 0.25em;color: #696969;}#sk-container-id-2 label.sk-toggleable__label-arrow:hover:before {color: black;}#sk-container-id-2 div.sk-estimator:hover label.sk-toggleable__label-arrow:before {color: black;}#sk-container-id-2 div.sk-toggleable__content {max-height: 0;max-width: 0;overflow: hidden;text-align: left;background-color: #f0f8ff;}#sk-container-id-2 div.sk-toggleable__content pre {margin: 0.2em;color: black;border-radius: 0.25em;background-color: #f0f8ff;}#sk-container-id-2 input.sk-toggleable__control:checked~div.sk-toggleable__content {max-height: 200px;max-width: 100%;overflow: auto;}#sk-container-id-2 input.sk-toggleable__control:checked~label.sk-toggleable__label-arrow:before {content: \"▾\";}#sk-container-id-2 div.sk-estimator input.sk-toggleable__control:checked~label.sk-toggleable__label {background-color: #d4ebff;}#sk-container-id-2 div.sk-label input.sk-toggleable__control:checked~label.sk-toggleable__label {background-color: #d4ebff;}#sk-container-id-2 input.sk-hidden--visually {border: 0;clip: rect(1px 1px 1px 1px);clip: rect(1px, 1px, 1px, 1px);height: 1px;margin: -1px;overflow: hidden;padding: 0;position: absolute;width: 1px;}#sk-container-id-2 div.sk-estimator {font-family: monospace;background-color: #f0f8ff;border: 1px dotted black;border-radius: 0.25em;box-sizing: border-box;margin-bottom: 0.5em;}#sk-container-id-2 div.sk-estimator:hover {background-color: #d4ebff;}#sk-container-id-2 div.sk-parallel-item::after {content: \"\";width: 100%;border-bottom: 1px solid gray;flex-grow: 1;}#sk-container-id-2 div.sk-label:hover label.sk-toggleable__label {background-color: #d4ebff;}#sk-container-id-2 div.sk-serial::before {content: \"\";position: absolute;border-left: 1px solid gray;box-sizing: border-box;top: 0;bottom: 0;left: 50%;z-index: 0;}#sk-container-id-2 div.sk-serial {display: flex;flex-direction: column;align-items: center;background-color: white;padding-right: 0.2em;padding-left: 0.2em;position: relative;}#sk-container-id-2 div.sk-item {position: relative;z-index: 1;}#sk-container-id-2 div.sk-parallel {display: flex;align-items: stretch;justify-content: center;background-color: white;position: relative;}#sk-container-id-2 div.sk-item::before, #sk-container-id-2 div.sk-parallel-item::before {content: \"\";position: absolute;border-left: 1px solid gray;box-sizing: border-box;top: 0;bottom: 0;left: 50%;z-index: -1;}#sk-container-id-2 div.sk-parallel-item {display: flex;flex-direction: column;z-index: 1;position: relative;background-color: white;}#sk-container-id-2 div.sk-parallel-item:first-child::after {align-self: flex-end;width: 50%;}#sk-container-id-2 div.sk-parallel-item:last-child::after {align-self: flex-start;width: 50%;}#sk-container-id-2 div.sk-parallel-item:only-child::after {width: 0;}#sk-container-id-2 div.sk-dashed-wrapped {border: 1px dashed gray;margin: 0 0.4em 0.5em 0.4em;box-sizing: border-box;padding-bottom: 0.4em;background-color: white;}#sk-container-id-2 div.sk-label label {font-family: monospace;font-weight: bold;display: inline-block;line-height: 1.2em;}#sk-container-id-2 div.sk-label-container {text-align: center;}#sk-container-id-2 div.sk-container {/* jupyter's `normalize.less` sets `[hidden] { display: none; }` but bootstrap.min.css set `[hidden] { display: none !important; }` so we also need the `!important` here to be able to override the default hidden behavior on the sphinx rendered scikit-learn.org. See: https://github.com/scikit-learn/scikit-learn/issues/21755 */display: inline-block !important;position: relative;}#sk-container-id-2 div.sk-text-repr-fallback {display: none;}</style><div id=\"sk-container-id-2\" class=\"sk-top-container\"><div class=\"sk-text-repr-fallback\"><pre>RandomizedSearchCV(cv=5, estimator=RandomForestClassifier(), n_iter=5,\n",
              "                   param_distributions={&#x27;max_depth&#x27;: &lt;scipy.stats._distn_infrastructure.rv_discrete_frozen object at 0x7ff9f64f6370&gt;,\n",
              "                                        &#x27;n_estimators&#x27;: &lt;scipy.stats._distn_infrastructure.rv_discrete_frozen object at 0x7ff9f64d1a60&gt;})</pre><b>In a Jupyter environment, please rerun this cell to show the HTML representation or trust the notebook. <br />On GitHub, the HTML representation is unable to render, please try loading this page with nbviewer.org.</b></div><div class=\"sk-container\" hidden><div class=\"sk-item sk-dashed-wrapped\"><div class=\"sk-label-container\"><div class=\"sk-label sk-toggleable\"><input class=\"sk-toggleable__control sk-hidden--visually\" id=\"sk-estimator-id-2\" type=\"checkbox\" ><label for=\"sk-estimator-id-2\" class=\"sk-toggleable__label sk-toggleable__label-arrow\">RandomizedSearchCV</label><div class=\"sk-toggleable__content\"><pre>RandomizedSearchCV(cv=5, estimator=RandomForestClassifier(), n_iter=5,\n",
              "                   param_distributions={&#x27;max_depth&#x27;: &lt;scipy.stats._distn_infrastructure.rv_discrete_frozen object at 0x7ff9f64f6370&gt;,\n",
              "                                        &#x27;n_estimators&#x27;: &lt;scipy.stats._distn_infrastructure.rv_discrete_frozen object at 0x7ff9f64d1a60&gt;})</pre></div></div></div><div class=\"sk-parallel\"><div class=\"sk-parallel-item\"><div class=\"sk-item\"><div class=\"sk-label-container\"><div class=\"sk-label sk-toggleable\"><input class=\"sk-toggleable__control sk-hidden--visually\" id=\"sk-estimator-id-3\" type=\"checkbox\" ><label for=\"sk-estimator-id-3\" class=\"sk-toggleable__label sk-toggleable__label-arrow\">estimator: RandomForestClassifier</label><div class=\"sk-toggleable__content\"><pre>RandomForestClassifier()</pre></div></div></div><div class=\"sk-serial\"><div class=\"sk-item\"><div class=\"sk-estimator sk-toggleable\"><input class=\"sk-toggleable__control sk-hidden--visually\" id=\"sk-estimator-id-4\" type=\"checkbox\" ><label for=\"sk-estimator-id-4\" class=\"sk-toggleable__label sk-toggleable__label-arrow\">RandomForestClassifier</label><div class=\"sk-toggleable__content\"><pre>RandomForestClassifier()</pre></div></div></div></div></div></div></div></div></div></div>"
            ]
          },
          "metadata": {},
          "execution_count": 15
        }
      ]
    },
    {
      "cell_type": "code",
      "source": [
        "# Create a variable for the best model\n",
        "best_rf = rand_search.best_estimator_"
      ],
      "metadata": {
        "id": "GMX7mGXVrb0W"
      },
      "execution_count": 16,
      "outputs": []
    },
    {
      "cell_type": "code",
      "source": [
        "# Print the best hyperparameters and corresponding score\n",
        "print(\"Best hyperparameters: \", rand_search.best_params_)\n",
        "print(\"Best score: \", rand_search.best_score_)"
      ],
      "metadata": {
        "id": "2rW6zfT-0VlN",
        "colab": {
          "base_uri": "https://localhost:8080/"
        },
        "outputId": "7bc356c7-a8d1-456d-b41f-0d1272af1096"
      },
      "execution_count": 17,
      "outputs": [
        {
          "output_type": "stream",
          "name": "stdout",
          "text": [
            "Best hyperparameters:  {'max_depth': 10, 'n_estimators': 429}\n",
            "Best score:  0.8598656235039925\n"
          ]
        }
      ]
    },
    {
      "cell_type": "code",
      "source": [
        "rf_2 = RandomForestClassifier(n_estimators = 368, max_depth = 8)\n",
        "\n",
        "rf_2.fit(X_train, y_train)\n",
        "\n",
        "y_pred_2 = rf_2.predict(X_test)\n",
        "\n",
        "accuracy = accuracy_score(y_test, y_pred_2)\n",
        "print(\"Accuracy:\", accuracy)"
      ],
      "metadata": {
        "id": "SfvOD39HsZmy",
        "colab": {
          "base_uri": "https://localhost:8080/"
        },
        "outputId": "e08221e5-e3e1-419c-eca6-795388cf448d"
      },
      "execution_count": 18,
      "outputs": [
        {
          "output_type": "stream",
          "name": "stdout",
          "text": [
            "Accuracy: 0.8608324974924775\n"
          ]
        }
      ]
    },
    {
      "cell_type": "code",
      "source": [
        "#Evaliuate optimal hyperparameters\n",
        "print(classification_report(y_test, y_pred_2))"
      ],
      "metadata": {
        "id": "iNwQV8aJ0rjF",
        "colab": {
          "base_uri": "https://localhost:8080/"
        },
        "outputId": "e5f15912-adfd-489b-94be-9e9ad6621b63"
      },
      "execution_count": null,
      "outputs": [
        {
          "output_type": "stream",
          "name": "stdout",
          "text": [
            "              precision    recall  f1-score   support\n",
            "\n",
            "           0       0.87      0.99      0.93      3411\n",
            "           1       0.66      0.12      0.20       577\n",
            "\n",
            "    accuracy                           0.86      3988\n",
            "   macro avg       0.77      0.55      0.56      3988\n",
            "weighted avg       0.84      0.86      0.82      3988\n",
            "\n"
          ]
        }
      ]
    },
    {
      "cell_type": "code",
      "source": [
        "# Generate predictions with the best model\n",
        "y_pred_2 = best_rf.predict(X_test)\n",
        "\n",
        "# Create the confusion matrix\n",
        "cm = confusion_matrix(y_test, y_pred_2)\n",
        "\n",
        "ConfusionMatrixDisplay(confusion_matrix=cm).plot();"
      ],
      "metadata": {
        "colab": {
          "base_uri": "https://localhost:8080/",
          "height": 279
        },
        "id": "f0FckCN8tO2o",
        "outputId": "8355174f-4e42-4ba9-ccb8-2d4036b179fa"
      },
      "execution_count": null,
      "outputs": [
        {
          "output_type": "display_data",
          "data": {
            "text/plain": [
              "<Figure size 432x288 with 2 Axes>"
            ],
            "image/png": "[encoded data removed]"
          },
          "metadata": {
            "needs_background": "light"
          }
        }
      ]
    },
    {
      "cell_type": "code",
      "source": [
        "# Create a series containing feature importances from the model and feature names from the training data\n",
        "feature_importances = pd.Series(best_rf.feature_importances_, index=X_train.columns).sort_values(ascending=False)\n",
        "\n",
        "# Plot a simple bar chart\n",
        "feature_importances.plot.bar();"
      ],
      "metadata": {
        "colab": {
          "base_uri": "https://localhost:8080/",
          "height": 275
        },
        "id": "T7K4g8oYuqDs",
        "outputId": "3530e486-4bc6-4749-b76f-988a138c49c3"
      },
      "execution_count": null,
      "outputs": [
        {
          "output_type": "display_data",
          "data": {
            "text/plain": [
              "<Figure size 432x288 with 1 Axes>"
            ],
            "image/png": "[encoded data removed]"
          },
          "metadata": {
            "needs_background": "light"
          }
        }
      ]
    },
    {
      "cell_type": "markdown",
      "source": [
        "Running alorithm on 2020"
      ],
      "metadata": {
        "id": "lFRrx812XkL5"
      }
    },
    {
      "cell_type": "code",
      "source": [
        "data_20 = \"/content/drive/MyDrive/mds_thesis/pixel_data/proj_2_5_aug_20_pixel.csv\"\n",
        "df_20 = pd.read_csv(data_20)"
      ],
      "metadata": {
        "id": "scJnu06-Xj1q"
      },
      "execution_count": null,
      "outputs": []
    },
    {
      "cell_type": "code",
      "source": [
        "df_20 = df_20.drop(columns=['latitude', 'longitude'])"
      ],
      "metadata": {
        "id": "ILvsDHfWZKlK"
      },
      "execution_count": null,
      "outputs": []
    },
    {
      "cell_type": "code",
      "source": [
        "# get prediction for new input\n",
        "y_pred = rf_2.predict(df_20)"
      ],
      "metadata": {
        "id": "odIdQGYKYOCi"
      },
      "execution_count": null,
      "outputs": []
    },
    {
      "cell_type": "code",
      "source": [
        "sum(y_pred)"
      ],
      "metadata": {
        "colab": {
          "base_uri": "https://localhost:8080/"
        },
        "id": "Hb-Z7bPsZwab",
        "outputId": "35aa36c4-ffdf-4bfe-f42f-7c8b6d6f9e25"
      },
      "execution_count": null,
      "outputs": [
        {
          "output_type": "execute_result",
          "data": {
            "text/plain": [
              "630"
            ]
          },
          "metadata": {},
          "execution_count": 30
        }
      ]
    }
  ],
  "metadata": {
    "colab": {
      "provenance": [],
      "authorship_tag": "ABX9TyMbIRNMjIguLGFW+InMkgQS",
      "include_colab_link": true
    },
    "kernelspec": {
      "display_name": "Python 3",
      "name": "python3"
    },
    "language_info": {
      "name": "python"
    }
  },
  "nbformat": 4,
  "nbformat_minor": 0
}