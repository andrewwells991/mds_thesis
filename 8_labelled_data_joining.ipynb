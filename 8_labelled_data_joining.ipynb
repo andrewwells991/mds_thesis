{
  "nbformat": 4,
  "nbformat_minor": 0,
  "metadata": {
    "colab": {
      "provenance": [],
      "authorship_tag": "ABX9TyNoSjFPdfXPOXXJr9xDQU4i",
      "include_colab_link": true
    },
    "kernelspec": {
      "name": "python3",
      "display_name": "Python 3"
    },
    "language_info": {
      "name": "python"
    }
  },
  "cells": [
    {
      "cell_type": "markdown",
      "metadata": {
        "id": "view-in-github",
        "colab_type": "text"
      },
      "source": [
        "<a href=\"https://colab.research.google.com/github/andrewwells991/mds_thesis/blob/main/8_labelled_data_joining.ipynb\" target=\"_parent\"><img src=\"https://colab.research.google.com/assets/colab-badge.svg\" alt=\"Open In Colab\"/></a>"
      ]
    },
    {
      "cell_type": "code",
      "source": [
        "from google.colab import drive\n",
        "drive.mount('/content/gdrive')"
      ],
      "metadata": {
        "colab": {
          "base_uri": "https://localhost:8080/"
        },
        "id": "XO4OPKUN4ivn",
        "outputId": "ab1de09a-fc9e-42fe-9347-a47b939257e2"
      },
      "execution_count": null,
      "outputs": [
        {
          "output_type": "stream",
          "name": "stdout",
          "text": [
            "Mounted at /content/gdrive\n"
          ]
        }
      ]
    },
    {
      "cell_type": "code",
      "source": [
        "import pandas as pd\n",
        "import numpy as np"
      ],
      "metadata": {
        "id": "wv1HHazFoGFw"
      },
      "execution_count": null,
      "outputs": []
    },
    {
      "cell_type": "markdown",
      "source": [
        "Loading projects"
      ],
      "metadata": {
        "id": "O5QoOUkhVsiI"
      }
    },
    {
      "cell_type": "code",
      "source": [
        "#Project 2\n",
        "df_proj_2_5 = pd.read_csv('https://raw.githubusercontent.com/andrewwells991/mds_thesis/main/data/3_combined_pixel_ob_data/proj_2_5_yr_21_combined_pixel_ob.csv')\n",
        "df_proj_2_6 = pd.read_csv('https://raw.githubusercontent.com/andrewwells991/mds_thesis/main/data/3_combined_pixel_ob_data/proj_2_6_yr_21_combined_pixel_ob.csv')\n",
        "df_proj_2_8 = pd.read_csv('https://raw.githubusercontent.com/andrewwells991/mds_thesis/main/data/3_combined_pixel_ob_data/proj_2_8_yr_21_combined_pixel_ob.csv')\n",
        "df_proj_2_9 = pd.read_csv('https://raw.githubusercontent.com/andrewwells991/mds_thesis/main/data/3_combined_pixel_ob_data/proj_2_9_yr_21_combined_pixel_ob.csv')\n",
        "df_proj_2_10 = pd.read_csv('https://raw.githubusercontent.com/andrewwells991/mds_thesis/main/data/3_combined_pixel_ob_data/proj_2_10_yr_21_combined_pixel_ob.csv')\n",
        "df_proj_2_11 = pd.read_csv('https://raw.githubusercontent.com/andrewwells991/mds_thesis/main/data/3_combined_pixel_ob_data/proj_2_11_yr_21_combined_pixel_ob.csv')\n",
        "df_proj_2_12 = pd.read_csv('https://raw.githubusercontent.com/andrewwells991/mds_thesis/main/data/3_combined_pixel_ob_data/proj_2_12_yr_21_combined_pixel_ob.csv')\n",
        "df_proj_2_13 = pd.read_csv('https://raw.githubusercontent.com/andrewwells991/mds_thesis/main/data/3_combined_pixel_ob_data/proj_2_13_yr_21_combined_pixel_ob.csv')\n",
        "df_proj_2_14 = pd.read_csv('https://raw.githubusercontent.com/andrewwells991/mds_thesis/main/data/3_combined_pixel_ob_data/proj_2_14_yr_21_combined_pixel_ob.csv')\n",
        "df_proj_2_15 = pd.read_csv('https://raw.githubusercontent.com/andrewwells991/mds_thesis/main/data/3_combined_pixel_ob_data/proj_2_15_yr_21_combined_pixel_ob.csv')\n",
        "df_proj_2_16 = pd.read_csv('https://raw.githubusercontent.com/andrewwells991/mds_thesis/main/data/3_combined_pixel_ob_data/proj_2_16_yr_21_combined_pixel_ob.csv')\n",
        "df_proj_2_17 = pd.read_csv('https://raw.githubusercontent.com/andrewwells991/mds_thesis/main/data/3_combined_pixel_ob_data/proj_2_17_yr_21_combined_pixel_ob.csv')\n",
        "df_proj_2_18 = pd.read_csv('https://raw.githubusercontent.com/andrewwells991/mds_thesis/main/data/3_combined_pixel_ob_data/proj_2_18_yr_21_combined_pixel_ob.csv')\n",
        "df_proj_2_19 = pd.read_csv('https://raw.githubusercontent.com/andrewwells991/mds_thesis/main/data/3_combined_pixel_ob_data/proj_2_19_yr_21_combined_pixel_ob.csv')\n",
        "df_proj_2_20 = pd.read_csv('https://raw.githubusercontent.com/andrewwells991/mds_thesis/main/data/3_combined_pixel_ob_data/proj_2_20_yr_21_combined_pixel_ob.csv')\n",
        "df_proj_2_21 = pd.read_csv('https://raw.githubusercontent.com/andrewwells991/mds_thesis/main/data/3_combined_pixel_ob_data/proj_2_21_yr_21_combined_pixel_ob.csv')\n",
        "df_proj_2_22 = pd.read_csv('https://raw.githubusercontent.com/andrewwells991/mds_thesis/main/data/3_combined_pixel_ob_data/proj_2_22_yr_21_combined_pixel_ob.csv')\n",
        "df_proj_2_23 = pd.read_csv('https://raw.githubusercontent.com/andrewwells991/mds_thesis/main/data/3_combined_pixel_ob_data/proj_2_23_yr_21_combined_pixel_ob.csv')\n",
        "df_proj_2_24 = pd.read_csv('https://raw.githubusercontent.com/andrewwells991/mds_thesis/main/data/3_combined_pixel_ob_data/proj_2_24_yr_21_combined_pixel_ob.csv')\n",
        "df_proj_2_25 = pd.read_csv('https://raw.githubusercontent.com/andrewwells991/mds_thesis/main/data/3_combined_pixel_ob_data/proj_2_25_yr_21_combined_pixel_ob.csv')\n",
        "df_proj_2_26 = pd.read_csv('https://raw.githubusercontent.com/andrewwells991/mds_thesis/main/data/3_combined_pixel_ob_data/proj_2_26_yr_21_combined_pixel_ob.csv')\n",
        "df_proj_2_27 = pd.read_csv('https://raw.githubusercontent.com/andrewwells991/mds_thesis/main/data/3_combined_pixel_ob_data/proj_2_27_yr_21_combined_pixel_ob.csv')\n",
        "df_proj_2_28 = pd.read_csv('https://raw.githubusercontent.com/andrewwells991/mds_thesis/main/data/3_combined_pixel_ob_data/proj_2_28_yr_21_combined_pixel_ob.csv')"
      ],
      "metadata": {
        "id": "YZzJbLxvUwkL"
      },
      "execution_count": null,
      "outputs": []
    },
    {
      "cell_type": "code",
      "execution_count": null,
      "metadata": {
        "id": "nn-dwM9TnAqP"
      },
      "outputs": [],
      "source": [
        "%%capture\n",
        "#Project 4\n",
        "df_proj_4_1 = pd.read_csv('https://raw.githubusercontent.com/andrewwells991/mds_thesis/main/data/3_combined_pixel_ob_data/proj_4_1_yr_21_combined_pixel_ob.csv')\n",
        "#df_proj_4_2 = pd.read_csv('https://raw.githubusercontent.com/andrewwells991/mds_thesis/main/data/3_combined_pixel_ob_data/proj_4_2_yr_21_combined_pixel_ob.csv')\n",
        "df_proj_4_5 = pd.read_csv('https://raw.githubusercontent.com/andrewwells991/mds_thesis/main/data/3_combined_pixel_ob_data/proj_4_5_yr_21_combined_pixel_ob.csv')\n",
        "df_proj_4_8 = pd.read_csv('https://raw.githubusercontent.com/andrewwells991/mds_thesis/main/data/3_combined_pixel_ob_data/proj_4_8_yr_21_combined_pixel_ob.csv')\n",
        "df_proj_4_9 = pd.read_csv('https://raw.githubusercontent.com/andrewwells991/mds_thesis/main/data/3_combined_pixel_ob_data/proj_4_9_yr_21_combined_pixel_ob.csv')\n",
        "df_proj_4_13 = pd.read_csv('https://raw.githubusercontent.com/andrewwells991/mds_thesis/main/data/3_combined_pixel_ob_data/proj_4_13_yr_21_combined_pixel_ob.csv')\n",
        "#df_proj_4_14 = pd.read_csv('https://raw.githubusercontent.com/andrewwells991/mds_thesis/main/data/3_combined_pixel_ob_data/proj_4_14_yr_21_combined_pixel_ob.csv')\n",
        "#df_proj_4_17 = pd.read_csv('https://raw.githubusercontent.com/andrewwells991/mds_thesis/main/data/3_combined_pixel_ob_data/proj_4_17_yr_21_combined_pixel_ob.csv')\n",
        "#df_proj_4_19 = pd.read_csv('https://raw.githubusercontent.com/andrewwells991/mds_thesis/main/data/3_combined_pixel_ob_data/proj_4_19_yr_21_combined_pixel_ob.csv')\n",
        "#df_proj_4_22 = pd.read_csv('https://raw.githubusercontent.com/andrewwells991/mds_thesis/main/data/3_combined_pixel_ob_data/proj_4_22_yr_21_combined_pixel_ob.csv')"
      ]
    },
    {
      "cell_type": "code",
      "source": [
        "%%capture\n",
        "#Project 7\n",
        "#df_proj_7_1 = pd.read_csv('https://raw.githubusercontent.com/andrewwells991/mds_thesis/main/data/3_combined_pixel_ob_data/proj_7_1_yr_21_combined_pixel_ob.csv')\n",
        "df_proj_7_2 = pd.read_csv('https://raw.githubusercontent.com/andrewwells991/mds_thesis/main/data/3_combined_pixel_ob_data/proj_7_2_yr_21_combined_pixel_ob.csv')\n",
        "df_proj_7_3 = pd.read_csv('https://raw.githubusercontent.com/andrewwells991/mds_thesis/main/data/3_combined_pixel_ob_data/proj_7_3_yr_21_combined_pixel_ob.csv')\n",
        "df_proj_7_4 = pd.read_csv('https://raw.githubusercontent.com/andrewwells991/mds_thesis/main/data/3_combined_pixel_ob_data/proj_7_4_yr_21_combined_pixel_ob.csv')\n",
        "df_proj_7_6 = pd.read_csv('https://raw.githubusercontent.com/andrewwells991/mds_thesis/main/data/3_combined_pixel_ob_data/proj_7_6_yr_21_combined_pixel_ob.csv')\n",
        "df_proj_7_7 = pd.read_csv('https://raw.githubusercontent.com/andrewwells991/mds_thesis/main/data/3_combined_pixel_ob_data/proj_7_7_yr_21_combined_pixel_ob.csv')\n",
        "#df_proj_7_9 = pd.read_csv('https://raw.githubusercontent.com/andrewwells991/mds_thesis/main/data/3_combined_pixel_ob_data/proj_7_9_yr_21_combined_pixel_ob.csv')\n",
        "df_proj_7_10 = pd.read_csv('https://raw.githubusercontent.com/andrewwells991/mds_thesis/main/data/3_combined_pixel_ob_data/proj_7_10_yr_21_combined_pixel_ob.csv')\n",
        "df_proj_7_12 = pd.read_csv('https://raw.githubusercontent.com/andrewwells991/mds_thesis/main/data/3_combined_pixel_ob_data/proj_7_12_yr_21_combined_pixel_ob.csv')\n",
        "df_proj_7_13 = pd.read_csv('https://raw.githubusercontent.com/andrewwells991/mds_thesis/main/data/3_combined_pixel_ob_data/proj_7_13_yr_21_combined_pixel_ob.csv')\n",
        "df_proj_7_14 = pd.read_csv('https://raw.githubusercontent.com/andrewwells991/mds_thesis/main/data/3_combined_pixel_ob_data/proj_7_14_yr_21_combined_pixel_ob.csv')\n",
        "df_proj_7_15 = pd.read_csv('https://raw.githubusercontent.com/andrewwells991/mds_thesis/main/data/3_combined_pixel_ob_data/proj_7_15_yr_21_combined_pixel_ob.csv')"
      ],
      "metadata": {
        "id": "LKIg_-BtXbsL"
      },
      "execution_count": null,
      "outputs": []
    },
    {
      "cell_type": "code",
      "source": [
        "%%capture\n",
        "#Project 10\n",
        "df_proj_10_1 = pd.read_csv('https://raw.githubusercontent.com/andrewwells991/mds_thesis/main/data/3_combined_pixel_ob_data/proj_10_1_yr_21_combined_pixel_ob.csv')\n",
        "df_proj_10_2 = pd.read_csv('https://raw.githubusercontent.com/andrewwells991/mds_thesis/main/data/3_combined_pixel_ob_data/proj_10_2_yr_21_combined_pixel_ob.csv')\n",
        "df_proj_10_3 = pd.read_csv('https://raw.githubusercontent.com/andrewwells991/mds_thesis/main/data/3_combined_pixel_ob_data/proj_10_3_yr_21_combined_pixel_ob.csv')"
      ],
      "metadata": {
        "id": "rDWzh1N1Yhiu"
      },
      "execution_count": null,
      "outputs": []
    },
    {
      "cell_type": "code",
      "source": [
        "%%capture\n",
        "#Project 13\n",
        "#df_proj_13_2 = pd.read_csv('https://raw.githubusercontent.com/andrewwells991/mds_thesis/main/data/3_combined_pixel_ob_data/proj_13_2_yr_21_combined_pixel_ob.csv')\n",
        "#df_proj_13_3 = pd.read_csv('https://raw.githubusercontent.com/andrewwells991/mds_thesis/main/data/3_combined_pixel_ob_data/proj_13_3_yr_21_combined_pixel_ob.csv')\n",
        "#df_proj_13_5 = pd.read_csv('https://raw.githubusercontent.com/andrewwells991/mds_thesis/main/data/3_combined_pixel_ob_data/proj_13_5_yr_21_combined_pixel_ob.csv')\n",
        "#df_proj_13_6 = pd.read_csv('https://raw.githubusercontent.com/andrewwells991/mds_thesis/main/data/3_combined_pixel_ob_data/proj_13_6_yr_21_combined_pixel_ob.csv')\n",
        "#df_proj_13_7 = pd.read_csv('https://raw.githubusercontent.com/andrewwells991/mds_thesis/main/data/3_combined_pixel_ob_data/proj_13_7_yr_21_combined_pixel_ob.csv')\n",
        "df_proj_13_10 = pd.read_csv('https://raw.githubusercontent.com/andrewwells991/mds_thesis/main/data/3_combined_pixel_ob_data/proj_13_10_yr_21_combined_pixel_ob.csv')"
      ],
      "metadata": {
        "id": "U4LeLlXKYruR"
      },
      "execution_count": null,
      "outputs": []
    },
    {
      "cell_type": "code",
      "source": [
        "%%capture\n",
        "#Project 16\n",
        "#df_proj_16_1 = pd.read_csv('https://raw.githubusercontent.com/andrewwells991/mds_thesis/main/data/3_combined_pixel_ob_data/proj_16_1_yr_21_combined_pixel_ob.csv')\n",
        "#df_proj_16_2 = pd.read_csv('https://raw.githubusercontent.com/andrewwells991/mds_thesis/main/data/3_combined_pixel_ob_data/proj_16_2_yr_21_combined_pixel_ob.csv')\n",
        "df_proj_16_3 = pd.read_csv('https://raw.githubusercontent.com/andrewwells991/mds_thesis/main/data/3_combined_pixel_ob_data/proj_16_3_yr_21_combined_pixel_ob.csv')\n",
        "#df_proj_16_4 = pd.read_csv('https://raw.githubusercontent.com/andrewwells991/mds_thesis/main/data/3_combined_pixel_ob_data/proj_16_4_yr_21_combined_pixel_ob.csv')"
      ],
      "metadata": {
        "id": "8onjsLxsZFz9"
      },
      "execution_count": null,
      "outputs": []
    },
    {
      "cell_type": "markdown",
      "source": [
        "Creating lists"
      ],
      "metadata": {
        "id": "99jGL7J4VujF"
      }
    },
    {
      "cell_type": "code",
      "source": [
        "proj_2_list = [df_proj_2_5,\n",
        "         df_proj_2_6,\n",
        "         df_proj_2_8,\n",
        "         df_proj_2_8,\n",
        "         df_proj_2_10,\n",
        "         df_proj_2_11,\n",
        "         df_proj_2_12,\n",
        "         df_proj_2_13,\n",
        "         df_proj_2_14,\n",
        "         df_proj_2_15,\n",
        "         df_proj_2_16,\n",
        "         df_proj_2_17,\n",
        "         df_proj_2_18,\n",
        "         df_proj_2_19,\n",
        "         df_proj_2_20,\n",
        "         df_proj_2_21,\n",
        "         df_proj_2_22,\n",
        "         df_proj_2_23,\n",
        "         df_proj_2_24,\n",
        "         df_proj_2_25,\n",
        "         df_proj_2_26,\n",
        "         df_proj_2_27,\n",
        "         df_proj_2_28\n",
        "         ]"
      ],
      "metadata": {
        "id": "_aE8jupoVvvO"
      },
      "execution_count": null,
      "outputs": []
    },
    {
      "cell_type": "code",
      "source": [
        "proj_4_list = [df_proj_4_1,\n",
        "         #df_proj_4_2,\n",
        "         df_proj_4_5,\n",
        "         df_proj_4_8,\n",
        "         df_proj_4_9,\n",
        "         df_proj_4_13,\n",
        "         #df_proj_4_14,\n",
        "         #df_proj_4_17,\n",
        "         #df_proj_4_19,\n",
        "         #df_proj_4_22\n",
        "         ]"
      ],
      "metadata": {
        "id": "PX4WwLJXpenS"
      },
      "execution_count": null,
      "outputs": []
    },
    {
      "cell_type": "code",
      "source": [
        "proj_7_list = [#df_proj_7_1,\n",
        "         df_proj_7_2,\n",
        "         df_proj_7_3,\n",
        "         df_proj_7_4,\n",
        "         df_proj_7_6,\n",
        "         df_proj_7_7,\n",
        "         #df_proj_7_9,\n",
        "         df_proj_7_10,\n",
        "         df_proj_7_12,\n",
        "         df_proj_7_13,\n",
        "         df_proj_7_14,\n",
        "         df_proj_7_15\n",
        "         ]"
      ],
      "metadata": {
        "id": "zEoRNuOgYYhw"
      },
      "execution_count": null,
      "outputs": []
    },
    {
      "cell_type": "code",
      "source": [
        "proj_10_list = [df_proj_10_1,\n",
        "                df_proj_10_2,\n",
        "                df_proj_10_3\n",
        "                ]"
      ],
      "metadata": {
        "id": "cpHm_8sfZ77E"
      },
      "execution_count": null,
      "outputs": []
    },
    {
      "cell_type": "code",
      "source": [
        "proj_13_list = [#df_proj_13_2,\n",
        "                #df_proj_13_3,\n",
        "                #df_proj_13_5,\n",
        "                #df_proj_13_6,\n",
        "                #df_proj_13_6,\n",
        "                df_proj_13_10\n",
        "                ]"
      ],
      "metadata": {
        "id": "BW17oUA3Z-Vy"
      },
      "execution_count": null,
      "outputs": []
    },
    {
      "cell_type": "code",
      "source": [
        "proj_16_list = [#df_proj_16_1,\n",
        "                #df_proj_16_2,\n",
        "                df_proj_16_3,\n",
        "                #df_proj_16_4\n",
        "                ]"
      ],
      "metadata": {
        "id": "YWZoA23lZ-Om"
      },
      "execution_count": null,
      "outputs": []
    },
    {
      "cell_type": "markdown",
      "source": [
        "Joining project sites by project"
      ],
      "metadata": {
        "id": "Dr3ZM7yTaHaK"
      }
    },
    {
      "cell_type": "code",
      "source": [
        "proj_2 = pd.concat(proj_2_list, axis=0, ignore_index=True)\n",
        "proj_4 = pd.concat(proj_4_list, axis=0, ignore_index=True)\n",
        "proj_7 = pd.concat(proj_7_list, axis=0, ignore_index=True)\n",
        "proj_10 = pd.concat(proj_10_list, axis=0, ignore_index=True)\n",
        "proj_13 = pd.concat(proj_13_list, axis=0, ignore_index=True)\n",
        "proj_16 = pd.concat(proj_16_list, axis=0, ignore_index=True)"
      ],
      "metadata": {
        "id": "3_WHXn5gqCgk"
      },
      "execution_count": null,
      "outputs": []
    },
    {
      "cell_type": "code",
      "source": [
        "#Examine columns\n",
        "proj_2.columns"
      ],
      "metadata": {
        "colab": {
          "base_uri": "https://localhost:8080/"
        },
        "id": "m7D8DA_jb2s5",
        "outputId": "8316277b-766d-417b-e9b6-16e136ac58c3"
      },
      "execution_count": null,
      "outputs": [
        {
          "output_type": "execute_result",
          "data": {
            "text/plain": [
              "Index(['Unnamed: 0.1', 'Unnamed: 0', 'B2', 'B3', 'B4', 'B8', 'B11', 'B12',\n",
              "       'row', 'geometry', 'index_right', 'latitude', 'longitude',\n",
              "       'area_in_meters', 'confidence', 'full_plus_code', 'building',\n",
              "       'project'],\n",
              "      dtype='object')"
            ]
          },
          "metadata": {},
          "execution_count": 21
        }
      ]
    },
    {
      "cell_type": "markdown",
      "source": [
        "Removing unnecessary variables"
      ],
      "metadata": {
        "id": "Ukg2WQUrXV2e"
      }
    },
    {
      "cell_type": "code",
      "source": [
        "proj_2 = proj_2.drop(columns = ['Unnamed: 0.1', 'Unnamed: 0'])"
      ],
      "metadata": {
        "id": "p1h_8urVqK-1"
      },
      "execution_count": null,
      "outputs": []
    },
    {
      "cell_type": "code",
      "source": [
        "proj_4 = proj_4.drop(columns = ['Unnamed: 0'])"
      ],
      "metadata": {
        "id": "UhUASZWbWXXG"
      },
      "execution_count": null,
      "outputs": []
    },
    {
      "cell_type": "code",
      "source": [
        "proj_7 = proj_7.drop(columns = ['Unnamed: 0'])"
      ],
      "metadata": {
        "id": "m62qJ0WyWXOb"
      },
      "execution_count": null,
      "outputs": []
    },
    {
      "cell_type": "code",
      "source": [
        "proj_10 = proj_10.drop(columns = ['Unnamed: 0'])"
      ],
      "metadata": {
        "id": "3CD_EhwEWWu2"
      },
      "execution_count": null,
      "outputs": []
    },
    {
      "cell_type": "code",
      "source": [
        "proj_13 = proj_13.drop(columns = ['Unnamed: 0'])"
      ],
      "metadata": {
        "id": "g8SlhuGfWaNj"
      },
      "execution_count": null,
      "outputs": []
    },
    {
      "cell_type": "code",
      "source": [
        "proj_16 = proj_16.drop(columns = ['Unnamed: 0'])"
      ],
      "metadata": {
        "id": "TyLppMMCWg-D"
      },
      "execution_count": null,
      "outputs": []
    },
    {
      "cell_type": "markdown",
      "source": [
        "Create buildings_sum column of total number of building pixels at each project site"
      ],
      "metadata": {
        "id": "R7H94BEwaeP1"
      }
    },
    {
      "cell_type": "code",
      "source": [
        "proj_2['building_sum'] = proj_2.groupby('project')['building'].transform('sum')\n",
        "proj_4['building_sum'] = proj_4.groupby('project')['building'].transform('sum')\n",
        "proj_7['building_sum'] = proj_7.groupby('project')['building'].transform('sum')\n",
        "proj_10['building_sum'] = proj_10.groupby('project')['building'].transform('sum')\n",
        "proj_13['building_sum'] = proj_13.groupby('project')['building'].transform('sum')\n",
        "proj_16['building_sum'] = proj_16.groupby('project')['building'].transform('sum')"
      ],
      "metadata": {
        "id": "ASpVs6s2rlXQ"
      },
      "execution_count": null,
      "outputs": []
    },
    {
      "cell_type": "code",
      "source": [
        "proj_2.groupby('project')['building'].sum()"
      ],
      "metadata": {
        "colab": {
          "base_uri": "https://localhost:8080/"
        },
        "id": "BGWzJQ1zR8__",
        "outputId": "44986a25-5a20-4839-e16c-86fac324956b"
      },
      "execution_count": null,
      "outputs": [
        {
          "output_type": "execute_result",
          "data": {
            "text/plain": [
              "project\n",
              "proj_2_10    3568\n",
              "proj_2_11     704\n",
              "proj_2_12    8053\n",
              "proj_2_13    2815\n",
              "proj_2_14     812\n",
              "proj_2_16     115\n",
              "proj_2_17     745\n",
              "proj_2_18    4822\n",
              "proj_2_19    1985\n",
              "proj_2_20    1786\n",
              "proj_2_21    2710\n",
              "proj_2_22    3735\n",
              "proj_2_23    1164\n",
              "proj_2_24    5518\n",
              "proj_2_25     713\n",
              "proj_2_26     872\n",
              "proj_2_27    1622\n",
              "proj_2_28     131\n",
              "proj_2_5     4491\n",
              "proj_2_6      237\n",
              "proj_2_8      884\n",
              "Name: building, dtype: int64"
            ]
          },
          "metadata": {},
          "execution_count": 26
        }
      ]
    },
    {
      "cell_type": "code",
      "source": [
        "print(proj_2['building_sum'].mean())\n",
        "print(proj_4['building_sum'].mean())\n",
        "print(proj_7['building_sum'].mean())\n",
        "print(proj_10['building_sum'].mean())\n",
        "print(proj_13['building_sum'].mean())\n",
        "print(proj_16['building_sum'].mean())"
      ],
      "metadata": {
        "colab": {
          "base_uri": "https://localhost:8080/"
        },
        "id": "6e-ZDB39sg0f",
        "outputId": "089d7dc7-3fbd-4992-a23d-be9f8e92b93d"
      },
      "execution_count": null,
      "outputs": [
        {
          "output_type": "stream",
          "name": "stdout",
          "text": [
            "2114.0313094376806\n",
            "413.43004525523247\n",
            "1915.210808056979\n",
            "274.6452373191585\n",
            "127.0\n",
            "82.0\n"
          ]
        }
      ]
    },
    {
      "cell_type": "markdown",
      "source": [
        "Add urban_rural variable"
      ],
      "metadata": {
        "id": "_5XL2fdpatiD"
      }
    },
    {
      "cell_type": "code",
      "source": [
        "def add_urban_rural(df):\n",
        "    conditions = [\n",
        "        df['building_sum'] < 300,\n",
        "        (df['building_sum'] >= 300) & (df['building_sum'] < 1500),\n",
        "        df['building_sum'] >= 1500\n",
        "    ]\n",
        "    values = ['rural', 'semi_urban', 'urban']\n",
        "    df['urban_rural'] = np.select(conditions, values)\n",
        "    return df"
      ],
      "metadata": {
        "id": "BgDD06gUyK3r"
      },
      "execution_count": null,
      "outputs": []
    },
    {
      "cell_type": "code",
      "source": [
        "# apply the function to each dataframe\n",
        "for df in [proj_2, proj_4, proj_7, proj_10, proj_13, proj_16]:\n",
        "    df = add_urban_rural(df)"
      ],
      "metadata": {
        "id": "e7ZvSthTa1wI"
      },
      "execution_count": null,
      "outputs": []
    },
    {
      "cell_type": "code",
      "source": [
        "#Inspecting urban_rural breakdown in each dataframe\n",
        "for df in [proj_2, proj_4, proj_7, proj_10, proj_13, proj_16]:\n",
        "    df = add_urban_rural(df)\n",
        "    print(df['urban_rural'].value_counts())"
      ],
      "metadata": {
        "colab": {
          "base_uri": "https://localhost:8080/"
        },
        "id": "aFzaRz5ylMEd",
        "outputId": "376dfd35-3570-4ae6-b527-8c836ac1dc2b"
      },
      "execution_count": null,
      "outputs": [
        {
          "output_type": "stream",
          "name": "stdout",
          "text": [
            "urban         438172\n",
            "semi_urban    318767\n",
            "rural         159462\n",
            "Name: urban_rural, dtype: int64\n",
            "semi_urban    159307\n",
            "rural          39786\n",
            "Name: urban_rural, dtype: int64\n",
            "urban         239032\n",
            "semi_urban    119558\n",
            "rural          39872\n",
            "Name: urban_rural, dtype: int64\n",
            "semi_urban    79755\n",
            "rural         39894\n",
            "Name: urban_rural, dtype: int64\n",
            "rural    39894\n",
            "Name: urban_rural, dtype: int64\n",
            "rural    39862\n",
            "Name: urban_rural, dtype: int64\n"
          ]
        }
      ]
    },
    {
      "cell_type": "markdown",
      "source": [
        "Apply additional variables"
      ],
      "metadata": {
        "id": "EFfZ6HWgbKS3"
      }
    },
    {
      "cell_type": "code",
      "source": [
        "#Project 2: Road Maintenance and Rehabilitation Project\n",
        "proj_2['proj_name'] = 'Road Maintenance and Rehabilitation Project'\n",
        "proj_2['start_date'] = '1999-06-10'\n",
        "proj_2['end_dat'] = '2006-06-30'\n",
        "proj_2['total_commitment'] = '39500000'\n",
        "proj_2['total_disbursement'] = '41032113'\n",
        "proj_2['sectors'] = 'Roads and highways; Central Government (Central Agencies); Other Industry, Trade and Services'\n",
        "proj_2['ieg_outcome'] = 'Moderately satisfactory'"
      ],
      "metadata": {
        "id": "juK5Sh4RbNBB"
      },
      "execution_count": null,
      "outputs": []
    },
    {
      "cell_type": "code",
      "source": [
        "#Project 4: Social Action Fund Project\n",
        "proj_4['proj_name'] = 'Social Action Fund Project'\n",
        "proj_4['start_date'] = '1999-05-09'\n",
        "proj_4['end_dat'] = '2001-12-31'\n",
        "proj_4['total_commitment'] = '76401764'\n",
        "proj_4['total_disbursement'] = '70565020'\n",
        "proj_4['sectors'] = 'Social Protection; Primary Education; Sub-National Government'\n",
        "proj_4['ieg_outcome'] = 'Satisfactory'"
      ],
      "metadata": {
        "id": "zqh77EZD0ekE"
      },
      "execution_count": null,
      "outputs": []
    },
    {
      "cell_type": "code",
      "source": [
        "#Project 7: Infrastructure Services\n",
        "proj_7['proj_name'] = 'Infrastructure Services'\n",
        "proj_7['start_date'] = '2006-06-27'\n",
        "proj_7['end_dat'] = '2012-12_13'\n",
        "proj_7['total_commitment'] = '43924131'\n",
        "proj_7['total_disbursement'] = '31313070'\n",
        "proj_7['sectors'] = 'Rural and Inter-Urban Roads; Other Water Supply, Sanitation and Waste Management; Energy Transmission and Distribution'\n",
        "proj_7['ieg_outcome'] = 'Moderately Satisfactory'"
      ],
      "metadata": {
        "id": "ZCkD2CYqcC21"
      },
      "execution_count": null,
      "outputs": []
    },
    {
      "cell_type": "code",
      "source": [
        "#Project 10: Community-Based Rural Land Development Project\n",
        "proj_10['proj_name'] = 'Community-Based Rural Land Development Project'\n",
        "proj_10['start_date'] = '2004-04-13'\n",
        "proj_10['end_dat'] = '2011-09-30'\n",
        "proj_10['total_commitment'] = '31623351'\n",
        "proj_10['total_disbursement'] = '39145235'\n",
        "proj_10['sectors'] = 'Other Agriculture, Fishing and Forestry; Sub-National Government; Central Government (Central Agencies)'\n",
        "proj_10['ieg_outcome'] = 'Satisfactory'"
      ],
      "metadata": {
        "id": "46C-SDAXcCup"
      },
      "execution_count": null,
      "outputs": []
    },
    {
      "cell_type": "code",
      "source": [
        "#Project 13: \n",
        "proj_13['proj_name'] = 'Irrigation, Rural Livelihoods and Agricultural Development Project'\n",
        "proj_13['start_date'] = '2005-11-29'\n",
        "proj_13['end_dat'] = '2015-06-30'\n",
        "proj_13['total_commitment'] = '45343444'\n",
        "proj_13['total_disbursement'] = '46373757'\n",
        "proj_13['sectors'] = 'Other Agriculture, Fishing and Forestry; Irrigation and Drainage; Agricultural Extension, Research, and Other Support Activities'\n",
        "proj_13['ieg_outcome'] = 'Satisfactory'"
      ],
      "metadata": {
        "id": "SBA7AsarcCmj"
      },
      "execution_count": null,
      "outputs": []
    },
    {
      "cell_type": "code",
      "source": [
        "#Project 16: Community Based Rural Land Development Project\n",
        "proj_16['proj_name'] = 'Community Based Rural Land Development Project'\n",
        "proj_16['start_date'] = '2009-11-19'\n",
        "proj_16['end_dat'] = '2013-01-31'\n",
        "proj_16['total_commitment'] = '10349647'\n",
        "proj_16['total_disbursement'] = 'NA'\n",
        "proj_16['sectors'] = 'Public Administration - Agriculture, Fishing & Forestry; Other Agriculture, Fishing and Forestry'\n",
        "proj_16['ieg_outcome'] = 'Satisfactory'"
      ],
      "metadata": {
        "id": "svmmqcH8cCer"
      },
      "execution_count": null,
      "outputs": []
    },
    {
      "cell_type": "markdown",
      "source": [
        "Saving to Drive"
      ],
      "metadata": {
        "id": "kg3F-cBrfy9x"
      }
    },
    {
      "cell_type": "code",
      "source": [
        "path = '/content/gdrive/My Drive/mds_thesis/5_labelled_data/proj_2.csv'\n",
        "\n",
        "with open(path, 'w', encoding = 'utf-8-sig') as f:  \n",
        "  proj_2.to_csv(f)"
      ],
      "metadata": {
        "id": "DUiXDrZxfyxY"
      },
      "execution_count": null,
      "outputs": []
    },
    {
      "cell_type": "code",
      "source": [
        "path = '/content/gdrive/My Drive/mds_thesis/5_labelled_data/proj_4.csv'\n",
        "\n",
        "with open(path, 'w', encoding = 'utf-8-sig') as f:  \n",
        "  proj_4.to_csv(f)"
      ],
      "metadata": {
        "id": "o8cWw5VKfyu3"
      },
      "execution_count": null,
      "outputs": []
    },
    {
      "cell_type": "code",
      "source": [
        "path = '/content/gdrive/My Drive/mds_thesis/5_labelled_data/proj_7.csv'\n",
        "\n",
        "with open(path, 'w', encoding = 'utf-8-sig') as f:  \n",
        "  proj_7.to_csv(f)"
      ],
      "metadata": {
        "id": "WWc3JeYvfysb"
      },
      "execution_count": null,
      "outputs": []
    },
    {
      "cell_type": "code",
      "source": [
        "path = '/content/gdrive/My Drive/mds_thesis/5_labelled_data/proj_10.csv'\n",
        "\n",
        "with open(path, 'w', encoding = 'utf-8-sig') as f:  \n",
        "  proj_10.to_csv(f)"
      ],
      "metadata": {
        "id": "n35AdFWRfydl"
      },
      "execution_count": null,
      "outputs": []
    },
    {
      "cell_type": "code",
      "source": [
        "path = '/content/gdrive/My Drive/mds_thesis/5_labelled_data/proj_13.csv'\n",
        "\n",
        "with open(path, 'w', encoding = 'utf-8-sig') as f:  \n",
        "  proj_13.to_csv(f)"
      ],
      "metadata": {
        "id": "roQQjV4z4eqP"
      },
      "execution_count": null,
      "outputs": []
    },
    {
      "cell_type": "code",
      "source": [
        "path = '/content/gdrive/My Drive/mds_thesis/5_labelled_data/proj_16.csv'\n",
        "\n",
        "with open(path, 'w', encoding = 'utf-8-sig') as f:  \n",
        "  proj_16.to_csv(f)"
      ],
      "metadata": {
        "id": "VISyd5O5gTau"
      },
      "execution_count": null,
      "outputs": []
    },
    {
      "cell_type": "markdown",
      "source": [
        "Join all datasets and save in same folder"
      ],
      "metadata": {
        "id": "ml3_KVOMosYc"
      }
    },
    {
      "cell_type": "code",
      "source": [
        "proj_all = pd.concat([proj_2, proj_4, proj_7, proj_10, proj_13, proj_16])"
      ],
      "metadata": {
        "id": "8voO8eu2o-LP"
      },
      "execution_count": null,
      "outputs": []
    },
    {
      "cell_type": "code",
      "source": [
        "proj_all.shape"
      ],
      "metadata": {
        "colab": {
          "base_uri": "https://localhost:8080/"
        },
        "id": "9hhMUV-1CsIN",
        "outputId": "d3c69f49-98a3-4940-a49d-b3bef15bee56"
      },
      "execution_count": null,
      "outputs": [
        {
          "output_type": "execute_result",
          "data": {
            "text/plain": [
              "(1673486, 25)"
            ]
          },
          "metadata": {},
          "execution_count": 60
        }
      ]
    },
    {
      "cell_type": "markdown",
      "source": [
        "Add variable for project location (from original Aid Data df)"
      ],
      "metadata": {
        "id": "NLBHIyJP0wbc"
      }
    },
    {
      "cell_type": "code",
      "source": [
        "#Import df with location names\n",
        "place_name = pd.read_csv('/content/gdrive/MyDrive/mds_thesis/7_place_name/place_name.csv')"
      ],
      "metadata": {
        "id": "1ImA0OYd08ko"
      },
      "execution_count": null,
      "outputs": []
    },
    {
      "cell_type": "code",
      "source": [
        "#Create project_site column in proj_all df\n",
        "proj_all['project_site'] = proj_all['project'].str.replace('proj_', '')"
      ],
      "metadata": {
        "id": "yGWAi28x0qmb"
      },
      "execution_count": null,
      "outputs": []
    },
    {
      "cell_type": "code",
      "source": [
        "df = pd.merge(proj_all, place_name, on='project_site')\n",
        "df = df.drop(columns = ['project_site'])"
      ],
      "metadata": {
        "id": "av3EmsN209rw"
      },
      "execution_count": null,
      "outputs": []
    },
    {
      "cell_type": "code",
      "source": [
        "df.columns"
      ],
      "metadata": {
        "colab": {
          "base_uri": "https://localhost:8080/"
        },
        "id": "wz-ZLHAQGCZz",
        "outputId": "b7941986-99cf-45b9-9dfc-f0e0a3ea5563"
      },
      "execution_count": null,
      "outputs": [
        {
          "output_type": "execute_result",
          "data": {
            "text/plain": [
              "Index(['B2', 'B3', 'B4', 'B8', 'B11', 'B12', 'row', 'geometry', 'index_right',\n",
              "       'latitude', 'longitude', 'area_in_meters', 'confidence',\n",
              "       'full_plus_code', 'building', 'project', 'building_sum', 'urban_rural',\n",
              "       'proj_name', 'start_date', 'end_dat', 'total_commitment',\n",
              "       'total_disbursement', 'sectors', 'ieg_outcome', 'place_name'],\n",
              "      dtype='object')"
            ]
          },
          "metadata": {},
          "execution_count": 45
        }
      ]
    },
    {
      "cell_type": "code",
      "source": [
        "#Remove airport project\n",
        "df = df[df.place_name != 'Kamuzu International Airport']"
      ],
      "metadata": {
        "id": "fQO4eLviFW6F"
      },
      "execution_count": null,
      "outputs": []
    },
    {
      "cell_type": "code",
      "source": [
        "df.shape"
      ],
      "metadata": {
        "colab": {
          "base_uri": "https://localhost:8080/"
        },
        "id": "rqR43rXyGsTR",
        "outputId": "9c32aabd-23af-4ea5-8917-31c2b4bbbdf6"
      },
      "execution_count": null,
      "outputs": [
        {
          "output_type": "execute_result",
          "data": {
            "text/plain": [
              "(1673534, 26)"
            ]
          },
          "metadata": {},
          "execution_count": 47
        }
      ]
    },
    {
      "cell_type": "code",
      "source": [
        "path = '/content/gdrive/My Drive/mds_thesis/5_labelled_data/proj_all.csv'\n",
        "\n",
        "with open(path, 'w', encoding = 'utf-8-sig') as f:  \n",
        "  df.to_csv(f)"
      ],
      "metadata": {
        "id": "6ljMrn0gpOcj"
      },
      "execution_count": null,
      "outputs": []
    }
  ]
}