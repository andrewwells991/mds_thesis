{
  "nbformat": 4,
  "nbformat_minor": 0,
  "metadata": {
    "colab": {
      "provenance": [],
      "mount_file_id": "1ipCPdkWggIgCjJyZS9_yQfkWgez9x8W5",
      "authorship_tag": "ABX9TyMC6WzMYUnfT/DM1c3SZbYC",
      "include_colab_link": true
    },
    "kernelspec": {
      "name": "python3",
      "display_name": "Python 3"
    },
    "language_info": {
      "name": "python"
    },
    "accelerator": "GPU",
    "gpuClass": "standard"
  },
  "cells": [
    {
      "cell_type": "markdown",
      "metadata": {
        "id": "view-in-github",
        "colab_type": "text"
      },
      "source": [
        "<a href=\"https://colab.research.google.com/github/andrewwells991/mds_thesis/blob/main/4_open_buildings_cleaning_malawi.ipynb\" target=\"_parent\"><img src=\"https://colab.research.google.com/assets/colab-badge.svg\" alt=\"Open In Colab\"/></a>"
      ]
    },
    {
      "cell_type": "markdown",
      "source": [
        "Open Buildings data consists of polygon coordinates for identified buildings in Africa at the time the research took place, 2021. \n",
        "Data from Open Buildings can be downloaded here: https://sites.research.google/open-buildings/#download. Through this webpage, one can download data from a certain region by clicking on the panel.\n",
        "\n",
        "The datasets containing data on buildings in Malawi were found in panels 18d, 18f, 191 and 193. Once these panels were downloaded and uploaded onto Google Drive, they were joined and reduced to coordinates of a rectangle surrounding Malawi. \n",
        "\n",
        "As these data files are relatively large (>= 2 GB), the process of joining the four panels was completed in several steps to avoid requiring too much RAM."
      ],
      "metadata": {
        "id": "wCAcK1QRMXXE"
      }
    },
    {
      "cell_type": "code",
      "execution_count": null,
      "metadata": {
        "colab": {
          "base_uri": "https://localhost:8080/"
        },
        "id": "5mQjKiXU1tQx",
        "outputId": "2c4440f4-edb2-4e04-988b-4091505bf5d5"
      },
      "outputs": [
        {
          "output_type": "stream",
          "name": "stdout",
          "text": [
            "Mounted at /content/gdrive\n"
          ]
        }
      ],
      "source": [
        "from google.colab import drive\n",
        "drive.mount('/content/gdrive')"
      ]
    },
    {
      "cell_type": "code",
      "source": [
        "import pandas as pd"
      ],
      "metadata": {
        "id": "-4fxmBT23-em"
      },
      "execution_count": null,
      "outputs": []
    },
    {
      "cell_type": "code",
      "source": [
        "#Southeast\n",
        "\n",
        "panel_18d = pd.read_csv('/content/gdrive/MyDrive/open_buildings/malawi/18d_buildings.csv')"
      ],
      "metadata": {
        "id": "r0uKJw6RUkCu"
      },
      "execution_count": null,
      "outputs": []
    },
    {
      "cell_type": "code",
      "source": [
        "#Northeast\n",
        "\n",
        "panel_18f = pd.read_csv('/content/gdrive/MyDrive/open_buildings/malawi/18f_buildings.csv')"
      ],
      "metadata": {
        "id": "r8b3xP5kWSqH"
      },
      "execution_count": null,
      "outputs": []
    },
    {
      "cell_type": "code",
      "source": [
        "#Northwest\n",
        "\n",
        "panel_191 = pd.read_csv('/content/gdrive/MyDrive/open_buildings/malawi/191_buildings.csv')"
      ],
      "metadata": {
        "id": "ZcUORWlFWSix"
      },
      "execution_count": null,
      "outputs": []
    },
    {
      "cell_type": "code",
      "source": [
        "#Southwest\n",
        "\n",
        "panel_193 = pd.read_csv('/content/gdrive/MyDrive/open_buildings/malawi/193_buildings.csv')"
      ],
      "metadata": {
        "id": "q-N_R6Dm3_FL"
      },
      "execution_count": null,
      "outputs": []
    },
    {
      "cell_type": "code",
      "source": [
        "#Bind dataframes to get panels completely surrounding Malawi\n",
        "open_buildings_partial = pd.concat([panel_18d, panel_18f, panel_191])\n",
        "\n",
        "#Add Southwest (panel_193) after"
      ],
      "metadata": {
        "id": "2FQBHBr64BR-"
      },
      "execution_count": null,
      "outputs": []
    },
    {
      "cell_type": "code",
      "source": [
        "#Saving df to drive\n",
        "open_buildings_partial.to_csv('/content/gdrive/MyDrive/open_buildings/malawi/open_buildings_partial.csv', encoding='utf-8', index=False)"
      ],
      "metadata": {
        "id": "qG4SDrpCeWj_"
      },
      "execution_count": null,
      "outputs": []
    },
    {
      "cell_type": "code",
      "source": [
        "#Loading partial df\n",
        "mal_partial = pd.read_csv('/content/gdrive/MyDrive/open_buildings/malawi/open_buildings_partial.csv')"
      ],
      "metadata": {
        "id": "JDN8bJtLqNen"
      },
      "execution_count": null,
      "outputs": []
    },
    {
      "cell_type": "code",
      "source": [
        "ob_malawi_partial = mal_partial[(mal_partial['latitude'] > -17.15) &\n",
        "                                (mal_partial['latitude'] < -9.3) &\n",
        "                                (mal_partial['longitude'] > 32.70) &\n",
        "                                (mal_partial['longitude'] < 35.95)].copy()"
      ],
      "metadata": {
        "id": "GuMsoG7yqNDd"
      },
      "execution_count": null,
      "outputs": []
    },
    {
      "cell_type": "code",
      "source": [
        "#Saving partial Malawi df to drive\n",
        "ob_malawi_partial.to_csv('/content/gdrive/MyDrive/open_buildings/malawi/open_buildings_partial_2.csv', encoding='utf-8', index=False)"
      ],
      "metadata": {
        "id": "JfQh6VGPqM0y"
      },
      "execution_count": null,
      "outputs": []
    },
    {
      "cell_type": "markdown",
      "source": [
        "Reloading data to make full Malawi df (Don't touch above)"
      ],
      "metadata": {
        "id": "bDqB4O_yhHoE"
      }
    },
    {
      "cell_type": "code",
      "source": [
        "mal_partial = pd.read_csv('/content/gdrive/MyDrive/open_buildings/malawi/open_buildings_partial_2.csv')"
      ],
      "metadata": {
        "id": "w7X5O2DdrPXf"
      },
      "execution_count": null,
      "outputs": []
    },
    {
      "cell_type": "code",
      "source": [
        "#Southwest\n",
        "\n",
        "panel_193 = pd.read_csv('/content/gdrive/MyDrive/open_buildings/malawi/193_buildings.csv')"
      ],
      "metadata": {
        "id": "l5PoCy2zhEVR"
      },
      "execution_count": null,
      "outputs": []
    },
    {
      "cell_type": "code",
      "source": [
        "open_buildings_whole = pd.concat([mal_partial_2, panel_193])"
      ],
      "metadata": {
        "id": "Q_HrLTolhbwU"
      },
      "execution_count": null,
      "outputs": []
    },
    {
      "cell_type": "code",
      "source": [
        "#Reduce combined dataframe to form rectangle around Malawi:\n",
        "#Most northern point: -9.366667 (< -9.3)\n",
        "#Most southern point: -17.116667 (> -17.15)\n",
        "#Most eastern point: 35.916667 (< 35.95)\n",
        "#Most western point: 32.666667 (> 32.70)\n",
        "\n",
        "ob_malawi = open_buildings_whole[(open_buildings_whole['latitude'] > -17.15) &\n",
        "                                (open_buildings_whole['latitude'] < -9.3) &\n",
        "                                (open_buildings_whole['longitude'] > 32.70) &\n",
        "                                (open_buildings_whole['longitude'] < 35.95)].copy()"
      ],
      "metadata": {
        "id": "Ag7vkj0t4Dii"
      },
      "execution_count": null,
      "outputs": []
    },
    {
      "cell_type": "code",
      "source": [
        "#Saving partial Malawi df to drive\n",
        "ob_malawi.to_csv('/content/gdrive/MyDrive/open_buildings/malawi/open_buildings_malawi.csv', encoding='utf-8', index=False)"
      ],
      "metadata": {
        "id": "V3w6cqEbziu9"
      },
      "execution_count": null,
      "outputs": []
    }
  ]
}